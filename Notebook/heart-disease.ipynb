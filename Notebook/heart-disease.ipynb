{
 "cells": [
  {
   "cell_type": "markdown",
   "id": "620cfc09-2dd4-4ab6-a54a-8339475aff13",
   "metadata": {},
   "source": [
    "<img src=\"https://i.postimg.cc/ydZcb9cY/Hello.jpg\">"
   ]
  },
  {
   "cell_type": "markdown",
   "id": "9cf1e951-872a-4284-a2d7-1ba9119ca9b5",
   "metadata": {},
   "source": [
    "<img src=\"https://i.postimg.cc/hP7Wmpgx/1h.png\" style=\"display: block; margin-left: auto; margin-right: auto;\">"
   ]
  },
  {
   "cell_type": "markdown",
   "id": "09c9deb8-8a97-433d-b85b-845ffe398360",
   "metadata": {},
   "source": [
    "<img src=\"https://github.com/FarzadNekouee/Heart_Disease_Prediction/blob/master/image.jpg?raw=true\" width=\"1800\">"
   ]
  },
  {
   "cell_type": "markdown",
   "id": "e932339d-c752-4670-9111-07ec1521f63c",
   "metadata": {},
   "source": [
    "<a id=\"import\"></a>\n",
    "# <p style=\"background-color:red; font-family:calibri; color:white; font-size:150%; text-align:center; border-radius:15px 50px;\">Step 1 | Import Libraries</p>\n"
   ]
  },
  {
   "cell_type": "code",
   "execution_count": 1,
   "id": "aggregate-mongolia",
   "metadata": {
    "_cell_guid": "b1076dfc-b9ad-4769-8c92-a6c4dae69d19",
    "_uuid": "8f2839f25d086af736a60e9eeb907d3b93b6e0e5",
    "papermill": {
     "duration": 0.895379,
     "end_time": "2021-10-18T08:01:16.378913",
     "exception": false,
     "start_time": "2021-10-18T08:01:15.483534",
     "status": "completed"
    },
    "tags": []
   },
   "outputs": [],
   "source": [
    "# importing basic libraries\n",
    "import numpy as np\n",
    "import pandas as pd\n",
    "import matplotlib.pyplot as plt\n",
    "import seaborn as sns\n",
    "%matplotlib inline\n",
    "from sklearn.metrics import confusion_matrix, classification_report, accuracy_score, ConfusionMatrixDisplay\n",
    "from sklearn.model_selection import train_test_split\n",
    "from sklearn.linear_model import LogisticRegression\n",
    "from sklearn.neighbors import KNeighborsClassifier\n",
    "from sklearn.svm import SVC\n",
    "from sklearn.ensemble import RandomForestClassifier\n",
    "from sklearn.ensemble import GradientBoostingClassifier\n",
    "from sklearn.tree import DecisionTreeClassifier\n",
    "from sklearn import svm\n",
    "from sklearn.model_selection import GridSearchCV\n",
    "\n",
    "import warnings\n",
    "warnings.filterwarnings(\"ignore\")"
   ]
  },
  {
   "cell_type": "code",
   "execution_count": 2,
   "id": "6dc3c2c5-6c4e-4e05-95f1-3afb76c00a2b",
   "metadata": {},
   "outputs": [
    {
     "data": {
      "text/plain": [
       "'C:\\\\Users\\\\dell'"
      ]
     },
     "execution_count": 2,
     "metadata": {},
     "output_type": "execute_result"
    }
   ],
   "source": [
    "import os\n",
    "os.getcwd()"
   ]
  },
  {
   "cell_type": "code",
   "execution_count": 3,
   "id": "366eba89-a09c-460c-bae0-56a9261e8fad",
   "metadata": {},
   "outputs": [],
   "source": [
    "os.chdir('C:\\\\Users\\\\dell\\\\downloads')"
   ]
  },
  {
   "cell_type": "code",
   "execution_count": 4,
   "id": "ba8ff6bc-5af9-4714-83b6-1f106bb8f011",
   "metadata": {},
   "outputs": [
    {
     "data": {
      "text/plain": [
       "'C:\\\\Users\\\\dell\\\\downloads'"
      ]
     },
     "execution_count": 4,
     "metadata": {},
     "output_type": "execute_result"
    }
   ],
   "source": [
    "import os\n",
    "os.getcwd()"
   ]
  },
  {
   "cell_type": "markdown",
   "id": "6ae72063-7457-4dc3-b5cb-c2a5ab99595d",
   "metadata": {},
   "source": [
    "<a id=\"read\"></a>\n",
    "# <p style=\"background-color:red ; font-family:calibri; color:white; font-size:150%; text-align:center; border-radius:15px 50px;\">Step 2 | Read Dataset</p>"
   ]
  },
  {
   "cell_type": "code",
   "execution_count": 5,
   "id": "overhead-anime",
   "metadata": {
    "papermill": {
     "duration": 0.083269,
     "end_time": "2021-10-18T08:01:16.517097",
     "exception": false,
     "start_time": "2021-10-18T08:01:16.433828",
     "status": "completed"
    },
    "tags": []
   },
   "outputs": [],
   "source": [
    "# loading the dataset\n",
    "df = pd.read_csv('heart.csv')"
   ]
  },
  {
   "cell_type": "code",
   "execution_count": 6,
   "id": "crazy-holly",
   "metadata": {
    "papermill": {
     "duration": 0.085238,
     "end_time": "2021-10-18T08:01:16.656888",
     "exception": false,
     "start_time": "2021-10-18T08:01:16.571650",
     "status": "completed"
    },
    "tags": []
   },
   "outputs": [
    {
     "data": {
      "text/html": [
       "<div>\n",
       "<style scoped>\n",
       "    .dataframe tbody tr th:only-of-type {\n",
       "        vertical-align: middle;\n",
       "    }\n",
       "\n",
       "    .dataframe tbody tr th {\n",
       "        vertical-align: top;\n",
       "    }\n",
       "\n",
       "    .dataframe thead th {\n",
       "        text-align: right;\n",
       "    }\n",
       "</style>\n",
       "<table border=\"1\" class=\"dataframe\">\n",
       "  <thead>\n",
       "    <tr style=\"text-align: right;\">\n",
       "      <th></th>\n",
       "      <th>age</th>\n",
       "      <th>sex</th>\n",
       "      <th>cp</th>\n",
       "      <th>trestbps</th>\n",
       "      <th>chol</th>\n",
       "      <th>fbs</th>\n",
       "      <th>restecg</th>\n",
       "      <th>thalach</th>\n",
       "      <th>exang</th>\n",
       "      <th>oldpeak</th>\n",
       "      <th>slope</th>\n",
       "      <th>ca</th>\n",
       "      <th>thal</th>\n",
       "      <th>target</th>\n",
       "    </tr>\n",
       "  </thead>\n",
       "  <tbody>\n",
       "    <tr>\n",
       "      <th>0</th>\n",
       "      <td>52</td>\n",
       "      <td>1</td>\n",
       "      <td>0</td>\n",
       "      <td>125</td>\n",
       "      <td>212</td>\n",
       "      <td>0</td>\n",
       "      <td>1</td>\n",
       "      <td>168</td>\n",
       "      <td>0</td>\n",
       "      <td>1.0</td>\n",
       "      <td>2</td>\n",
       "      <td>2</td>\n",
       "      <td>3</td>\n",
       "      <td>0</td>\n",
       "    </tr>\n",
       "    <tr>\n",
       "      <th>1</th>\n",
       "      <td>53</td>\n",
       "      <td>1</td>\n",
       "      <td>0</td>\n",
       "      <td>140</td>\n",
       "      <td>203</td>\n",
       "      <td>1</td>\n",
       "      <td>0</td>\n",
       "      <td>155</td>\n",
       "      <td>1</td>\n",
       "      <td>3.1</td>\n",
       "      <td>0</td>\n",
       "      <td>0</td>\n",
       "      <td>3</td>\n",
       "      <td>0</td>\n",
       "    </tr>\n",
       "    <tr>\n",
       "      <th>2</th>\n",
       "      <td>70</td>\n",
       "      <td>1</td>\n",
       "      <td>0</td>\n",
       "      <td>145</td>\n",
       "      <td>174</td>\n",
       "      <td>0</td>\n",
       "      <td>1</td>\n",
       "      <td>125</td>\n",
       "      <td>1</td>\n",
       "      <td>2.6</td>\n",
       "      <td>0</td>\n",
       "      <td>0</td>\n",
       "      <td>3</td>\n",
       "      <td>0</td>\n",
       "    </tr>\n",
       "    <tr>\n",
       "      <th>3</th>\n",
       "      <td>61</td>\n",
       "      <td>1</td>\n",
       "      <td>0</td>\n",
       "      <td>148</td>\n",
       "      <td>203</td>\n",
       "      <td>0</td>\n",
       "      <td>1</td>\n",
       "      <td>161</td>\n",
       "      <td>0</td>\n",
       "      <td>0.0</td>\n",
       "      <td>2</td>\n",
       "      <td>1</td>\n",
       "      <td>3</td>\n",
       "      <td>0</td>\n",
       "    </tr>\n",
       "    <tr>\n",
       "      <th>4</th>\n",
       "      <td>62</td>\n",
       "      <td>0</td>\n",
       "      <td>0</td>\n",
       "      <td>138</td>\n",
       "      <td>294</td>\n",
       "      <td>1</td>\n",
       "      <td>1</td>\n",
       "      <td>106</td>\n",
       "      <td>0</td>\n",
       "      <td>1.9</td>\n",
       "      <td>1</td>\n",
       "      <td>3</td>\n",
       "      <td>2</td>\n",
       "      <td>0</td>\n",
       "    </tr>\n",
       "  </tbody>\n",
       "</table>\n",
       "</div>"
      ],
      "text/plain": [
       "   age  sex  cp  trestbps  chol  fbs  restecg  thalach  exang  oldpeak  slope  \\\n",
       "0   52    1   0       125   212    0        1      168      0      1.0      2   \n",
       "1   53    1   0       140   203    1        0      155      1      3.1      0   \n",
       "2   70    1   0       145   174    0        1      125      1      2.6      0   \n",
       "3   61    1   0       148   203    0        1      161      0      0.0      2   \n",
       "4   62    0   0       138   294    1        1      106      0      1.9      1   \n",
       "\n",
       "   ca  thal  target  \n",
       "0   2     3       0  \n",
       "1   0     3       0  \n",
       "2   0     3       0  \n",
       "3   1     3       0  \n",
       "4   3     2       0  "
      ]
     },
     "execution_count": 6,
     "metadata": {},
     "output_type": "execute_result"
    }
   ],
   "source": [
    "df.head()"
   ]
  },
  {
   "cell_type": "code",
   "execution_count": 7,
   "id": "measured-survivor",
   "metadata": {
    "papermill": {
     "duration": 0.083471,
     "end_time": "2021-10-18T08:01:16.797614",
     "exception": false,
     "start_time": "2021-10-18T08:01:16.714143",
     "status": "completed"
    },
    "tags": []
   },
   "outputs": [
    {
     "data": {
      "text/html": [
       "<div>\n",
       "<style scoped>\n",
       "    .dataframe tbody tr th:only-of-type {\n",
       "        vertical-align: middle;\n",
       "    }\n",
       "\n",
       "    .dataframe tbody tr th {\n",
       "        vertical-align: top;\n",
       "    }\n",
       "\n",
       "    .dataframe thead th {\n",
       "        text-align: right;\n",
       "    }\n",
       "</style>\n",
       "<table border=\"1\" class=\"dataframe\">\n",
       "  <thead>\n",
       "    <tr style=\"text-align: right;\">\n",
       "      <th></th>\n",
       "      <th>age</th>\n",
       "      <th>sex</th>\n",
       "      <th>cp</th>\n",
       "      <th>trestbps</th>\n",
       "      <th>chol</th>\n",
       "      <th>fbs</th>\n",
       "      <th>restecg</th>\n",
       "      <th>thalach</th>\n",
       "      <th>exang</th>\n",
       "      <th>oldpeak</th>\n",
       "      <th>slope</th>\n",
       "      <th>ca</th>\n",
       "      <th>thal</th>\n",
       "      <th>target</th>\n",
       "    </tr>\n",
       "  </thead>\n",
       "  <tbody>\n",
       "    <tr>\n",
       "      <th>1020</th>\n",
       "      <td>59</td>\n",
       "      <td>1</td>\n",
       "      <td>1</td>\n",
       "      <td>140</td>\n",
       "      <td>221</td>\n",
       "      <td>0</td>\n",
       "      <td>1</td>\n",
       "      <td>164</td>\n",
       "      <td>1</td>\n",
       "      <td>0.0</td>\n",
       "      <td>2</td>\n",
       "      <td>0</td>\n",
       "      <td>2</td>\n",
       "      <td>1</td>\n",
       "    </tr>\n",
       "    <tr>\n",
       "      <th>1021</th>\n",
       "      <td>60</td>\n",
       "      <td>1</td>\n",
       "      <td>0</td>\n",
       "      <td>125</td>\n",
       "      <td>258</td>\n",
       "      <td>0</td>\n",
       "      <td>0</td>\n",
       "      <td>141</td>\n",
       "      <td>1</td>\n",
       "      <td>2.8</td>\n",
       "      <td>1</td>\n",
       "      <td>1</td>\n",
       "      <td>3</td>\n",
       "      <td>0</td>\n",
       "    </tr>\n",
       "    <tr>\n",
       "      <th>1022</th>\n",
       "      <td>47</td>\n",
       "      <td>1</td>\n",
       "      <td>0</td>\n",
       "      <td>110</td>\n",
       "      <td>275</td>\n",
       "      <td>0</td>\n",
       "      <td>0</td>\n",
       "      <td>118</td>\n",
       "      <td>1</td>\n",
       "      <td>1.0</td>\n",
       "      <td>1</td>\n",
       "      <td>1</td>\n",
       "      <td>2</td>\n",
       "      <td>0</td>\n",
       "    </tr>\n",
       "    <tr>\n",
       "      <th>1023</th>\n",
       "      <td>50</td>\n",
       "      <td>0</td>\n",
       "      <td>0</td>\n",
       "      <td>110</td>\n",
       "      <td>254</td>\n",
       "      <td>0</td>\n",
       "      <td>0</td>\n",
       "      <td>159</td>\n",
       "      <td>0</td>\n",
       "      <td>0.0</td>\n",
       "      <td>2</td>\n",
       "      <td>0</td>\n",
       "      <td>2</td>\n",
       "      <td>1</td>\n",
       "    </tr>\n",
       "    <tr>\n",
       "      <th>1024</th>\n",
       "      <td>54</td>\n",
       "      <td>1</td>\n",
       "      <td>0</td>\n",
       "      <td>120</td>\n",
       "      <td>188</td>\n",
       "      <td>0</td>\n",
       "      <td>1</td>\n",
       "      <td>113</td>\n",
       "      <td>0</td>\n",
       "      <td>1.4</td>\n",
       "      <td>1</td>\n",
       "      <td>1</td>\n",
       "      <td>3</td>\n",
       "      <td>0</td>\n",
       "    </tr>\n",
       "  </tbody>\n",
       "</table>\n",
       "</div>"
      ],
      "text/plain": [
       "      age  sex  cp  trestbps  chol  fbs  restecg  thalach  exang  oldpeak  \\\n",
       "1020   59    1   1       140   221    0        1      164      1      0.0   \n",
       "1021   60    1   0       125   258    0        0      141      1      2.8   \n",
       "1022   47    1   0       110   275    0        0      118      1      1.0   \n",
       "1023   50    0   0       110   254    0        0      159      0      0.0   \n",
       "1024   54    1   0       120   188    0        1      113      0      1.4   \n",
       "\n",
       "      slope  ca  thal  target  \n",
       "1020      2   0     2       1  \n",
       "1021      1   1     3       0  \n",
       "1022      1   1     2       0  \n",
       "1023      2   0     2       1  \n",
       "1024      1   1     3       0  "
      ]
     },
     "execution_count": 7,
     "metadata": {},
     "output_type": "execute_result"
    }
   ],
   "source": [
    "df.tail()"
   ]
  },
  {
   "cell_type": "markdown",
   "id": "de3559cd-42aa-41c4-bce5-eb94de2e67ac",
   "metadata": {},
   "source": [
    "<div style=\"border-radius:10px; padding: 15px; background-color: #facfc8; font-size:120%; text-align:left\">\n",
    "\n",
    "<h2 align=\"left\"><font color=red>Dataset Description:</font></h2>\n",
    "    \n",
    "| __Variable__ | __Description__ |\n",
    "|     :---      |       :---      |      \n",
    "| __age__ | Age of the patient in years |\n",
    "| __sex__ | Gender of the patient (0 = male, 1 = female) |\n",
    "| __cp__ | Chest pain type: <br> 0: Typical angina <br> 1: Atypical angina <br> 2: Non-anginal pain <br> 3: Asymptomatic |\n",
    "| __trestbps__ | Resting blood pressure in mm Hg |\n",
    "| __chol__ | Serum cholesterol in mg/dl |                     \n",
    "| __fbs__ | Fasting blood sugar level, categorized as above 120 mg/dl (1 = true, 0 = false) |\n",
    "| __restecg__ | Resting electrocardiographic results: <br> 0: Normal <br> 1: Having ST-T wave abnormality <br> 2: Showing probable or definite left ventricular hypertrophy |  \n",
    "| __thalach__ | Maximum heart rate achieved during a stress test |                      \n",
    "| __exang__ | Exercise-induced angina (1 = yes, 0 = no) |\n",
    "| __oldpeak__ | ST depression induced by exercise relative to rest |\n",
    "| __slope__ | Slope of the peak exercise ST segment: <br> 0: Upsloping <br> 1: Flat <br> 2: Downsloping |                      \n",
    "| __ca__ | Number of major vessels (0-4) colored by fluoroscopy |              \n",
    "| __thal__ | Thalium stress test result: <br> 0: Normal <br> 1: Fixed defect <br> 2: Reversible defect <br> 3: Not described  |\n",
    "| __target__ | Heart disease status (0 = no disease, 1 = presence of disease) |"
   ]
  },
  {
   "cell_type": "code",
   "execution_count": 8,
   "id": "concrete-cardiff",
   "metadata": {
    "papermill": {
     "duration": 0.065273,
     "end_time": "2021-10-18T08:01:16.930131",
     "exception": false,
     "start_time": "2021-10-18T08:01:16.864858",
     "status": "completed"
    },
    "tags": []
   },
   "outputs": [
    {
     "data": {
      "text/plain": [
       "(1025, 14)"
      ]
     },
     "execution_count": 8,
     "metadata": {},
     "output_type": "execute_result"
    }
   ],
   "source": [
    "df.shape"
   ]
  },
  {
   "cell_type": "code",
   "execution_count": 9,
   "id": "aggregate-layer",
   "metadata": {
    "papermill": {
     "duration": 0.0803,
     "end_time": "2021-10-18T08:01:17.065779",
     "exception": false,
     "start_time": "2021-10-18T08:01:16.985479",
     "status": "completed"
    },
    "tags": []
   },
   "outputs": [
    {
     "name": "stdout",
     "output_type": "stream",
     "text": [
      "<class 'pandas.core.frame.DataFrame'>\n",
      "RangeIndex: 1025 entries, 0 to 1024\n",
      "Data columns (total 14 columns):\n",
      " #   Column    Non-Null Count  Dtype  \n",
      "---  ------    --------------  -----  \n",
      " 0   age       1025 non-null   int64  \n",
      " 1   sex       1025 non-null   int64  \n",
      " 2   cp        1025 non-null   int64  \n",
      " 3   trestbps  1025 non-null   int64  \n",
      " 4   chol      1025 non-null   int64  \n",
      " 5   fbs       1025 non-null   int64  \n",
      " 6   restecg   1025 non-null   int64  \n",
      " 7   thalach   1025 non-null   int64  \n",
      " 8   exang     1025 non-null   int64  \n",
      " 9   oldpeak   1025 non-null   float64\n",
      " 10  slope     1025 non-null   int64  \n",
      " 11  ca        1025 non-null   int64  \n",
      " 12  thal      1025 non-null   int64  \n",
      " 13  target    1025 non-null   int64  \n",
      "dtypes: float64(1), int64(13)\n",
      "memory usage: 112.2 KB\n"
     ]
    }
   ],
   "source": [
    "#concise summary of our dataset.\n",
    "df.info()"
   ]
  },
  {
   "cell_type": "code",
   "execution_count": 10,
   "id": "italic-quarterly",
   "metadata": {
    "papermill": {
     "duration": 0.153788,
     "end_time": "2021-10-18T08:01:17.277269",
     "exception": false,
     "start_time": "2021-10-18T08:01:17.123481",
     "status": "completed"
    },
    "tags": []
   },
   "outputs": [
    {
     "data": {
      "text/html": [
       "<div>\n",
       "<style scoped>\n",
       "    .dataframe tbody tr th:only-of-type {\n",
       "        vertical-align: middle;\n",
       "    }\n",
       "\n",
       "    .dataframe tbody tr th {\n",
       "        vertical-align: top;\n",
       "    }\n",
       "\n",
       "    .dataframe thead th {\n",
       "        text-align: right;\n",
       "    }\n",
       "</style>\n",
       "<table border=\"1\" class=\"dataframe\">\n",
       "  <thead>\n",
       "    <tr style=\"text-align: right;\">\n",
       "      <th></th>\n",
       "      <th>count</th>\n",
       "      <th>mean</th>\n",
       "      <th>std</th>\n",
       "      <th>min</th>\n",
       "      <th>25%</th>\n",
       "      <th>50%</th>\n",
       "      <th>75%</th>\n",
       "      <th>max</th>\n",
       "    </tr>\n",
       "  </thead>\n",
       "  <tbody>\n",
       "    <tr>\n",
       "      <th>age</th>\n",
       "      <td>1025.0</td>\n",
       "      <td>54.434146</td>\n",
       "      <td>9.072290</td>\n",
       "      <td>29.0</td>\n",
       "      <td>48.0</td>\n",
       "      <td>56.0</td>\n",
       "      <td>61.0</td>\n",
       "      <td>77.0</td>\n",
       "    </tr>\n",
       "    <tr>\n",
       "      <th>sex</th>\n",
       "      <td>1025.0</td>\n",
       "      <td>0.695610</td>\n",
       "      <td>0.460373</td>\n",
       "      <td>0.0</td>\n",
       "      <td>0.0</td>\n",
       "      <td>1.0</td>\n",
       "      <td>1.0</td>\n",
       "      <td>1.0</td>\n",
       "    </tr>\n",
       "    <tr>\n",
       "      <th>cp</th>\n",
       "      <td>1025.0</td>\n",
       "      <td>0.942439</td>\n",
       "      <td>1.029641</td>\n",
       "      <td>0.0</td>\n",
       "      <td>0.0</td>\n",
       "      <td>1.0</td>\n",
       "      <td>2.0</td>\n",
       "      <td>3.0</td>\n",
       "    </tr>\n",
       "    <tr>\n",
       "      <th>trestbps</th>\n",
       "      <td>1025.0</td>\n",
       "      <td>131.611707</td>\n",
       "      <td>17.516718</td>\n",
       "      <td>94.0</td>\n",
       "      <td>120.0</td>\n",
       "      <td>130.0</td>\n",
       "      <td>140.0</td>\n",
       "      <td>200.0</td>\n",
       "    </tr>\n",
       "    <tr>\n",
       "      <th>chol</th>\n",
       "      <td>1025.0</td>\n",
       "      <td>246.000000</td>\n",
       "      <td>51.592510</td>\n",
       "      <td>126.0</td>\n",
       "      <td>211.0</td>\n",
       "      <td>240.0</td>\n",
       "      <td>275.0</td>\n",
       "      <td>564.0</td>\n",
       "    </tr>\n",
       "    <tr>\n",
       "      <th>fbs</th>\n",
       "      <td>1025.0</td>\n",
       "      <td>0.149268</td>\n",
       "      <td>0.356527</td>\n",
       "      <td>0.0</td>\n",
       "      <td>0.0</td>\n",
       "      <td>0.0</td>\n",
       "      <td>0.0</td>\n",
       "      <td>1.0</td>\n",
       "    </tr>\n",
       "    <tr>\n",
       "      <th>restecg</th>\n",
       "      <td>1025.0</td>\n",
       "      <td>0.529756</td>\n",
       "      <td>0.527878</td>\n",
       "      <td>0.0</td>\n",
       "      <td>0.0</td>\n",
       "      <td>1.0</td>\n",
       "      <td>1.0</td>\n",
       "      <td>2.0</td>\n",
       "    </tr>\n",
       "    <tr>\n",
       "      <th>thalach</th>\n",
       "      <td>1025.0</td>\n",
       "      <td>149.114146</td>\n",
       "      <td>23.005724</td>\n",
       "      <td>71.0</td>\n",
       "      <td>132.0</td>\n",
       "      <td>152.0</td>\n",
       "      <td>166.0</td>\n",
       "      <td>202.0</td>\n",
       "    </tr>\n",
       "    <tr>\n",
       "      <th>exang</th>\n",
       "      <td>1025.0</td>\n",
       "      <td>0.336585</td>\n",
       "      <td>0.472772</td>\n",
       "      <td>0.0</td>\n",
       "      <td>0.0</td>\n",
       "      <td>0.0</td>\n",
       "      <td>1.0</td>\n",
       "      <td>1.0</td>\n",
       "    </tr>\n",
       "    <tr>\n",
       "      <th>oldpeak</th>\n",
       "      <td>1025.0</td>\n",
       "      <td>1.071512</td>\n",
       "      <td>1.175053</td>\n",
       "      <td>0.0</td>\n",
       "      <td>0.0</td>\n",
       "      <td>0.8</td>\n",
       "      <td>1.8</td>\n",
       "      <td>6.2</td>\n",
       "    </tr>\n",
       "    <tr>\n",
       "      <th>slope</th>\n",
       "      <td>1025.0</td>\n",
       "      <td>1.385366</td>\n",
       "      <td>0.617755</td>\n",
       "      <td>0.0</td>\n",
       "      <td>1.0</td>\n",
       "      <td>1.0</td>\n",
       "      <td>2.0</td>\n",
       "      <td>2.0</td>\n",
       "    </tr>\n",
       "    <tr>\n",
       "      <th>ca</th>\n",
       "      <td>1025.0</td>\n",
       "      <td>0.754146</td>\n",
       "      <td>1.030798</td>\n",
       "      <td>0.0</td>\n",
       "      <td>0.0</td>\n",
       "      <td>0.0</td>\n",
       "      <td>1.0</td>\n",
       "      <td>4.0</td>\n",
       "    </tr>\n",
       "    <tr>\n",
       "      <th>thal</th>\n",
       "      <td>1025.0</td>\n",
       "      <td>2.323902</td>\n",
       "      <td>0.620660</td>\n",
       "      <td>0.0</td>\n",
       "      <td>2.0</td>\n",
       "      <td>2.0</td>\n",
       "      <td>3.0</td>\n",
       "      <td>3.0</td>\n",
       "    </tr>\n",
       "    <tr>\n",
       "      <th>target</th>\n",
       "      <td>1025.0</td>\n",
       "      <td>0.513171</td>\n",
       "      <td>0.500070</td>\n",
       "      <td>0.0</td>\n",
       "      <td>0.0</td>\n",
       "      <td>1.0</td>\n",
       "      <td>1.0</td>\n",
       "      <td>1.0</td>\n",
       "    </tr>\n",
       "  </tbody>\n",
       "</table>\n",
       "</div>"
      ],
      "text/plain": [
       "           count        mean        std    min    25%    50%    75%    max\n",
       "age       1025.0   54.434146   9.072290   29.0   48.0   56.0   61.0   77.0\n",
       "sex       1025.0    0.695610   0.460373    0.0    0.0    1.0    1.0    1.0\n",
       "cp        1025.0    0.942439   1.029641    0.0    0.0    1.0    2.0    3.0\n",
       "trestbps  1025.0  131.611707  17.516718   94.0  120.0  130.0  140.0  200.0\n",
       "chol      1025.0  246.000000  51.592510  126.0  211.0  240.0  275.0  564.0\n",
       "fbs       1025.0    0.149268   0.356527    0.0    0.0    0.0    0.0    1.0\n",
       "restecg   1025.0    0.529756   0.527878    0.0    0.0    1.0    1.0    2.0\n",
       "thalach   1025.0  149.114146  23.005724   71.0  132.0  152.0  166.0  202.0\n",
       "exang     1025.0    0.336585   0.472772    0.0    0.0    0.0    1.0    1.0\n",
       "oldpeak   1025.0    1.071512   1.175053    0.0    0.0    0.8    1.8    6.2\n",
       "slope     1025.0    1.385366   0.617755    0.0    1.0    1.0    2.0    2.0\n",
       "ca        1025.0    0.754146   1.030798    0.0    0.0    0.0    1.0    4.0\n",
       "thal      1025.0    2.323902   0.620660    0.0    2.0    2.0    3.0    3.0\n",
       "target    1025.0    0.513171   0.500070    0.0    0.0    1.0    1.0    1.0"
      ]
     },
     "execution_count": 10,
     "metadata": {},
     "output_type": "execute_result"
    }
   ],
   "source": [
    "#Generating descriptive statistics.\n",
    "df.describe().T"
   ]
  },
  {
   "cell_type": "markdown",
   "id": "psychological-decrease",
   "metadata": {
    "papermill": {
     "duration": 0.066059,
     "end_time": "2021-10-18T08:01:17.408293",
     "exception": false,
     "start_time": "2021-10-18T08:01:17.342234",
     "status": "completed"
    },
    "tags": []
   },
   "source": [
    "<a id=\"eda\"></a>\n",
    "# <p style=\"background-color:red; font-family:calibri; color:white; font-size:150%; text-align:center; border-radius:15px 50px;\">Step 4 | EDA</p>"
   ]
  },
  {
   "cell_type": "markdown",
   "id": "external-giant",
   "metadata": {
    "papermill": {
     "duration": 0.06678,
     "end_time": "2021-10-18T08:01:17.532477",
     "exception": false,
     "start_time": "2021-10-18T08:01:17.465697",
     "status": "completed"
    },
    "tags": []
   },
   "source": [
    "`Let's find how many people have heart disease and how many people doesn't have heart disease?`"
   ]
  },
  {
   "cell_type": "code",
   "execution_count": 11,
   "id": "fifty-employee",
   "metadata": {
    "papermill": {
     "duration": 0.084793,
     "end_time": "2021-10-18T08:01:17.701012",
     "exception": false,
     "start_time": "2021-10-18T08:01:17.616219",
     "status": "completed"
    },
    "tags": []
   },
   "outputs": [
    {
     "data": {
      "text/plain": [
       "target\n",
       "1    526\n",
       "0    499\n",
       "Name: count, dtype: int64"
      ]
     },
     "execution_count": 11,
     "metadata": {},
     "output_type": "execute_result"
    }
   ],
   "source": [
    "#finging the values\n",
    "df.target.value_counts()"
   ]
  },
  {
   "cell_type": "code",
   "execution_count": 12,
   "id": "aquatic-climb",
   "metadata": {
    "papermill": {
     "duration": 0.235692,
     "end_time": "2021-10-18T08:01:18.015111",
     "exception": false,
     "start_time": "2021-10-18T08:01:17.779419",
     "status": "completed"
    },
    "tags": []
   },
   "outputs": [
    {
     "data": {
      "image/png": "[encoded data removed]",
      "text/plain": [
       "<Figure size 640x480 with 1 Axes>"
      ]
     },
     "metadata": {},
     "output_type": "display_data"
    }
   ],
   "source": [
    "#plotting bar chart.\n",
    "fig = df.target.value_counts().plot(kind = 'bar', color=[\"lightblue\", 'lightgreen'])\n",
    "fig.set_xticklabels(labels=['Has heart disease', \"Doesn't have heart disease\"], rotation=0);\n",
    "plt.title(\"Heart Disease values\")\n",
    "plt.ylabel(\"Amount\");"
   ]
  },
  {
   "cell_type": "code",
   "execution_count": 13,
   "id": "bright-modeling",
   "metadata": {
    "papermill": {
     "duration": 0.178786,
     "end_time": "2021-10-18T08:01:18.260497",
     "exception": false,
     "start_time": "2021-10-18T08:01:18.081711",
     "status": "completed"
    },
    "tags": []
   },
   "outputs": [
    {
     "data": {
      "image/png": "[encoded data removed]",
      "text/plain": [
       "<Figure size 640x480 with 1 Axes>"
      ]
     },
     "metadata": {},
     "output_type": "display_data"
    }
   ],
   "source": [
    "#visualizing in Pie chart\n",
    "labels = \"Has heart disease\", \"Doesn't have heart disease\"\n",
    "explode = (0, 0)\n",
    "\n",
    "fig1, ax1 = plt.subplots()\n",
    "ax1.pie(df.target.value_counts(), explode=explode, labels=labels, autopct='%1.1f%%',\n",
    "        shadow=True, startangle=90)\n",
    "ax1.axis('equal')\n",
    "plt.show()"
   ]
  },
  {
   "cell_type": "markdown",
   "id": "located-canvas",
   "metadata": {
    "papermill": {
     "duration": 0.05996,
     "end_time": "2021-10-18T08:01:18.379021",
     "exception": false,
     "start_time": "2021-10-18T08:01:18.319061",
     "status": "completed"
    },
    "tags": []
   },
   "source": [
    "Now let's check how many `Male` and `Female` are in the dataset"
   ]
  },
  {
   "cell_type": "code",
   "execution_count": 14,
   "id": "recent-spanish",
   "metadata": {
    "papermill": {
     "duration": 0.072054,
     "end_time": "2021-10-18T08:01:18.508912",
     "exception": false,
     "start_time": "2021-10-18T08:01:18.436858",
     "status": "completed"
    },
    "tags": []
   },
   "outputs": [
    {
     "data": {
      "text/plain": [
       "sex\n",
       "1    713\n",
       "0    312\n",
       "Name: count, dtype: int64"
      ]
     },
     "execution_count": 14,
     "metadata": {},
     "output_type": "execute_result"
    }
   ],
   "source": [
    "df.sex.value_counts()"
   ]
  },
  {
   "cell_type": "code",
   "execution_count": 15,
   "id": "passive-genome",
   "metadata": {
    "papermill": {
     "duration": 0.165127,
     "end_time": "2021-10-18T08:01:18.731853",
     "exception": false,
     "start_time": "2021-10-18T08:01:18.566726",
     "status": "completed"
    },
    "tags": []
   },
   "outputs": [
    {
     "data": {
      "image/png": "[encoded data removed]",
      "text/plain": [
       "<Figure size 640x480 with 1 Axes>"
      ]
     },
     "metadata": {},
     "output_type": "display_data"
    }
   ],
   "source": [
    "#visualizing in Pie chart\n",
    "labels = 'Male', 'Female'\n",
    "explode = (0, 0)\n",
    "\n",
    "fig1, ax1 = plt.subplots()\n",
    "ax1.pie(df.sex.value_counts(), explode=explode, labels=labels, autopct='%1.1f%%',\n",
    "        shadow=True, startangle=90)\n",
    "ax1.axis('equal')\n",
    "plt.show()"
   ]
  },
  {
   "cell_type": "markdown",
   "id": "novel-venezuela",
   "metadata": {
    "papermill": {
     "duration": 0.077186,
     "end_time": "2021-10-18T08:01:18.892907",
     "exception": false,
     "start_time": "2021-10-18T08:01:18.815721",
     "status": "completed"
    },
    "tags": []
   },
   "source": [
    "`Let's find People of which sex has most heart disease?`"
   ]
  },
  {
   "cell_type": "code",
   "execution_count": 16,
   "id": "spare-client",
   "metadata": {
    "papermill": {
     "duration": 0.107862,
     "end_time": "2021-10-18T08:01:19.060456",
     "exception": false,
     "start_time": "2021-10-18T08:01:18.952594",
     "status": "completed"
    },
    "tags": []
   },
   "outputs": [
    {
     "data": {
      "text/html": [
       "<div>\n",
       "<style scoped>\n",
       "    .dataframe tbody tr th:only-of-type {\n",
       "        vertical-align: middle;\n",
       "    }\n",
       "\n",
       "    .dataframe tbody tr th {\n",
       "        vertical-align: top;\n",
       "    }\n",
       "\n",
       "    .dataframe thead th {\n",
       "        text-align: right;\n",
       "    }\n",
       "</style>\n",
       "<table border=\"1\" class=\"dataframe\">\n",
       "  <thead>\n",
       "    <tr style=\"text-align: right;\">\n",
       "      <th>sex</th>\n",
       "      <th>0</th>\n",
       "      <th>1</th>\n",
       "    </tr>\n",
       "    <tr>\n",
       "      <th>target</th>\n",
       "      <th></th>\n",
       "      <th></th>\n",
       "    </tr>\n",
       "  </thead>\n",
       "  <tbody>\n",
       "    <tr>\n",
       "      <th>0</th>\n",
       "      <td>86</td>\n",
       "      <td>413</td>\n",
       "    </tr>\n",
       "    <tr>\n",
       "      <th>1</th>\n",
       "      <td>226</td>\n",
       "      <td>300</td>\n",
       "    </tr>\n",
       "  </tbody>\n",
       "</table>\n",
       "</div>"
      ],
      "text/plain": [
       "sex       0    1\n",
       "target          \n",
       "0        86  413\n",
       "1       226  300"
      ]
     },
     "execution_count": 16,
     "metadata": {},
     "output_type": "execute_result"
    }
   ],
   "source": [
    "pd.crosstab(df.target, df.sex)"
   ]
  },
  {
   "cell_type": "code",
   "execution_count": 17,
   "id": "suited-premium",
   "metadata": {
    "papermill": {
     "duration": 0.218361,
     "end_time": "2021-10-18T08:01:19.340100",
     "exception": false,
     "start_time": "2021-10-18T08:01:19.121739",
     "status": "completed"
    },
    "tags": []
   },
   "outputs": [
    {
     "data": {
      "image/png": "[encoded data removed]",
      "text/plain": [
       "<Figure size 640x480 with 1 Axes>"
      ]
     },
     "metadata": {},
     "output_type": "display_data"
    }
   ],
   "source": [
    "fig = sns.countplot(x = 'target', data = df, hue = 'sex')\n",
    "fig.set_xticklabels(labels=[\"Doesn't have heart disease\", 'Has heart disease'], rotation=0)\n",
    "plt.legend(['Female', 'Male'])\n",
    "plt.title(\"Heart Disease Frequency for Sex\");"
   ]
  },
  {
   "cell_type": "markdown",
   "id": "elder-summit",
   "metadata": {
    "papermill": {
     "duration": 0.059892,
     "end_time": "2021-10-18T08:01:19.460602",
     "exception": false,
     "start_time": "2021-10-18T08:01:19.400710",
     "status": "completed"
    },
    "tags": []
   },
   "source": [
    "`Let's find people of which sex has which type of chest pain most?`"
   ]
  },
  {
   "cell_type": "code",
   "execution_count": 18,
   "id": "distant-reality",
   "metadata": {
    "papermill": {
     "duration": 0.070912,
     "end_time": "2021-10-18T08:01:19.593304",
     "exception": false,
     "start_time": "2021-10-18T08:01:19.522392",
     "status": "completed"
    },
    "tags": []
   },
   "outputs": [
    {
     "data": {
      "text/plain": [
       "cp\n",
       "0    497\n",
       "2    284\n",
       "1    167\n",
       "3     77\n",
       "Name: count, dtype: int64"
      ]
     },
     "execution_count": 18,
     "metadata": {},
     "output_type": "execute_result"
    }
   ],
   "source": [
    "#counting values for different chest pain\n",
    "df.cp.value_counts()"
   ]
  },
  {
   "cell_type": "code",
   "execution_count": 19,
   "id": "hundred-irish",
   "metadata": {
    "papermill": {
     "duration": 0.192818,
     "end_time": "2021-10-18T08:01:19.845789",
     "exception": false,
     "start_time": "2021-10-18T08:01:19.652971",
     "status": "completed"
    },
    "tags": []
   },
   "outputs": [
    {
     "data": {
      "image/png": "[encoded data removed]",
      "text/plain": [
       "<Figure size 640x480 with 1 Axes>"
      ]
     },
     "metadata": {},
     "output_type": "display_data"
    }
   ],
   "source": [
    "#plotting a bar chart\n",
    "fig = df.cp.value_counts().plot(kind = 'bar', color = ['salmon', 'lightskyblue', 'springgreen', 'khaki'])\n",
    "fig.set_xticklabels(labels=['pain type 0', 'pain type 1', 'pain type 2', 'pain type 3'], rotation=0)\n",
    "\n",
    "plt.title('Chest pain type vs count');"
   ]
  },
  {
   "cell_type": "code",
   "execution_count": 20,
   "id": "loaded-commitment",
   "metadata": {
    "papermill": {
     "duration": 0.088823,
     "end_time": "2021-10-18T08:01:19.999545",
     "exception": false,
     "start_time": "2021-10-18T08:01:19.910722",
     "status": "completed"
    },
    "tags": []
   },
   "outputs": [
    {
     "data": {
      "text/html": [
       "<div>\n",
       "<style scoped>\n",
       "    .dataframe tbody tr th:only-of-type {\n",
       "        vertical-align: middle;\n",
       "    }\n",
       "\n",
       "    .dataframe tbody tr th {\n",
       "        vertical-align: top;\n",
       "    }\n",
       "\n",
       "    .dataframe thead th {\n",
       "        text-align: right;\n",
       "    }\n",
       "</style>\n",
       "<table border=\"1\" class=\"dataframe\">\n",
       "  <thead>\n",
       "    <tr style=\"text-align: right;\">\n",
       "      <th>cp</th>\n",
       "      <th>0</th>\n",
       "      <th>1</th>\n",
       "      <th>2</th>\n",
       "      <th>3</th>\n",
       "    </tr>\n",
       "    <tr>\n",
       "      <th>sex</th>\n",
       "      <th></th>\n",
       "      <th></th>\n",
       "      <th></th>\n",
       "      <th></th>\n",
       "    </tr>\n",
       "  </thead>\n",
       "  <tbody>\n",
       "    <tr>\n",
       "      <th>0</th>\n",
       "      <td>133</td>\n",
       "      <td>57</td>\n",
       "      <td>109</td>\n",
       "      <td>13</td>\n",
       "    </tr>\n",
       "    <tr>\n",
       "      <th>1</th>\n",
       "      <td>364</td>\n",
       "      <td>110</td>\n",
       "      <td>175</td>\n",
       "      <td>64</td>\n",
       "    </tr>\n",
       "  </tbody>\n",
       "</table>\n",
       "</div>"
      ],
      "text/plain": [
       "cp     0    1    2   3\n",
       "sex                   \n",
       "0    133   57  109  13\n",
       "1    364  110  175  64"
      ]
     },
     "execution_count": 20,
     "metadata": {},
     "output_type": "execute_result"
    }
   ],
   "source": [
    "pd.crosstab(df.sex, df.cp)"
   ]
  },
  {
   "cell_type": "code",
   "execution_count": 21,
   "id": "polyphonic-arabic",
   "metadata": {
    "papermill": {
     "duration": 0.260829,
     "end_time": "2021-10-18T08:01:20.327305",
     "exception": false,
     "start_time": "2021-10-18T08:01:20.066476",
     "status": "completed"
    },
    "tags": []
   },
   "outputs": [
    {
     "data": {
      "image/png": "[encoded data removed]",
      "text/plain": [
       "<Figure size 640x480 with 1 Axes>"
      ]
     },
     "metadata": {},
     "output_type": "display_data"
    }
   ],
   "source": [
    "fig = pd.crosstab(df.sex, df.cp).plot(kind = 'bar', color = ['coral', 'lightskyblue', 'plum', 'khaki'])\n",
    "plt.title('Type of chest pain for sex')\n",
    "fig.set_xticklabels(labels=['Female', 'Male'], rotation=0)\n",
    "plt.legend(['pain type 0', 'pain type 1', 'pain type 2', 'pain type 3']);"
   ]
  },
  {
   "cell_type": "markdown",
   "id": "upset-combat",
   "metadata": {
    "papermill": {
     "duration": 0.064846,
     "end_time": "2021-10-18T08:01:20.457750",
     "exception": false,
     "start_time": "2021-10-18T08:01:20.392904",
     "status": "completed"
    },
    "tags": []
   },
   "source": [
    "`Now let's find people with which chest pain are most pron to have heart disease?`"
   ]
  },
  {
   "cell_type": "code",
   "execution_count": 22,
   "id": "hindu-penalty",
   "metadata": {
    "papermill": {
     "duration": 0.089424,
     "end_time": "2021-10-18T08:01:20.615478",
     "exception": false,
     "start_time": "2021-10-18T08:01:20.526054",
     "status": "completed"
    },
    "tags": []
   },
   "outputs": [
    {
     "data": {
      "text/html": [
       "<div>\n",
       "<style scoped>\n",
       "    .dataframe tbody tr th:only-of-type {\n",
       "        vertical-align: middle;\n",
       "    }\n",
       "\n",
       "    .dataframe tbody tr th {\n",
       "        vertical-align: top;\n",
       "    }\n",
       "\n",
       "    .dataframe thead th {\n",
       "        text-align: right;\n",
       "    }\n",
       "</style>\n",
       "<table border=\"1\" class=\"dataframe\">\n",
       "  <thead>\n",
       "    <tr style=\"text-align: right;\">\n",
       "      <th>target</th>\n",
       "      <th>0</th>\n",
       "      <th>1</th>\n",
       "    </tr>\n",
       "    <tr>\n",
       "      <th>cp</th>\n",
       "      <th></th>\n",
       "      <th></th>\n",
       "    </tr>\n",
       "  </thead>\n",
       "  <tbody>\n",
       "    <tr>\n",
       "      <th>0</th>\n",
       "      <td>375</td>\n",
       "      <td>122</td>\n",
       "    </tr>\n",
       "    <tr>\n",
       "      <th>1</th>\n",
       "      <td>33</td>\n",
       "      <td>134</td>\n",
       "    </tr>\n",
       "    <tr>\n",
       "      <th>2</th>\n",
       "      <td>65</td>\n",
       "      <td>219</td>\n",
       "    </tr>\n",
       "    <tr>\n",
       "      <th>3</th>\n",
       "      <td>26</td>\n",
       "      <td>51</td>\n",
       "    </tr>\n",
       "  </tbody>\n",
       "</table>\n",
       "</div>"
      ],
      "text/plain": [
       "target    0    1\n",
       "cp              \n",
       "0       375  122\n",
       "1        33  134\n",
       "2        65  219\n",
       "3        26   51"
      ]
     },
     "execution_count": 22,
     "metadata": {},
     "output_type": "execute_result"
    }
   ],
   "source": [
    "pd.crosstab(df.cp, df.target)"
   ]
  },
  {
   "cell_type": "code",
   "execution_count": 23,
   "id": "solar-truck",
   "metadata": {
    "papermill": {
     "duration": 0.222391,
     "end_time": "2021-10-18T08:01:20.899727",
     "exception": false,
     "start_time": "2021-10-18T08:01:20.677336",
     "status": "completed"
    },
    "tags": []
   },
   "outputs": [
    {
     "data": {
      "image/png": "[encoded data removed]",
      "text/plain": [
       "<Figure size 640x480 with 1 Axes>"
      ]
     },
     "metadata": {},
     "output_type": "display_data"
    }
   ],
   "source": [
    "fig = sns.countplot(x = 'cp', data = df, hue = 'target')\n",
    "fig.set_xticklabels(labels=['pain type 0', 'pain type 1', 'pain type 2', 'pain type 3'], rotation=0)\n",
    "plt.legend(['No disease', 'disease']);"
   ]
  },
  {
   "cell_type": "markdown",
   "id": "cheap-sampling",
   "metadata": {
    "papermill": {
     "duration": 0.061072,
     "end_time": "2021-10-18T08:01:21.023678",
     "exception": false,
     "start_time": "2021-10-18T08:01:20.962606",
     "status": "completed"
    },
    "tags": []
   },
   "source": [
    "Now let's take look at our age column."
   ]
  },
  {
   "cell_type": "code",
   "execution_count": 24,
   "id": "identified-wyoming",
   "metadata": {
    "papermill": {
     "duration": 0.508904,
     "end_time": "2021-10-18T08:01:21.594239",
     "exception": false,
     "start_time": "2021-10-18T08:01:21.085335",
     "status": "completed"
    },
    "tags": []
   },
   "outputs": [
    {
     "data": {
      "image/png": "[encoded data removed]",
      "text/plain": [
       "<Figure size 500x500 with 1 Axes>"
      ]
     },
     "metadata": {},
     "output_type": "display_data"
    }
   ],
   "source": [
    "#create a distribution plot with normal distribution curve\n",
    "sns.displot( x = 'age', data = df, bins = 30, kde = True)\n",
    "skewness=str(df[\"age\"].skew())\n",
    "kurtosis=str(df[\"age\"].kurt())\n",
    "plt.legend([skewness,kurtosis],title=(\"skewness and kurtosis\"))\n",
    "plt.show();"
   ]
  },
  {
   "cell_type": "markdown",
   "id": "gentle-volunteer",
   "metadata": {
    "papermill": {
     "duration": 0.064456,
     "end_time": "2021-10-18T08:01:21.721837",
     "exception": false,
     "start_time": "2021-10-18T08:01:21.657381",
     "status": "completed"
    },
    "tags": []
   },
   "source": [
    "Let's plot another distribution plot for `Maximum heart rate`"
   ]
  },
  {
   "cell_type": "code",
   "execution_count": 25,
   "id": "floppy-probe",
   "metadata": {
    "papermill": {
     "duration": 0.413705,
     "end_time": "2021-10-18T08:01:22.198391",
     "exception": false,
     "start_time": "2021-10-18T08:01:21.784686",
     "status": "completed"
    },
    "tags": []
   },
   "outputs": [
    {
     "data": {
      "image/png": "[encoded data removed]",
      "text/plain": [
       "<Figure size 500x500 with 1 Axes>"
      ]
     },
     "metadata": {},
     "output_type": "display_data"
    }
   ],
   "source": [
    "sns.displot(x = 'thalach', data = df, bins = 30, kde = True, color = 'chocolate')\n",
    "skewness=str(df[\"thalach\"].skew())\n",
    "kurtosis=str(df[\"thalach\"].kurt())\n",
    "plt.legend([skewness,kurtosis],title=(\"skewness and kurtosis\"))\n",
    "plt.show();"
   ]
  },
  {
   "cell_type": "markdown",
   "id": "contemporary-heath",
   "metadata": {
    "papermill": {
     "duration": 0.063414,
     "end_time": "2021-10-18T08:01:22.330940",
     "exception": false,
     "start_time": "2021-10-18T08:01:22.267526",
     "status": "completed"
    },
    "tags": []
   },
   "source": [
    "`Now let's observe Age vs Maximum heart rate when people have heart disease.`"
   ]
  },
  {
   "cell_type": "code",
   "execution_count": 26,
   "id": "grand-dream",
   "metadata": {
    "papermill": {
     "duration": 0.27676,
     "end_time": "2021-10-18T08:01:22.675071",
     "exception": false,
     "start_time": "2021-10-18T08:01:22.398311",
     "status": "completed"
    },
    "tags": []
   },
   "outputs": [
    {
     "data": {
      "image/png": "[encoded data removed]",
      "text/plain": [
       "<Figure size 1000x600 with 1 Axes>"
      ]
     },
     "metadata": {},
     "output_type": "display_data"
    }
   ],
   "source": [
    "# Creating a figure\n",
    "plt.figure(figsize=(10,6))\n",
    "\n",
    "#plotting the values for people who have heart disease\n",
    "plt.scatter(df.age[df.target==1], \n",
    "            df.thalach[df.target==1], \n",
    "            c=\"tomato\")\n",
    "\n",
    "#plotting the values for people who doesn't have heart disease\n",
    "plt.scatter(df.age[df.target==0], \n",
    "            df.thalach[df.target==0], \n",
    "            c=\"lightgreen\")\n",
    "\n",
    "# Addind info\n",
    "plt.title(\"Heart Disease w.r.t Age and Max Heart Rate\")\n",
    "plt.xlabel(\"Age\")\n",
    "plt.legend([\"Disease\", \"No Disease\"])\n",
    "plt.ylabel(\"Max Heart Rate\");"
   ]
  },
  {
   "cell_type": "markdown",
   "id": "union-distance",
   "metadata": {
    "papermill": {
     "duration": 0.064113,
     "end_time": "2021-10-18T08:01:22.808262",
     "exception": false,
     "start_time": "2021-10-18T08:01:22.744149",
     "status": "completed"
    },
    "tags": []
   },
   "source": [
    "Let's make a density curve for visualizing the distribution of `age` and `thalach`(Maximum Heart Rate) observations in our dataset. "
   ]
  },
  {
   "cell_type": "markdown",
   "id": "generic-money",
   "metadata": {
    "papermill": {
     "duration": 0.070764,
     "end_time": "2021-10-18T08:01:24.178342",
     "exception": false,
     "start_time": "2021-10-18T08:01:24.107578",
     "status": "completed"
    },
    "tags": []
   },
   "source": [
    "Let's see a distribution plot for `number of people with heart disease` vs `max heart rate`"
   ]
  },
  {
   "cell_type": "code",
   "execution_count": 27,
   "id": "pursuant-insulation",
   "metadata": {
    "papermill": {
     "duration": 0.438542,
     "end_time": "2021-10-18T08:01:24.686182",
     "exception": false,
     "start_time": "2021-10-18T08:01:24.247640",
     "status": "completed"
    },
    "tags": []
   },
   "outputs": [
    {
     "data": {
      "image/png": "[encoded data removed]",
      "text/plain": [
       "<Figure size 500x500 with 1 Axes>"
      ]
     },
     "metadata": {},
     "output_type": "display_data"
    }
   ],
   "source": [
    "sns.displot(x = df.thalach[df.target==1], data = df, kde = True, color= 'olive')\n",
    "skewness=str(df.thalach[df.target==1].skew())\n",
    "kurtosis=str(df.thalach[df.target==1].kurt())\n",
    "plt.legend([skewness,kurtosis],title=(\"skewness and kurtosis\"))\n",
    "plt.title(\"Maximum heart achieved of peple with heart disease\")\n",
    "plt.xlabel(\"Maximum heart rate achieved\")\n",
    "plt.ylabel(\"Number of people with heart disease\");"
   ]
  },
  {
   "cell_type": "markdown",
   "id": "enabling-idaho",
   "metadata": {
    "papermill": {
     "duration": 0.070538,
     "end_time": "2021-10-18T08:01:24.829328",
     "exception": false,
     "start_time": "2021-10-18T08:01:24.758790",
     "status": "completed"
    },
    "tags": []
   },
   "source": [
    "Distribution plot for `number of people without heart disease` vs `max heart rate`"
   ]
  },
  {
   "cell_type": "code",
   "execution_count": 28,
   "id": "determined-turner",
   "metadata": {
    "papermill": {
     "duration": 0.474447,
     "end_time": "2021-10-18T08:01:25.372877",
     "exception": false,
     "start_time": "2021-10-18T08:01:24.898430",
     "status": "completed"
    },
    "tags": []
   },
   "outputs": [
    {
     "data": {
      "image/png": "[encoded data removed]",
      "text/plain": [
       "<Figure size 500x500 with 1 Axes>"
      ]
     },
     "metadata": {},
     "output_type": "display_data"
    }
   ],
   "source": [
    "sns.displot(x = df.thalach[df.target==0], data = df, kde = True, color= 'slategray')\n",
    "skewness=str(df.thalach[df.target==0].skew())\n",
    "kurtosis=str(df.thalach[df.target==0].kurt())\n",
    "plt.legend([skewness,kurtosis],title=(\"skewness and kurtosis\"))\n",
    "plt.title(\"Maximum heart achieved of people without heart disease\")\n",
    "plt.xlabel(\"Maximum heart rate achieved\")\n",
    "plt.ylabel(\"Number of people without heart disease\");"
   ]
  },
  {
   "cell_type": "markdown",
   "id": "challenging-pressure",
   "metadata": {
    "papermill": {
     "duration": 0.069581,
     "end_time": "2021-10-18T08:01:25.513639",
     "exception": false,
     "start_time": "2021-10-18T08:01:25.444058",
     "status": "completed"
    },
    "tags": []
   },
   "source": [
    "`Now let's observe Age vs Serum Cholestoral when people have heart disease.`"
   ]
  },
  {
   "cell_type": "markdown",
   "id": "confidential-sessions",
   "metadata": {
    "papermill": {
     "duration": 0.071307,
     "end_time": "2021-10-18T08:01:25.655915",
     "exception": false,
     "start_time": "2021-10-18T08:01:25.584608",
     "status": "completed"
    },
    "tags": []
   },
   "source": [
    "Now, let's make a distribution plot for serum cholestoral"
   ]
  },
  {
   "cell_type": "code",
   "execution_count": 29,
   "id": "historic-campus",
   "metadata": {
    "papermill": {
     "duration": 0.420712,
     "end_time": "2021-10-18T08:01:26.144642",
     "exception": false,
     "start_time": "2021-10-18T08:01:25.723930",
     "status": "completed"
    },
    "tags": []
   },
   "outputs": [
    {
     "data": {
      "image/png": "[encoded data removed]",
      "text/plain": [
       "<Figure size 500x500 with 1 Axes>"
      ]
     },
     "metadata": {},
     "output_type": "display_data"
    }
   ],
   "source": [
    "sns.displot(x = 'chol', data = df, bins = 30, kde = True, color = 'teal')\n",
    "skewness=str(df['chol'].skew())\n",
    "kurtosis=str(df['chol'].kurt())\n",
    "plt.legend([skewness,kurtosis],title=(\"skewness and kurtosis\"));"
   ]
  },
  {
   "cell_type": "markdown",
   "id": "coupled-botswana",
   "metadata": {
    "papermill": {
     "duration": 0.070109,
     "end_time": "2021-10-18T08:01:26.286193",
     "exception": false,
     "start_time": "2021-10-18T08:01:26.216084",
     "status": "completed"
    },
    "tags": []
   },
   "source": [
    "Now let's plot another scatter plot for Age vs serum cholestoral"
   ]
  },
  {
   "cell_type": "code",
   "execution_count": 30,
   "id": "urban-lunch",
   "metadata": {
    "papermill": {
     "duration": 0.273887,
     "end_time": "2021-10-18T08:01:26.632063",
     "exception": false,
     "start_time": "2021-10-18T08:01:26.358176",
     "status": "completed"
    },
    "tags": []
   },
   "outputs": [
    {
     "data": {
      "image/png": "[encoded data removed]",
      "text/plain": [
       "<Figure size 1000x600 with 1 Axes>"
      ]
     },
     "metadata": {},
     "output_type": "display_data"
    }
   ],
   "source": [
    "# Creating another figure\n",
    "plt.figure(figsize=(10,6))\n",
    "\n",
    "#plotting the values for people who have heart disease\n",
    "plt.scatter(df.age[df.target==1], \n",
    "            df.chol[df.target==1], \n",
    "            c=\"salmon\") # define it as a scatter figure\n",
    "\n",
    "#plotting the values for people who doesn't have heart disease\n",
    "plt.scatter(df.age[df.target==0], \n",
    "            df.chol[df.target==0], \n",
    "            c=\"lightblue\") # axis always come as (x, y)\n",
    "\n",
    "# Add some helpful info\n",
    "plt.title(\"Heart Disease w.r.t Age and Serum Cholestoral\")\n",
    "plt.xlabel(\"Age\")\n",
    "plt.legend([\"Disease\", \"No Disease\"])\n",
    "plt.ylabel(\"Serum cholestoral\");"
   ]
  },
  {
   "cell_type": "markdown",
   "id": "answering-leader",
   "metadata": {
    "papermill": {
     "duration": 0.074592,
     "end_time": "2021-10-18T08:01:26.777944",
     "exception": false,
     "start_time": "2021-10-18T08:01:26.703352",
     "status": "completed"
    },
    "tags": []
   },
   "source": [
    "Let's make a density curve for visualizing the distribution of `age` and `chol` observations in our dataset. "
   ]
  },
  {
   "cell_type": "markdown",
   "id": "dramatic-marijuana",
   "metadata": {
    "papermill": {
     "duration": 0.073031,
     "end_time": "2021-10-18T08:01:28.156210",
     "exception": false,
     "start_time": "2021-10-18T08:01:28.083179",
     "status": "completed"
    },
    "tags": []
   },
   "source": [
    "Distribution plot for `number of people with heart disease` vs `Serum Cholestoral`"
   ]
  },
  {
   "cell_type": "code",
   "execution_count": 31,
   "id": "regulated-mambo",
   "metadata": {
    "papermill": {
     "duration": 0.453742,
     "end_time": "2021-10-18T08:01:28.686584",
     "exception": false,
     "start_time": "2021-10-18T08:01:28.232842",
     "status": "completed"
    },
    "tags": []
   },
   "outputs": [
    {
     "data": {
      "image/png": "[encoded data removed]",
      "text/plain": [
       "<Figure size 500x500 with 1 Axes>"
      ]
     },
     "metadata": {},
     "output_type": "display_data"
    }
   ],
   "source": [
    "sns.displot(x = df.chol[df.target==1], data = df, kde = True, color= 'dodgerblue')\n",
    "skewness=str(df.chol[df.target==1].skew())\n",
    "kurtosis=str(df.chol[df.target==1].kurt())\n",
    "plt.legend([skewness,kurtosis],title=(\"skewness and kurtosis\"));\n",
    "plt.title(\"Serum Cholestoralof people with heart disease\")\n",
    "plt.xlabel(\"Serum Cholestoral\")\n",
    "plt.ylabel(\"Number of people with heart disease\");"
   ]
  },
  {
   "cell_type": "markdown",
   "id": "checked-instrument",
   "metadata": {
    "papermill": {
     "duration": 0.072818,
     "end_time": "2021-10-18T08:01:28.835199",
     "exception": false,
     "start_time": "2021-10-18T08:01:28.762381",
     "status": "completed"
    },
    "tags": []
   },
   "source": [
    "Distribution plot for `number of people without heart disease` vs `Serum Cholestoral`"
   ]
  },
  {
   "cell_type": "code",
   "execution_count": 32,
   "id": "ranking-chapter",
   "metadata": {
    "papermill": {
     "duration": 0.432198,
     "end_time": "2021-10-18T08:01:29.340254",
     "exception": false,
     "start_time": "2021-10-18T08:01:28.908056",
     "status": "completed"
    },
    "tags": []
   },
   "outputs": [
    {
     "data": {
      "image/png": "[encoded data removed]",
      "text/plain": [
       "<Figure size 500x500 with 1 Axes>"
      ]
     },
     "metadata": {},
     "output_type": "display_data"
    }
   ],
   "source": [
    "sns.displot(x = df.chol[df.target==0], data = df, kde = True, color= 'forestgreen')\n",
    "skewness=str(df.chol[df.target==0].skew())\n",
    "kurtosis=str(df.chol[df.target==0].kurt())\n",
    "plt.legend([skewness,kurtosis],title=(\"skewness and kurtosis\"));\n",
    "plt.title(\"Serum Cholestoralof people without heart disease\")\n",
    "plt.xlabel(\"Serum Cholestoral\")\n",
    "plt.ylabel(\"Number of people without heart disease\");"
   ]
  },
  {
   "cell_type": "markdown",
   "id": "essential-portfolio",
   "metadata": {
    "papermill": {
     "duration": 0.073698,
     "end_time": "2021-10-18T08:01:29.491026",
     "exception": false,
     "start_time": "2021-10-18T08:01:29.417328",
     "status": "completed"
    },
    "tags": []
   },
   "source": [
    "`Now let's find People of which sex has more exercise induced angina?`"
   ]
  },
  {
   "cell_type": "code",
   "execution_count": 33,
   "id": "proper-examination",
   "metadata": {
    "papermill": {
     "duration": 0.097454,
     "end_time": "2021-10-18T08:01:29.662615",
     "exception": false,
     "start_time": "2021-10-18T08:01:29.565161",
     "status": "completed"
    },
    "tags": []
   },
   "outputs": [
    {
     "data": {
      "text/html": [
       "<div>\n",
       "<style scoped>\n",
       "    .dataframe tbody tr th:only-of-type {\n",
       "        vertical-align: middle;\n",
       "    }\n",
       "\n",
       "    .dataframe tbody tr th {\n",
       "        vertical-align: top;\n",
       "    }\n",
       "\n",
       "    .dataframe thead th {\n",
       "        text-align: right;\n",
       "    }\n",
       "</style>\n",
       "<table border=\"1\" class=\"dataframe\">\n",
       "  <thead>\n",
       "    <tr style=\"text-align: right;\">\n",
       "      <th>sex</th>\n",
       "      <th>0</th>\n",
       "      <th>1</th>\n",
       "    </tr>\n",
       "    <tr>\n",
       "      <th>exang</th>\n",
       "      <th></th>\n",
       "      <th></th>\n",
       "    </tr>\n",
       "  </thead>\n",
       "  <tbody>\n",
       "    <tr>\n",
       "      <th>0</th>\n",
       "      <td>238</td>\n",
       "      <td>442</td>\n",
       "    </tr>\n",
       "    <tr>\n",
       "      <th>1</th>\n",
       "      <td>74</td>\n",
       "      <td>271</td>\n",
       "    </tr>\n",
       "  </tbody>\n",
       "</table>\n",
       "</div>"
      ],
      "text/plain": [
       "sex      0    1\n",
       "exang          \n",
       "0      238  442\n",
       "1       74  271"
      ]
     },
     "execution_count": 33,
     "metadata": {},
     "output_type": "execute_result"
    }
   ],
   "source": [
    "pd.crosstab(df.exang, df.sex)"
   ]
  },
  {
   "cell_type": "code",
   "execution_count": 34,
   "id": "senior-brisbane",
   "metadata": {
    "papermill": {
     "duration": 0.2409,
     "end_time": "2021-10-18T08:01:29.979822",
     "exception": false,
     "start_time": "2021-10-18T08:01:29.738922",
     "status": "completed"
    },
    "tags": []
   },
   "outputs": [
    {
     "data": {
      "image/png": "[encoded data removed]",
      "text/plain": [
       "<Figure size 640x480 with 1 Axes>"
      ]
     },
     "metadata": {},
     "output_type": "display_data"
    }
   ],
   "source": [
    "fig = sns.countplot(x = 'exang', data = df, hue = 'sex')\n",
    "plt.title('Exercise induced angina for sex')\n",
    "fig.set_xticklabels(labels=[\"Doesn't have exang\", 'Has exang'], rotation=0)\n",
    "plt.legend(['Female', 'Male']);"
   ]
  },
  {
   "cell_type": "markdown",
   "id": "occupied-offset",
   "metadata": {
    "papermill": {
     "duration": 0.075706,
     "end_time": "2021-10-18T08:01:30.133171",
     "exception": false,
     "start_time": "2021-10-18T08:01:30.057465",
     "status": "completed"
    },
    "tags": []
   },
   "source": [
    "`Which sex of people has more fasting blood sugar > 120 mg/dl?`"
   ]
  },
  {
   "cell_type": "code",
   "execution_count": 35,
   "id": "precious-stable",
   "metadata": {
    "papermill": {
     "duration": 0.085458,
     "end_time": "2021-10-18T08:01:30.295510",
     "exception": false,
     "start_time": "2021-10-18T08:01:30.210052",
     "status": "completed"
    },
    "tags": []
   },
   "outputs": [
    {
     "data": {
      "text/plain": [
       "fbs\n",
       "0    872\n",
       "1    153\n",
       "Name: count, dtype: int64"
      ]
     },
     "execution_count": 35,
     "metadata": {},
     "output_type": "execute_result"
    }
   ],
   "source": [
    "df.fbs.value_counts()"
   ]
  },
  {
   "cell_type": "code",
   "execution_count": 36,
   "id": "backed-throat",
   "metadata": {
    "papermill": {
     "duration": 0.188757,
     "end_time": "2021-10-18T08:01:30.561716",
     "exception": false,
     "start_time": "2021-10-18T08:01:30.372959",
     "status": "completed"
    },
    "tags": []
   },
   "outputs": [
    {
     "data": {
      "image/png": "[encoded data removed]",
      "text/plain": [
       "<Figure size 640x480 with 1 Axes>"
      ]
     },
     "metadata": {},
     "output_type": "display_data"
    }
   ],
   "source": [
    "#visualizing in Pie chart\n",
    "labels = 'fbs<120 mg/dl', 'fbs>120 mg/dl'\n",
    "explode = (0, 0)\n",
    "\n",
    "fig1, ax1 = plt.subplots()\n",
    "ax1.pie(df.fbs.value_counts(), explode=explode, labels=labels, autopct='%1.1f%%',\n",
    "        shadow=True, startangle=90)\n",
    "ax1.axis('equal')\n",
    "plt.show()"
   ]
  },
  {
   "cell_type": "code",
   "execution_count": 37,
   "id": "rental-vector",
   "metadata": {
    "papermill": {
     "duration": 0.104066,
     "end_time": "2021-10-18T08:01:30.743145",
     "exception": false,
     "start_time": "2021-10-18T08:01:30.639079",
     "status": "completed"
    },
    "tags": []
   },
   "outputs": [
    {
     "data": {
      "text/html": [
       "<div>\n",
       "<style scoped>\n",
       "    .dataframe tbody tr th:only-of-type {\n",
       "        vertical-align: middle;\n",
       "    }\n",
       "\n",
       "    .dataframe tbody tr th {\n",
       "        vertical-align: top;\n",
       "    }\n",
       "\n",
       "    .dataframe thead th {\n",
       "        text-align: right;\n",
       "    }\n",
       "</style>\n",
       "<table border=\"1\" class=\"dataframe\">\n",
       "  <thead>\n",
       "    <tr style=\"text-align: right;\">\n",
       "      <th>fbs</th>\n",
       "      <th>0</th>\n",
       "      <th>1</th>\n",
       "    </tr>\n",
       "    <tr>\n",
       "      <th>sex</th>\n",
       "      <th></th>\n",
       "      <th></th>\n",
       "    </tr>\n",
       "  </thead>\n",
       "  <tbody>\n",
       "    <tr>\n",
       "      <th>0</th>\n",
       "      <td>270</td>\n",
       "      <td>42</td>\n",
       "    </tr>\n",
       "    <tr>\n",
       "      <th>1</th>\n",
       "      <td>602</td>\n",
       "      <td>111</td>\n",
       "    </tr>\n",
       "  </tbody>\n",
       "</table>\n",
       "</div>"
      ],
      "text/plain": [
       "fbs    0    1\n",
       "sex          \n",
       "0    270   42\n",
       "1    602  111"
      ]
     },
     "execution_count": 37,
     "metadata": {},
     "output_type": "execute_result"
    }
   ],
   "source": [
    "pd.crosstab(df.sex, df.fbs)"
   ]
  },
  {
   "cell_type": "code",
   "execution_count": 38,
   "id": "reasonable-toner",
   "metadata": {
    "papermill": {
     "duration": 0.241369,
     "end_time": "2021-10-18T08:01:31.066785",
     "exception": false,
     "start_time": "2021-10-18T08:01:30.825416",
     "status": "completed"
    },
    "tags": []
   },
   "outputs": [
    {
     "data": {
      "image/png": "[encoded data removed]",
      "text/plain": [
       "<Figure size 640x480 with 1 Axes>"
      ]
     },
     "metadata": {},
     "output_type": "display_data"
    }
   ],
   "source": [
    "fig = pd.crosstab(df.sex, df.fbs).plot(kind = 'bar', color = ['lightblue', 'salmon'])\n",
    "plt.title(\"Fasting blood sugar w.r.t sex\")\n",
    "fig.set_xticklabels(labels=['fbs>120 mg/dl', 'fbs<120 mg/dl'], rotation=0)\n",
    "plt.legend(['Female', 'Male']);"
   ]
  },
  {
   "cell_type": "code",
   "execution_count": 39,
   "id": "adjacent-chambers",
   "metadata": {
    "papermill": {
     "duration": 0.626975,
     "end_time": "2021-10-18T08:01:31.771588",
     "exception": false,
     "start_time": "2021-10-18T08:01:31.144613",
     "status": "completed"
    },
    "tags": []
   },
   "outputs": [
    {
     "data": {
      "text/html": [
       "<div>\n",
       "<style scoped>\n",
       "    .dataframe tbody tr th:only-of-type {\n",
       "        vertical-align: middle;\n",
       "    }\n",
       "\n",
       "    .dataframe tbody tr th {\n",
       "        vertical-align: top;\n",
       "    }\n",
       "\n",
       "    .dataframe thead th {\n",
       "        text-align: right;\n",
       "    }\n",
       "</style>\n",
       "<table border=\"1\" class=\"dataframe\">\n",
       "  <thead>\n",
       "    <tr style=\"text-align: right;\">\n",
       "      <th></th>\n",
       "      <th>age</th>\n",
       "      <th>sex</th>\n",
       "      <th>cp</th>\n",
       "      <th>trestbps</th>\n",
       "      <th>chol</th>\n",
       "      <th>fbs</th>\n",
       "      <th>restecg</th>\n",
       "      <th>thalach</th>\n",
       "      <th>exang</th>\n",
       "      <th>oldpeak</th>\n",
       "      <th>slope</th>\n",
       "      <th>ca</th>\n",
       "      <th>thal</th>\n",
       "      <th>target</th>\n",
       "    </tr>\n",
       "  </thead>\n",
       "  <tbody>\n",
       "    <tr>\n",
       "      <th>age</th>\n",
       "      <td>1.000000</td>\n",
       "      <td>-0.103240</td>\n",
       "      <td>-0.071966</td>\n",
       "      <td>0.271121</td>\n",
       "      <td>0.219823</td>\n",
       "      <td>0.121243</td>\n",
       "      <td>-0.132696</td>\n",
       "      <td>-0.390227</td>\n",
       "      <td>0.088163</td>\n",
       "      <td>0.208137</td>\n",
       "      <td>-0.169105</td>\n",
       "      <td>0.271551</td>\n",
       "      <td>0.072297</td>\n",
       "      <td>-0.229324</td>\n",
       "    </tr>\n",
       "    <tr>\n",
       "      <th>sex</th>\n",
       "      <td>-0.103240</td>\n",
       "      <td>1.000000</td>\n",
       "      <td>-0.041119</td>\n",
       "      <td>-0.078974</td>\n",
       "      <td>-0.198258</td>\n",
       "      <td>0.027200</td>\n",
       "      <td>-0.055117</td>\n",
       "      <td>-0.049365</td>\n",
       "      <td>0.139157</td>\n",
       "      <td>0.084687</td>\n",
       "      <td>-0.026666</td>\n",
       "      <td>0.111729</td>\n",
       "      <td>0.198424</td>\n",
       "      <td>-0.279501</td>\n",
       "    </tr>\n",
       "    <tr>\n",
       "      <th>cp</th>\n",
       "      <td>-0.071966</td>\n",
       "      <td>-0.041119</td>\n",
       "      <td>1.000000</td>\n",
       "      <td>0.038177</td>\n",
       "      <td>-0.081641</td>\n",
       "      <td>0.079294</td>\n",
       "      <td>0.043581</td>\n",
       "      <td>0.306839</td>\n",
       "      <td>-0.401513</td>\n",
       "      <td>-0.174733</td>\n",
       "      <td>0.131633</td>\n",
       "      <td>-0.176206</td>\n",
       "      <td>-0.163341</td>\n",
       "      <td>0.434854</td>\n",
       "    </tr>\n",
       "    <tr>\n",
       "      <th>trestbps</th>\n",
       "      <td>0.271121</td>\n",
       "      <td>-0.078974</td>\n",
       "      <td>0.038177</td>\n",
       "      <td>1.000000</td>\n",
       "      <td>0.127977</td>\n",
       "      <td>0.181767</td>\n",
       "      <td>-0.123794</td>\n",
       "      <td>-0.039264</td>\n",
       "      <td>0.061197</td>\n",
       "      <td>0.187434</td>\n",
       "      <td>-0.120445</td>\n",
       "      <td>0.104554</td>\n",
       "      <td>0.059276</td>\n",
       "      <td>-0.138772</td>\n",
       "    </tr>\n",
       "    <tr>\n",
       "      <th>chol</th>\n",
       "      <td>0.219823</td>\n",
       "      <td>-0.198258</td>\n",
       "      <td>-0.081641</td>\n",
       "      <td>0.127977</td>\n",
       "      <td>1.000000</td>\n",
       "      <td>0.026917</td>\n",
       "      <td>-0.147410</td>\n",
       "      <td>-0.021772</td>\n",
       "      <td>0.067382</td>\n",
       "      <td>0.064880</td>\n",
       "      <td>-0.014248</td>\n",
       "      <td>0.074259</td>\n",
       "      <td>0.100244</td>\n",
       "      <td>-0.099966</td>\n",
       "    </tr>\n",
       "    <tr>\n",
       "      <th>fbs</th>\n",
       "      <td>0.121243</td>\n",
       "      <td>0.027200</td>\n",
       "      <td>0.079294</td>\n",
       "      <td>0.181767</td>\n",
       "      <td>0.026917</td>\n",
       "      <td>1.000000</td>\n",
       "      <td>-0.104051</td>\n",
       "      <td>-0.008866</td>\n",
       "      <td>0.049261</td>\n",
       "      <td>0.010859</td>\n",
       "      <td>-0.061902</td>\n",
       "      <td>0.137156</td>\n",
       "      <td>-0.042177</td>\n",
       "      <td>-0.041164</td>\n",
       "    </tr>\n",
       "    <tr>\n",
       "      <th>restecg</th>\n",
       "      <td>-0.132696</td>\n",
       "      <td>-0.055117</td>\n",
       "      <td>0.043581</td>\n",
       "      <td>-0.123794</td>\n",
       "      <td>-0.147410</td>\n",
       "      <td>-0.104051</td>\n",
       "      <td>1.000000</td>\n",
       "      <td>0.048411</td>\n",
       "      <td>-0.065606</td>\n",
       "      <td>-0.050114</td>\n",
       "      <td>0.086086</td>\n",
       "      <td>-0.078072</td>\n",
       "      <td>-0.020504</td>\n",
       "      <td>0.134468</td>\n",
       "    </tr>\n",
       "    <tr>\n",
       "      <th>thalach</th>\n",
       "      <td>-0.390227</td>\n",
       "      <td>-0.049365</td>\n",
       "      <td>0.306839</td>\n",
       "      <td>-0.039264</td>\n",
       "      <td>-0.021772</td>\n",
       "      <td>-0.008866</td>\n",
       "      <td>0.048411</td>\n",
       "      <td>1.000000</td>\n",
       "      <td>-0.380281</td>\n",
       "      <td>-0.349796</td>\n",
       "      <td>0.395308</td>\n",
       "      <td>-0.207888</td>\n",
       "      <td>-0.098068</td>\n",
       "      <td>0.422895</td>\n",
       "    </tr>\n",
       "    <tr>\n",
       "      <th>exang</th>\n",
       "      <td>0.088163</td>\n",
       "      <td>0.139157</td>\n",
       "      <td>-0.401513</td>\n",
       "      <td>0.061197</td>\n",
       "      <td>0.067382</td>\n",
       "      <td>0.049261</td>\n",
       "      <td>-0.065606</td>\n",
       "      <td>-0.380281</td>\n",
       "      <td>1.000000</td>\n",
       "      <td>0.310844</td>\n",
       "      <td>-0.267335</td>\n",
       "      <td>0.107849</td>\n",
       "      <td>0.197201</td>\n",
       "      <td>-0.438029</td>\n",
       "    </tr>\n",
       "    <tr>\n",
       "      <th>oldpeak</th>\n",
       "      <td>0.208137</td>\n",
       "      <td>0.084687</td>\n",
       "      <td>-0.174733</td>\n",
       "      <td>0.187434</td>\n",
       "      <td>0.064880</td>\n",
       "      <td>0.010859</td>\n",
       "      <td>-0.050114</td>\n",
       "      <td>-0.349796</td>\n",
       "      <td>0.310844</td>\n",
       "      <td>1.000000</td>\n",
       "      <td>-0.575189</td>\n",
       "      <td>0.221816</td>\n",
       "      <td>0.202672</td>\n",
       "      <td>-0.438441</td>\n",
       "    </tr>\n",
       "    <tr>\n",
       "      <th>slope</th>\n",
       "      <td>-0.169105</td>\n",
       "      <td>-0.026666</td>\n",
       "      <td>0.131633</td>\n",
       "      <td>-0.120445</td>\n",
       "      <td>-0.014248</td>\n",
       "      <td>-0.061902</td>\n",
       "      <td>0.086086</td>\n",
       "      <td>0.395308</td>\n",
       "      <td>-0.267335</td>\n",
       "      <td>-0.575189</td>\n",
       "      <td>1.000000</td>\n",
       "      <td>-0.073440</td>\n",
       "      <td>-0.094090</td>\n",
       "      <td>0.345512</td>\n",
       "    </tr>\n",
       "    <tr>\n",
       "      <th>ca</th>\n",
       "      <td>0.271551</td>\n",
       "      <td>0.111729</td>\n",
       "      <td>-0.176206</td>\n",
       "      <td>0.104554</td>\n",
       "      <td>0.074259</td>\n",
       "      <td>0.137156</td>\n",
       "      <td>-0.078072</td>\n",
       "      <td>-0.207888</td>\n",
       "      <td>0.107849</td>\n",
       "      <td>0.221816</td>\n",
       "      <td>-0.073440</td>\n",
       "      <td>1.000000</td>\n",
       "      <td>0.149014</td>\n",
       "      <td>-0.382085</td>\n",
       "    </tr>\n",
       "    <tr>\n",
       "      <th>thal</th>\n",
       "      <td>0.072297</td>\n",
       "      <td>0.198424</td>\n",
       "      <td>-0.163341</td>\n",
       "      <td>0.059276</td>\n",
       "      <td>0.100244</td>\n",
       "      <td>-0.042177</td>\n",
       "      <td>-0.020504</td>\n",
       "      <td>-0.098068</td>\n",
       "      <td>0.197201</td>\n",
       "      <td>0.202672</td>\n",
       "      <td>-0.094090</td>\n",
       "      <td>0.149014</td>\n",
       "      <td>1.000000</td>\n",
       "      <td>-0.337838</td>\n",
       "    </tr>\n",
       "    <tr>\n",
       "      <th>target</th>\n",
       "      <td>-0.229324</td>\n",
       "      <td>-0.279501</td>\n",
       "      <td>0.434854</td>\n",
       "      <td>-0.138772</td>\n",
       "      <td>-0.099966</td>\n",
       "      <td>-0.041164</td>\n",
       "      <td>0.134468</td>\n",
       "      <td>0.422895</td>\n",
       "      <td>-0.438029</td>\n",
       "      <td>-0.438441</td>\n",
       "      <td>0.345512</td>\n",
       "      <td>-0.382085</td>\n",
       "      <td>-0.337838</td>\n",
       "      <td>1.000000</td>\n",
       "    </tr>\n",
       "  </tbody>\n",
       "</table>\n",
       "</div>"
      ],
      "text/plain": [
       "               age       sex        cp  trestbps      chol       fbs  \\\n",
       "age       1.000000 -0.103240 -0.071966  0.271121  0.219823  0.121243   \n",
       "sex      -0.103240  1.000000 -0.041119 -0.078974 -0.198258  0.027200   \n",
       "cp       -0.071966 -0.041119  1.000000  0.038177 -0.081641  0.079294   \n",
       "trestbps  0.271121 -0.078974  0.038177  1.000000  0.127977  0.181767   \n",
       "chol      0.219823 -0.198258 -0.081641  0.127977  1.000000  0.026917   \n",
       "fbs       0.121243  0.027200  0.079294  0.181767  0.026917  1.000000   \n",
       "restecg  -0.132696 -0.055117  0.043581 -0.123794 -0.147410 -0.104051   \n",
       "thalach  -0.390227 -0.049365  0.306839 -0.039264 -0.021772 -0.008866   \n",
       "exang     0.088163  0.139157 -0.401513  0.061197  0.067382  0.049261   \n",
       "oldpeak   0.208137  0.084687 -0.174733  0.187434  0.064880  0.010859   \n",
       "slope    -0.169105 -0.026666  0.131633 -0.120445 -0.014248 -0.061902   \n",
       "ca        0.271551  0.111729 -0.176206  0.104554  0.074259  0.137156   \n",
       "thal      0.072297  0.198424 -0.163341  0.059276  0.100244 -0.042177   \n",
       "target   -0.229324 -0.279501  0.434854 -0.138772 -0.099966 -0.041164   \n",
       "\n",
       "           restecg   thalach     exang   oldpeak     slope        ca  \\\n",
       "age      -0.132696 -0.390227  0.088163  0.208137 -0.169105  0.271551   \n",
       "sex      -0.055117 -0.049365  0.139157  0.084687 -0.026666  0.111729   \n",
       "cp        0.043581  0.306839 -0.401513 -0.174733  0.131633 -0.176206   \n",
       "trestbps -0.123794 -0.039264  0.061197  0.187434 -0.120445  0.104554   \n",
       "chol     -0.147410 -0.021772  0.067382  0.064880 -0.014248  0.074259   \n",
       "fbs      -0.104051 -0.008866  0.049261  0.010859 -0.061902  0.137156   \n",
       "restecg   1.000000  0.048411 -0.065606 -0.050114  0.086086 -0.078072   \n",
       "thalach   0.048411  1.000000 -0.380281 -0.349796  0.395308 -0.207888   \n",
       "exang    -0.065606 -0.380281  1.000000  0.310844 -0.267335  0.107849   \n",
       "oldpeak  -0.050114 -0.349796  0.310844  1.000000 -0.575189  0.221816   \n",
       "slope     0.086086  0.395308 -0.267335 -0.575189  1.000000 -0.073440   \n",
       "ca       -0.078072 -0.207888  0.107849  0.221816 -0.073440  1.000000   \n",
       "thal     -0.020504 -0.098068  0.197201  0.202672 -0.094090  0.149014   \n",
       "target    0.134468  0.422895 -0.438029 -0.438441  0.345512 -0.382085   \n",
       "\n",
       "              thal    target  \n",
       "age       0.072297 -0.229324  \n",
       "sex       0.198424 -0.279501  \n",
       "cp       -0.163341  0.434854  \n",
       "trestbps  0.059276 -0.138772  \n",
       "chol      0.100244 -0.099966  \n",
       "fbs      -0.042177 -0.041164  \n",
       "restecg  -0.020504  0.134468  \n",
       "thalach  -0.098068  0.422895  \n",
       "exang     0.197201 -0.438029  \n",
       "oldpeak   0.202672 -0.438441  \n",
       "slope    -0.094090  0.345512  \n",
       "ca        0.149014 -0.382085  \n",
       "thal      1.000000 -0.337838  \n",
       "target   -0.337838  1.000000  "
      ]
     },
     "execution_count": 39,
     "metadata": {},
     "output_type": "execute_result"
    }
   ],
   "source": [
    "df.corr()"
   ]
  },
  {
   "cell_type": "markdown",
   "id": "industrial-passion",
   "metadata": {
    "papermill": {
     "duration": 0.078676,
     "end_time": "2021-10-18T08:01:31.930998",
     "exception": false,
     "start_time": "2021-10-18T08:01:31.852322",
     "status": "completed"
    },
    "tags": []
   },
   "source": [
    "<a id=\"preprocessing\"></a>\n",
    "# <p style=\"background-color:red; font-family:calibri; color:white; font-size:150%; text-align:center; border-radius:15px 50px;\">Step 5 | Data Preprocessing</p>"
   ]
  },
  {
   "cell_type": "code",
   "execution_count": 40,
   "id": "czech-ceremony",
   "metadata": {
    "papermill": {
     "duration": 0.090256,
     "end_time": "2021-10-18T08:01:32.101813",
     "exception": false,
     "start_time": "2021-10-18T08:01:32.011557",
     "status": "completed"
    },
    "tags": []
   },
   "outputs": [
    {
     "data": {
      "text/plain": [
       "age         0\n",
       "sex         0\n",
       "cp          0\n",
       "trestbps    0\n",
       "chol        0\n",
       "fbs         0\n",
       "restecg     0\n",
       "thalach     0\n",
       "exang       0\n",
       "oldpeak     0\n",
       "slope       0\n",
       "ca          0\n",
       "thal        0\n",
       "target      0\n",
       "dtype: int64"
      ]
     },
     "execution_count": 40,
     "metadata": {},
     "output_type": "execute_result"
    }
   ],
   "source": [
    "#checking for null values\n",
    "df.isna().sum()"
   ]
  },
  {
   "cell_type": "markdown",
   "id": "approved-bahrain",
   "metadata": {
    "papermill": {
     "duration": 0.077171,
     "end_time": "2021-10-18T08:01:32.257354",
     "exception": false,
     "start_time": "2021-10-18T08:01:32.180183",
     "status": "completed"
    },
    "tags": []
   },
   "source": [
    "There is no null values."
   ]
  },
  {
   "cell_type": "code",
   "execution_count": 41,
   "id": "suitable-georgia",
   "metadata": {
    "papermill": {
     "duration": 0.085138,
     "end_time": "2021-10-18T08:01:32.576796",
     "exception": false,
     "start_time": "2021-10-18T08:01:32.491658",
     "status": "completed"
    },
    "tags": []
   },
   "outputs": [],
   "source": [
    "# creating dependent and independent matrix of features\n",
    "x = df.iloc[:, 0:-1]\n",
    "y = df.iloc[:, -1]"
   ]
  },
  {
   "cell_type": "markdown",
   "id": "4283dfa1-b944-4f55-82fd-0dac101bf4c6",
   "metadata": {},
   "source": [
    "<a id=\"svm\"></a>\n",
    "# <p style=\"background-color:red; font-family:calibri; color:white; font-size:150%; text-align:center; border-radius:15px 50px;\">Step 6 |  Model Building</p>"
   ]
  },
  {
   "cell_type": "code",
   "execution_count": 42,
   "id": "78878a84-0109-4073-9f4f-8c5d5d4c7b75",
   "metadata": {},
   "outputs": [],
   "source": [
    "# Splitting the dataset in features and label\n",
    "X = df.drop('target', axis=1)\n",
    "y = df['target']"
   ]
  },
  {
   "cell_type": "code",
   "execution_count": 43,
   "id": "controlled-brake",
   "metadata": {
    "papermill": {
     "duration": 0.09605,
     "end_time": "2021-10-18T08:01:32.750890",
     "exception": false,
     "start_time": "2021-10-18T08:01:32.654840",
     "status": "completed"
    },
    "tags": []
   },
   "outputs": [
    {
     "data": {
      "text/html": [
       "<div>\n",
       "<style scoped>\n",
       "    .dataframe tbody tr th:only-of-type {\n",
       "        vertical-align: middle;\n",
       "    }\n",
       "\n",
       "    .dataframe tbody tr th {\n",
       "        vertical-align: top;\n",
       "    }\n",
       "\n",
       "    .dataframe thead th {\n",
       "        text-align: right;\n",
       "    }\n",
       "</style>\n",
       "<table border=\"1\" class=\"dataframe\">\n",
       "  <thead>\n",
       "    <tr style=\"text-align: right;\">\n",
       "      <th></th>\n",
       "      <th>age</th>\n",
       "      <th>sex</th>\n",
       "      <th>cp</th>\n",
       "      <th>trestbps</th>\n",
       "      <th>chol</th>\n",
       "      <th>fbs</th>\n",
       "      <th>restecg</th>\n",
       "      <th>thalach</th>\n",
       "      <th>exang</th>\n",
       "      <th>oldpeak</th>\n",
       "      <th>slope</th>\n",
       "      <th>ca</th>\n",
       "      <th>thal</th>\n",
       "    </tr>\n",
       "  </thead>\n",
       "  <tbody>\n",
       "    <tr>\n",
       "      <th>0</th>\n",
       "      <td>52</td>\n",
       "      <td>1</td>\n",
       "      <td>0</td>\n",
       "      <td>125</td>\n",
       "      <td>212</td>\n",
       "      <td>0</td>\n",
       "      <td>1</td>\n",
       "      <td>168</td>\n",
       "      <td>0</td>\n",
       "      <td>1.0</td>\n",
       "      <td>2</td>\n",
       "      <td>2</td>\n",
       "      <td>3</td>\n",
       "    </tr>\n",
       "    <tr>\n",
       "      <th>1</th>\n",
       "      <td>53</td>\n",
       "      <td>1</td>\n",
       "      <td>0</td>\n",
       "      <td>140</td>\n",
       "      <td>203</td>\n",
       "      <td>1</td>\n",
       "      <td>0</td>\n",
       "      <td>155</td>\n",
       "      <td>1</td>\n",
       "      <td>3.1</td>\n",
       "      <td>0</td>\n",
       "      <td>0</td>\n",
       "      <td>3</td>\n",
       "    </tr>\n",
       "    <tr>\n",
       "      <th>2</th>\n",
       "      <td>70</td>\n",
       "      <td>1</td>\n",
       "      <td>0</td>\n",
       "      <td>145</td>\n",
       "      <td>174</td>\n",
       "      <td>0</td>\n",
       "      <td>1</td>\n",
       "      <td>125</td>\n",
       "      <td>1</td>\n",
       "      <td>2.6</td>\n",
       "      <td>0</td>\n",
       "      <td>0</td>\n",
       "      <td>3</td>\n",
       "    </tr>\n",
       "    <tr>\n",
       "      <th>3</th>\n",
       "      <td>61</td>\n",
       "      <td>1</td>\n",
       "      <td>0</td>\n",
       "      <td>148</td>\n",
       "      <td>203</td>\n",
       "      <td>0</td>\n",
       "      <td>1</td>\n",
       "      <td>161</td>\n",
       "      <td>0</td>\n",
       "      <td>0.0</td>\n",
       "      <td>2</td>\n",
       "      <td>1</td>\n",
       "      <td>3</td>\n",
       "    </tr>\n",
       "    <tr>\n",
       "      <th>4</th>\n",
       "      <td>62</td>\n",
       "      <td>0</td>\n",
       "      <td>0</td>\n",
       "      <td>138</td>\n",
       "      <td>294</td>\n",
       "      <td>1</td>\n",
       "      <td>1</td>\n",
       "      <td>106</td>\n",
       "      <td>0</td>\n",
       "      <td>1.9</td>\n",
       "      <td>1</td>\n",
       "      <td>3</td>\n",
       "      <td>2</td>\n",
       "    </tr>\n",
       "  </tbody>\n",
       "</table>\n",
       "</div>"
      ],
      "text/plain": [
       "   age  sex  cp  trestbps  chol  fbs  restecg  thalach  exang  oldpeak  slope  \\\n",
       "0   52    1   0       125   212    0        1      168      0      1.0      2   \n",
       "1   53    1   0       140   203    1        0      155      1      3.1      0   \n",
       "2   70    1   0       145   174    0        1      125      1      2.6      0   \n",
       "3   61    1   0       148   203    0        1      161      0      0.0      2   \n",
       "4   62    0   0       138   294    1        1      106      0      1.9      1   \n",
       "\n",
       "   ca  thal  \n",
       "0   2     3  \n",
       "1   0     3  \n",
       "2   0     3  \n",
       "3   1     3  \n",
       "4   3     2  "
      ]
     },
     "execution_count": 43,
     "metadata": {},
     "output_type": "execute_result"
    }
   ],
   "source": [
    "x.head()"
   ]
  },
  {
   "cell_type": "code",
   "execution_count": 44,
   "id": "invalid-queen",
   "metadata": {
    "papermill": {
     "duration": 0.090441,
     "end_time": "2021-10-18T08:01:32.925278",
     "exception": false,
     "start_time": "2021-10-18T08:01:32.834837",
     "status": "completed"
    },
    "tags": []
   },
   "outputs": [
    {
     "data": {
      "text/plain": [
       "0    0\n",
       "1    0\n",
       "2    0\n",
       "3    0\n",
       "4    0\n",
       "Name: target, dtype: int64"
      ]
     },
     "execution_count": 44,
     "metadata": {},
     "output_type": "execute_result"
    }
   ],
   "source": [
    "y.head()"
   ]
  },
  {
   "cell_type": "code",
   "execution_count": 45,
   "id": "found-secondary",
   "metadata": {
    "papermill": {
     "duration": 0.277797,
     "end_time": "2021-10-18T08:01:33.282362",
     "exception": false,
     "start_time": "2021-10-18T08:01:33.004565",
     "status": "completed"
    },
    "tags": []
   },
   "outputs": [],
   "source": [
    "# spltting the dataset into train and test set\n",
    "\n",
    "x_train, x_test, y_train, y_test = train_test_split(x, y, test_size = 0.2, random_state = 31)"
   ]
  },
  {
   "cell_type": "code",
   "execution_count": 46,
   "id": "transparent-clothing",
   "metadata": {
    "papermill": {
     "duration": 0.08911,
     "end_time": "2021-10-18T08:01:33.451011",
     "exception": false,
     "start_time": "2021-10-18T08:01:33.361901",
     "status": "completed"
    },
    "tags": []
   },
   "outputs": [
    {
     "data": {
      "text/plain": [
       "(820, 205, 820, 205)"
      ]
     },
     "execution_count": 46,
     "metadata": {},
     "output_type": "execute_result"
    }
   ],
   "source": [
    "len(x_train), len(x_test), len(y_train), len(y_test)"
   ]
  },
  {
   "cell_type": "code",
   "execution_count": 47,
   "id": "cooked-crash",
   "metadata": {
    "papermill": {
     "duration": 0.098832,
     "end_time": "2021-10-18T08:01:33.630386",
     "exception": false,
     "start_time": "2021-10-18T08:01:33.531554",
     "status": "completed"
    },
    "tags": []
   },
   "outputs": [
    {
     "data": {
      "text/html": [
       "<div>\n",
       "<style scoped>\n",
       "    .dataframe tbody tr th:only-of-type {\n",
       "        vertical-align: middle;\n",
       "    }\n",
       "\n",
       "    .dataframe tbody tr th {\n",
       "        vertical-align: top;\n",
       "    }\n",
       "\n",
       "    .dataframe thead th {\n",
       "        text-align: right;\n",
       "    }\n",
       "</style>\n",
       "<table border=\"1\" class=\"dataframe\">\n",
       "  <thead>\n",
       "    <tr style=\"text-align: right;\">\n",
       "      <th></th>\n",
       "      <th>age</th>\n",
       "      <th>sex</th>\n",
       "      <th>cp</th>\n",
       "      <th>trestbps</th>\n",
       "      <th>chol</th>\n",
       "      <th>fbs</th>\n",
       "      <th>restecg</th>\n",
       "      <th>thalach</th>\n",
       "      <th>exang</th>\n",
       "      <th>oldpeak</th>\n",
       "      <th>slope</th>\n",
       "      <th>ca</th>\n",
       "      <th>thal</th>\n",
       "    </tr>\n",
       "  </thead>\n",
       "  <tbody>\n",
       "    <tr>\n",
       "      <th>999</th>\n",
       "      <td>67</td>\n",
       "      <td>1</td>\n",
       "      <td>0</td>\n",
       "      <td>125</td>\n",
       "      <td>254</td>\n",
       "      <td>1</td>\n",
       "      <td>1</td>\n",
       "      <td>163</td>\n",
       "      <td>0</td>\n",
       "      <td>0.2</td>\n",
       "      <td>1</td>\n",
       "      <td>2</td>\n",
       "      <td>3</td>\n",
       "    </tr>\n",
       "    <tr>\n",
       "      <th>208</th>\n",
       "      <td>38</td>\n",
       "      <td>1</td>\n",
       "      <td>2</td>\n",
       "      <td>138</td>\n",
       "      <td>175</td>\n",
       "      <td>0</td>\n",
       "      <td>1</td>\n",
       "      <td>173</td>\n",
       "      <td>0</td>\n",
       "      <td>0.0</td>\n",
       "      <td>2</td>\n",
       "      <td>4</td>\n",
       "      <td>2</td>\n",
       "    </tr>\n",
       "    <tr>\n",
       "      <th>605</th>\n",
       "      <td>71</td>\n",
       "      <td>0</td>\n",
       "      <td>2</td>\n",
       "      <td>110</td>\n",
       "      <td>265</td>\n",
       "      <td>1</td>\n",
       "      <td>0</td>\n",
       "      <td>130</td>\n",
       "      <td>0</td>\n",
       "      <td>0.0</td>\n",
       "      <td>2</td>\n",
       "      <td>1</td>\n",
       "      <td>2</td>\n",
       "    </tr>\n",
       "    <tr>\n",
       "      <th>172</th>\n",
       "      <td>56</td>\n",
       "      <td>1</td>\n",
       "      <td>1</td>\n",
       "      <td>120</td>\n",
       "      <td>240</td>\n",
       "      <td>0</td>\n",
       "      <td>1</td>\n",
       "      <td>169</td>\n",
       "      <td>0</td>\n",
       "      <td>0.0</td>\n",
       "      <td>0</td>\n",
       "      <td>0</td>\n",
       "      <td>2</td>\n",
       "    </tr>\n",
       "    <tr>\n",
       "      <th>385</th>\n",
       "      <td>51</td>\n",
       "      <td>1</td>\n",
       "      <td>2</td>\n",
       "      <td>110</td>\n",
       "      <td>175</td>\n",
       "      <td>0</td>\n",
       "      <td>1</td>\n",
       "      <td>123</td>\n",
       "      <td>0</td>\n",
       "      <td>0.6</td>\n",
       "      <td>2</td>\n",
       "      <td>0</td>\n",
       "      <td>2</td>\n",
       "    </tr>\n",
       "  </tbody>\n",
       "</table>\n",
       "</div>"
      ],
      "text/plain": [
       "     age  sex  cp  trestbps  chol  fbs  restecg  thalach  exang  oldpeak  \\\n",
       "999   67    1   0       125   254    1        1      163      0      0.2   \n",
       "208   38    1   2       138   175    0        1      173      0      0.0   \n",
       "605   71    0   2       110   265    1        0      130      0      0.0   \n",
       "172   56    1   1       120   240    0        1      169      0      0.0   \n",
       "385   51    1   2       110   175    0        1      123      0      0.6   \n",
       "\n",
       "     slope  ca  thal  \n",
       "999      1   2     3  \n",
       "208      2   4     2  \n",
       "605      2   1     2  \n",
       "172      0   0     2  \n",
       "385      2   0     2  "
      ]
     },
     "execution_count": 47,
     "metadata": {},
     "output_type": "execute_result"
    }
   ],
   "source": [
    "x_train.head()"
   ]
  },
  {
   "cell_type": "code",
   "execution_count": 48,
   "id": "worse-softball",
   "metadata": {
    "papermill": {
     "duration": 0.088607,
     "end_time": "2021-10-18T08:01:33.800119",
     "exception": false,
     "start_time": "2021-10-18T08:01:33.711512",
     "status": "completed"
    },
    "tags": []
   },
   "outputs": [
    {
     "data": {
      "text/plain": [
       "999    0\n",
       "208    1\n",
       "605    1\n",
       "172    1\n",
       "385    1\n",
       "Name: target, dtype: int64"
      ]
     },
     "execution_count": 48,
     "metadata": {},
     "output_type": "execute_result"
    }
   ],
   "source": [
    "y_train.head()"
   ]
  },
  {
   "cell_type": "markdown",
   "id": "ba43ee65-5ae5-4e85-921a-fab3f4295d7c",
   "metadata": {},
   "source": [
    "<a id=\"svm\"></a>\n",
    "# <p style=\"background-color:red; font-family:calibri; color:white; font-size:150%; text-align:center; border-radius:15px 50px;\">Step 7 |  LogisticRegression Model Building</p>"
   ]
  },
  {
   "cell_type": "markdown",
   "id": "looking-douglas",
   "metadata": {
    "papermill": {
     "duration": 0.084,
     "end_time": "2021-10-18T08:01:33.967793",
     "exception": false,
     "start_time": "2021-10-18T08:01:33.883793",
     "status": "completed"
    },
    "tags": []
   },
   "source": [
    "____\n",
    "<a id=\"svm_base\"></a>\n",
    "# <b><span style='color:#ff826e'>Step 7.1 |</span><span style='color:red'> LogisticRegression</span></b>"
   ]
  },
  {
   "cell_type": "code",
   "execution_count": 49,
   "id": "funded-customs",
   "metadata": {
    "papermill": {
     "duration": 0.509029,
     "end_time": "2021-10-18T08:01:34.559932",
     "exception": false,
     "start_time": "2021-10-18T08:01:34.050903",
     "status": "completed"
    },
    "tags": []
   },
   "outputs": [
    {
     "data": {
      "text/plain": [
       "0.8585365853658536"
      ]
     },
     "execution_count": 49,
     "metadata": {},
     "output_type": "execute_result"
    }
   ],
   "source": [
    "\n",
    "log_clf = LogisticRegression(max_iter = 1000, random_state = 4)\n",
    "log_clf.fit(x_train, y_train)\n",
    "log_score = log_clf.score(x_test, y_test)\n",
    "log_score"
   ]
  },
  {
   "cell_type": "markdown",
   "id": "loved-implement",
   "metadata": {
    "papermill": {
     "duration": 0.079627,
     "end_time": "2021-10-18T08:01:34.774754",
     "exception": false,
     "start_time": "2021-10-18T08:01:34.695127",
     "status": "completed"
    },
    "tags": []
   },
   "source": [
    "____\n",
    "<a id=\"svm_hp\"></a>\n",
    "# <b><span style='color:#ff826e'>Step 7.2 |</span><span style='color:red'> Hyper Tuning Logistic Regression</span></b>"
   ]
  },
  {
   "cell_type": "code",
   "execution_count": 50,
   "id": "fancy-adobe",
   "metadata": {
    "papermill": {
     "duration": 76.35393,
     "end_time": "2021-10-18T08:02:51.208550",
     "exception": false,
     "start_time": "2021-10-18T08:01:34.854620",
     "status": "completed"
    },
    "tags": []
   },
   "outputs": [
    {
     "name": "stdout",
     "output_type": "stream",
     "text": [
      "Fitting 5 folds for each of 1000 candidates, totalling 5000 fits\n"
     ]
    },
    {
     "data": {
      "text/plain": [
       "0.8682926829268293"
      ]
     },
     "execution_count": 50,
     "metadata": {},
     "output_type": "execute_result"
    }
   ],
   "source": [
    "\n",
    "log_grid = {'C': np.logspace(-5, 5),\n",
    "            'solver': ['liblinear'],\n",
    "            'max_iter': np.arange(1000, 2000, 100),\n",
    "            'penalty':['l1', 'l2']\n",
    "           }\n",
    "\n",
    "log_gscv = GridSearchCV(LogisticRegression(random_state = 7),\n",
    "                          param_grid=log_grid,\n",
    "                          cv=5,\n",
    "                          verbose=True)\n",
    "\n",
    "log_gscv.fit(x_train, y_train)\n",
    "log_tuned_score = log_gscv.score(x_test, y_test)\n",
    "log_tuned_score"
   ]
  },
  {
   "cell_type": "code",
   "execution_count": 51,
   "id": "spiritual-estonia",
   "metadata": {
    "papermill": {
     "duration": 0.089793,
     "end_time": "2021-10-18T08:02:51.380475",
     "exception": false,
     "start_time": "2021-10-18T08:02:51.290682",
     "status": "completed"
    },
    "tags": []
   },
   "outputs": [
    {
     "data": {
      "text/plain": [
       "{'C': 0.04714866363457394,\n",
       " 'max_iter': 1000,\n",
       " 'penalty': 'l2',\n",
       " 'solver': 'liblinear'}"
      ]
     },
     "execution_count": 51,
     "metadata": {},
     "output_type": "execute_result"
    }
   ],
   "source": [
    "log_gscv.best_params_"
   ]
  },
  {
   "cell_type": "markdown",
   "id": "8bacaf3f-113c-4124-a715-38aeced6f455",
   "metadata": {},
   "source": [
    "____\n",
    "<a id=\"svm_eval\"></a>\n",
    "# <b><span style='color:#ff826e'>Step 7.3 |</span><span style='color:red'> Log Model Evaluation</span></b>"
   ]
  },
  {
   "cell_type": "code",
   "execution_count": 52,
   "id": "f47f9827-b2ff-449f-b1f0-9eec9776bdd2",
   "metadata": {},
   "outputs": [],
   "source": [
    "log_predictions = log_gscv.predict(x_test)"
   ]
  },
  {
   "cell_type": "code",
   "execution_count": 53,
   "id": "fd3bb582-91bc-4f24-9565-67e8562305b4",
   "metadata": {},
   "outputs": [
    {
     "name": "stdout",
     "output_type": "stream",
     "text": [
      "              precision    recall  f1-score   support\n",
      "\n",
      "           0       0.91      0.80      0.85        97\n",
      "           1       0.84      0.93      0.88       108\n",
      "\n",
      "    accuracy                           0.87       205\n",
      "   macro avg       0.87      0.87      0.87       205\n",
      "weighted avg       0.87      0.87      0.87       205\n",
      "\n"
     ]
    }
   ],
   "source": [
    "print(classification_report(y_test, log_predictions))\n"
   ]
  },
  {
   "cell_type": "markdown",
   "id": "2b49bc0a-48ee-48d6-8658-5bb5e0a5eeec",
   "metadata": {},
   "source": [
    "<a id=\"svm\"></a>\n",
    "# <p style=\"background-color:red; font-family:calibri; color:white; font-size:150%; text-align:center; border-radius:15px 50px;\">Step 8 |  KNeighborsClassifier Model Building</p>"
   ]
  },
  {
   "cell_type": "markdown",
   "id": "attempted-generator",
   "metadata": {
    "papermill": {
     "duration": 0.08393,
     "end_time": "2021-10-18T08:02:51.546357",
     "exception": false,
     "start_time": "2021-10-18T08:02:51.462427",
     "status": "completed"
    },
    "tags": []
   },
   "source": [
    "____\n",
    "<a id=\"svm_base\"></a>\n",
    "# <b><span style='color:#ff826e'>Step 8.1 |</span><span style='color:red'> KNeighborsClassifier</span></b>"
   ]
  },
  {
   "cell_type": "code",
   "execution_count": 54,
   "id": "current-region",
   "metadata": {
    "papermill": {
     "duration": 0.173402,
     "end_time": "2021-10-18T08:02:51.804384",
     "exception": false,
     "start_time": "2021-10-18T08:02:51.630982",
     "status": "completed"
    },
    "tags": []
   },
   "outputs": [
    {
     "data": {
      "text/plain": [
       "0.7560975609756098"
      ]
     },
     "execution_count": 54,
     "metadata": {},
     "output_type": "execute_result"
    }
   ],
   "source": [
    "\n",
    "knn_clf = KNeighborsClassifier()\n",
    "knn_clf.fit(x_train, y_train)\n",
    "knn_score = knn_clf.score(x_test, y_test)\n",
    "knn_score"
   ]
  },
  {
   "cell_type": "markdown",
   "id": "opposite-bernard",
   "metadata": {
    "papermill": {
     "duration": 0.084589,
     "end_time": "2021-10-18T08:02:51.971684",
     "exception": false,
     "start_time": "2021-10-18T08:02:51.887095",
     "status": "completed"
    },
    "tags": []
   },
   "source": [
    "____\n",
    "<a id=\"svm_hp\"></a>\n",
    "# <b><span style='color:#ff826e'>Step 8.2 |</span><span style='color:red'> Hyper Tuning Knn</span></b>"
   ]
  },
  {
   "cell_type": "code",
   "execution_count": 55,
   "id": "champion-quantity",
   "metadata": {
    "papermill": {
     "duration": 236.765001,
     "end_time": "2021-10-18T08:06:48.820225",
     "exception": false,
     "start_time": "2021-10-18T08:02:52.055224",
     "status": "completed"
    },
    "tags": []
   },
   "outputs": [
    {
     "name": "stdout",
     "output_type": "stream",
     "text": [
      "Fitting 5 folds for each of 234 candidates, totalling 1170 fits\n"
     ]
    },
    {
     "data": {
      "text/plain": [
       "0.9414634146341463"
      ]
     },
     "execution_count": 55,
     "metadata": {},
     "output_type": "execute_result"
    }
   ],
   "source": [
    "knn_grid = {'n_neighbors': np.arange(2, 15),\n",
    "            'leaf_size': [10, 15, 20],\n",
    "            'p':[1,2], \n",
    "            'algorithm': ['auto', 'ball_tree', 'kd_tree']}\n",
    "\n",
    "knn_gscv = GridSearchCV(KNeighborsClassifier(),\n",
    "                        param_grid=knn_grid,\n",
    "                        cv=5,\n",
    "                        verbose=True)\n",
    "\n",
    "knn_gscv.fit(x_train, y_train)\n",
    "knn_tuned_score = knn_gscv.score(x_test, y_test)\n",
    "knn_tuned_score"
   ]
  },
  {
   "cell_type": "code",
   "execution_count": 56,
   "id": "improving-crazy",
   "metadata": {
    "papermill": {
     "duration": 0.097934,
     "end_time": "2021-10-18T08:06:49.019905",
     "exception": false,
     "start_time": "2021-10-18T08:06:48.921971",
     "status": "completed"
    },
    "tags": []
   },
   "outputs": [
    {
     "data": {
      "text/plain": [
       "{'algorithm': 'auto', 'leaf_size': 10, 'n_neighbors': 2, 'p': 1}"
      ]
     },
     "execution_count": 56,
     "metadata": {},
     "output_type": "execute_result"
    }
   ],
   "source": [
    "knn_gscv.best_params_"
   ]
  },
  {
   "cell_type": "markdown",
   "id": "f9fd87a7-2704-474d-a64e-c20bd36ff480",
   "metadata": {},
   "source": [
    "____\n",
    "<a id=\"svm_eval\"></a>\n",
    "# <b><span style='color:#ff826e'>Step 8.3 |</span><span style='color:red'> KNN Model Evaluation</span></b>"
   ]
  },
  {
   "cell_type": "code",
   "execution_count": 57,
   "id": "41658cdc-e010-4229-9858-149605e538b8",
   "metadata": {},
   "outputs": [],
   "source": [
    "knn_predictions = knn_gscv.predict(x_test)"
   ]
  },
  {
   "cell_type": "code",
   "execution_count": 58,
   "id": "236dad1e-3b30-41d4-8c30-e7052ee57746",
   "metadata": {},
   "outputs": [
    {
     "name": "stdout",
     "output_type": "stream",
     "text": [
      "              precision    recall  f1-score   support\n",
      "\n",
      "           0       0.89      1.00      0.94        97\n",
      "           1       1.00      0.89      0.94       108\n",
      "\n",
      "    accuracy                           0.94       205\n",
      "   macro avg       0.94      0.94      0.94       205\n",
      "weighted avg       0.95      0.94      0.94       205\n",
      "\n"
     ]
    }
   ],
   "source": [
    "print(classification_report(y_test, knn_predictions))\n"
   ]
  },
  {
   "cell_type": "markdown",
   "id": "liable-liverpool",
   "metadata": {
    "papermill": {
     "duration": 0.084666,
     "end_time": "2021-10-18T08:06:49.190546",
     "exception": false,
     "start_time": "2021-10-18T08:06:49.105880",
     "status": "completed"
    },
    "tags": []
   },
   "source": [
    "<a id=\"svm\"></a>\n",
    "# <p style=\"background-color:red; font-family:calibri; color:white; font-size:150%; text-align:center; border-radius:15px 50px;\">Step 9 |  Support Vector Classifier Model Building</p>"
   ]
  },
  {
   "cell_type": "markdown",
   "id": "95196378-aafd-458d-b038-196cf46001a7",
   "metadata": {},
   "source": [
    "____\n",
    "<a id=\"svm_base\"></a>\n",
    "# <b><span style='color:#ff826e'>Step 9.1 |</span><span style='color:red'> Support Vector Classifier</span></b>"
   ]
  },
  {
   "cell_type": "code",
   "execution_count": 59,
   "id": "accepting-breed",
   "metadata": {
    "papermill": {
     "duration": 0.143283,
     "end_time": "2021-10-18T08:06:49.419697",
     "exception": false,
     "start_time": "2021-10-18T08:06:49.276414",
     "status": "completed"
    },
    "tags": []
   },
   "outputs": [
    {
     "data": {
      "text/plain": [
       "0.7560975609756098"
      ]
     },
     "execution_count": 59,
     "metadata": {},
     "output_type": "execute_result"
    }
   ],
   "source": [
    "\n",
    "svc_clf = svm.SVC(random_state = 7)\n",
    "svc_clf.fit(x_train, y_train)\n",
    "svc_score = svc_clf.score(x_test, y_test)\n",
    "svc_score"
   ]
  },
  {
   "cell_type": "markdown",
   "id": "exclusive-modification",
   "metadata": {
    "papermill": {
     "duration": 0.085347,
     "end_time": "2021-10-18T08:06:49.591091",
     "exception": false,
     "start_time": "2021-10-18T08:06:49.505744",
     "status": "completed"
    },
    "tags": []
   },
   "source": [
    "____\n",
    "<a id=\"svm_hp\"></a>\n",
    "# <b><span style='color:#ff826e'>Step 9.2 |</span><span style='color:red'> Hyper Tuning Support Vector Classifier</span></b>"
   ]
  },
  {
   "cell_type": "code",
   "execution_count": 60,
   "id": "hearing-rainbow",
   "metadata": {
    "papermill": {
     "duration": 53.476441,
     "end_time": "2021-10-18T08:07:43.152514",
     "exception": false,
     "start_time": "2021-10-18T08:06:49.676073",
     "status": "completed"
    },
    "tags": []
   },
   "outputs": [
    {
     "name": "stdout",
     "output_type": "stream",
     "text": [
      "Fitting 5 folds for each of 60 candidates, totalling 300 fits\n"
     ]
    },
    {
     "data": {
      "text/plain": [
       "0.8682926829268293"
      ]
     },
     "execution_count": 60,
     "metadata": {},
     "output_type": "execute_result"
    }
   ],
   "source": [
    "svc_grid = {'C': np.logspace(-5, 5, 20),\n",
    "            'kernel': ['rbf'],\n",
    "            'degree': [2,3,4]\n",
    "           }\n",
    "\n",
    "svc_gscv = GridSearchCV(svm.SVC(random_state = 31),\n",
    "                        param_grid=svc_grid,\n",
    "                        cv=5,\n",
    "                        verbose=True)\n",
    "\n",
    "svc_gscv.fit(x_train, y_train)\n",
    "svc_tuned_score = log_gscv.score(x_test, y_test)\n",
    "svc_tuned_score"
   ]
  },
  {
   "cell_type": "code",
   "execution_count": 61,
   "id": "herbal-tissue",
   "metadata": {
    "papermill": {
     "duration": 0.089464,
     "end_time": "2021-10-18T08:07:43.325851",
     "exception": false,
     "start_time": "2021-10-18T08:07:43.236387",
     "status": "completed"
    },
    "tags": []
   },
   "outputs": [
    {
     "data": {
      "text/plain": [
       "{'C': 100000.0, 'degree': 2, 'kernel': 'rbf'}"
      ]
     },
     "execution_count": 61,
     "metadata": {},
     "output_type": "execute_result"
    }
   ],
   "source": [
    "svc_gscv.best_params_"
   ]
  },
  {
   "cell_type": "markdown",
   "id": "55752aed-fa0f-4f97-81e2-52835b8ce062",
   "metadata": {},
   "source": [
    "____\n",
    "<a id=\"svm_eval\"></a>\n",
    "# <b><span style='color:#ff826e'>Step 9.3 |</span><span style='color:red'> SVC Model Evaluation</span></b>"
   ]
  },
  {
   "cell_type": "code",
   "execution_count": 62,
   "id": "8cd29bef-d23b-4695-9fdd-9b86135a1fd1",
   "metadata": {},
   "outputs": [],
   "source": [
    "svc_predictions = svc_gscv.predict(x_test)"
   ]
  },
  {
   "cell_type": "code",
   "execution_count": 63,
   "id": "dbc4b373-98af-4447-be97-f70db4c604dd",
   "metadata": {},
   "outputs": [
    {
     "name": "stdout",
     "output_type": "stream",
     "text": [
      "              precision    recall  f1-score   support\n",
      "\n",
      "           0       0.87      0.91      0.89        97\n",
      "           1       0.91      0.88      0.90       108\n",
      "\n",
      "    accuracy                           0.89       205\n",
      "   macro avg       0.89      0.89      0.89       205\n",
      "weighted avg       0.89      0.89      0.89       205\n",
      "\n"
     ]
    }
   ],
   "source": [
    "print(classification_report(y_test, svc_predictions))\n"
   ]
  },
  {
   "cell_type": "markdown",
   "id": "illegal-equipment",
   "metadata": {
    "papermill": {
     "duration": 0.082547,
     "end_time": "2021-10-18T08:07:43.490575",
     "exception": false,
     "start_time": "2021-10-18T08:07:43.408028",
     "status": "completed"
    },
    "tags": []
   },
   "source": [
    "<a id=\"svm\"></a>\n",
    "# <p style=\"background-color:red; font-family:calibri; color:white; font-size:150%; text-align:center; border-radius:15px 50px;\">Step 10 |  Random Forest Classifier Model Building</p>"
   ]
  },
  {
   "cell_type": "markdown",
   "id": "aef6ae7c-83a0-4e54-9455-5b0c33387b45",
   "metadata": {},
   "source": [
    "____\n",
    "<a id=\"svm_base\"></a>\n",
    "# <b><span style='color:#ff826e'>Step 10.1 |</span><span style='color:red'> Random Forest Classifier</span></b>"
   ]
  },
  {
   "cell_type": "code",
   "execution_count": 64,
   "id": "approved-microphone",
   "metadata": {
    "papermill": {
     "duration": 2.157302,
     "end_time": "2021-10-18T08:07:45.731972",
     "exception": false,
     "start_time": "2021-10-18T08:07:43.574670",
     "status": "completed"
    },
    "tags": []
   },
   "outputs": [
    {
     "data": {
      "text/plain": [
       "1.0"
      ]
     },
     "execution_count": 64,
     "metadata": {},
     "output_type": "execute_result"
    }
   ],
   "source": [
    "\n",
    "rand_clf = RandomForestClassifier(n_estimators=1000, random_state = 35)\n",
    "rand_clf.fit(x_train, y_train)\n",
    "ranf_score = rand_clf.score(x_test, y_test)\n",
    "ranf_score"
   ]
  },
  {
   "cell_type": "markdown",
   "id": "buried-header",
   "metadata": {
    "papermill": {
     "duration": 0.087031,
     "end_time": "2021-10-18T08:07:45.903434",
     "exception": false,
     "start_time": "2021-10-18T08:07:45.816403",
     "status": "completed"
    },
    "tags": []
   },
   "source": [
    "**oh boy!!**\n",
    "\n",
    "100% acuuracy!! It is surely overfitting. "
   ]
  },
  {
   "cell_type": "markdown",
   "id": "ab8e197b-ff59-4568-b298-e8aabe536721",
   "metadata": {},
   "source": [
    "____\n",
    "<a id=\"svm_hp\"></a>\n",
    "# <b><span style='color:#ff826e'>Step 10.2 |</span><span style='color:red'> Hyper Tuning Random Forest Classifier</span></b>"
   ]
  },
  {
   "cell_type": "code",
   "execution_count": 65,
   "id": "7ffb4cfd-767d-48b9-adb7-434563fc726e",
   "metadata": {},
   "outputs": [
    {
     "name": "stdout",
     "output_type": "stream",
     "text": [
      "Fitting 5 folds for each of 24 candidates, totalling 120 fits\n"
     ]
    },
    {
     "data": {
      "text/plain": [
       "1.0"
      ]
     },
     "execution_count": 65,
     "metadata": {},
     "output_type": "execute_result"
    }
   ],
   "source": [
    "rand_grid = {\n",
    "    'n_estimators': [100, 500, 1000],\n",
    "    'max_features': ['sqrt', 'log2'],\n",
    "    'max_depth': [None, 10, 20, 30],\n",
    "    \n",
    "}\n",
    "\n",
    "ranf_gscv = GridSearchCV(rand_clf, param_grid=rand_grid, cv=5, verbose=1, n_jobs=-1)\n",
    "\n",
    "ranf_gscv.fit(x_train, y_train)\n",
    "ranf_tuned_score = ranf_gscv.score(x_test, y_test)\n",
    "ranf_tuned_score"
   ]
  },
  {
   "cell_type": "code",
   "execution_count": 66,
   "id": "829fee92-5f2f-4b01-99b5-d8314c505619",
   "metadata": {},
   "outputs": [
    {
     "data": {
      "text/plain": [
       "{'max_depth': None, 'max_features': 'sqrt', 'n_estimators': 100}"
      ]
     },
     "execution_count": 66,
     "metadata": {},
     "output_type": "execute_result"
    }
   ],
   "source": [
    "ranf_gscv.best_params_"
   ]
  },
  {
   "cell_type": "markdown",
   "id": "21027708-ecfc-4079-b252-ae49f28d5c3f",
   "metadata": {},
   "source": [
    "____\n",
    "<a id=\"svm_eval\"></a>\n",
    "# <b><span style='color:#ff826e'>Step 10.3 |</span><span style='color:red'> RandomForestClassifier Model Evaluation</span></b>"
   ]
  },
  {
   "cell_type": "code",
   "execution_count": 67,
   "id": "a5b1c2ba-0b0f-4d33-b22f-584033617114",
   "metadata": {},
   "outputs": [],
   "source": [
    "ran_predictions = ranf_gscv.predict(x_test)"
   ]
  },
  {
   "cell_type": "code",
   "execution_count": 68,
   "id": "4f3e7b3d-5370-489e-9ab7-2690d8aaf4d2",
   "metadata": {},
   "outputs": [
    {
     "name": "stdout",
     "output_type": "stream",
     "text": [
      "              precision    recall  f1-score   support\n",
      "\n",
      "           0       1.00      1.00      1.00        97\n",
      "           1       1.00      1.00      1.00       108\n",
      "\n",
      "    accuracy                           1.00       205\n",
      "   macro avg       1.00      1.00      1.00       205\n",
      "weighted avg       1.00      1.00      1.00       205\n",
      "\n"
     ]
    }
   ],
   "source": [
    "print(classification_report(y_test, ran_predictions))\n"
   ]
  },
  {
   "cell_type": "markdown",
   "id": "dense-reception",
   "metadata": {
    "papermill": {
     "duration": 0.084573,
     "end_time": "2021-10-18T08:07:46.076674",
     "exception": false,
     "start_time": "2021-10-18T08:07:45.992101",
     "status": "completed"
    },
    "tags": []
   },
   "source": [
    "<a id=\"svm\"></a>\n",
    "# <p style=\"background-color:red; font-family:calibri; color:white; font-size:150%; text-align:center; border-radius:15px 50px;\">Step 11 |  GradientBoostingClassifier Model Building</p>"
   ]
  },
  {
   "cell_type": "markdown",
   "id": "ed12b8e4-1736-49ac-8dfa-df7c2a02942f",
   "metadata": {},
   "source": [
    "____\n",
    "<a id=\"svm_base\"></a>\n",
    "# <b><span style='color:#ff826e'>Step 11.1 |</span><span style='color:red'> GradientBoostingClassifier</span></b>"
   ]
  },
  {
   "cell_type": "code",
   "execution_count": 69,
   "id": "durable-anime",
   "metadata": {
    "papermill": {
     "duration": 0.245159,
     "end_time": "2021-10-18T08:07:46.409911",
     "exception": false,
     "start_time": "2021-10-18T08:07:46.164752",
     "status": "completed"
    },
    "tags": []
   },
   "outputs": [
    {
     "data": {
      "text/plain": [
       "0.9463414634146341"
      ]
     },
     "execution_count": 69,
     "metadata": {},
     "output_type": "execute_result"
    }
   ],
   "source": [
    "\n",
    "gbc = GradientBoostingClassifier()\n",
    "gbc.fit(x_train, y_train)\n",
    "gbc_score = gbc.score(x_test, y_test)\n",
    "gbc_score"
   ]
  },
  {
   "cell_type": "markdown",
   "id": "heavy-cable",
   "metadata": {
    "papermill": {
     "duration": 0.085041,
     "end_time": "2021-10-18T08:07:46.581200",
     "exception": false,
     "start_time": "2021-10-18T08:07:46.496159",
     "status": "completed"
    },
    "tags": []
   },
   "source": [
    "____\n",
    "<a id=\"svm_hp\"></a>\n",
    "# <b><span style='color:#ff826e'>Step 11.2 |</span><span style='color:red'> Hyper Tuning GradientBoostingClassifier</span></b>"
   ]
  },
  {
   "cell_type": "code",
   "execution_count": 70,
   "id": "front-theology",
   "metadata": {
    "papermill": {
     "duration": 2147.579845,
     "end_time": "2021-10-18T08:43:34.245361",
     "exception": false,
     "start_time": "2021-10-18T08:07:46.665516",
     "status": "completed"
    },
    "tags": []
   },
   "outputs": [
    {
     "name": "stdout",
     "output_type": "stream",
     "text": [
      "Fitting 5 folds for each of 12 candidates, totalling 60 fits\n"
     ]
    },
    {
     "data": {
      "text/plain": [
       "0.9853658536585366"
      ]
     },
     "execution_count": 70,
     "metadata": {},
     "output_type": "execute_result"
    }
   ],
   "source": [
    "gbc_grid = {'learning_rate': [0.1, 0.01],\n",
    "            'n_estimators': [100, 500, 1000],\n",
    "            'max_depth': [2, 3]}\n",
    "\n",
    "\n",
    "gbc_gscv = GridSearchCV(GradientBoostingClassifier(),\n",
    "                      param_grid = gbc_grid,\n",
    "                           cv=5,\n",
    "                           verbose=True)\n",
    "gbc_gscv.fit(x_train, y_train)\n",
    "gbc_tuned_score = gbc_gscv.score(x_test, y_test)\n",
    "gbc_tuned_score"
   ]
  },
  {
   "cell_type": "code",
   "execution_count": 71,
   "id": "ranging-renewal",
   "metadata": {
    "papermill": {
     "duration": 0.093633,
     "end_time": "2021-10-18T08:43:34.428850",
     "exception": false,
     "start_time": "2021-10-18T08:43:34.335217",
     "status": "completed"
    },
    "tags": []
   },
   "outputs": [
    {
     "data": {
      "text/plain": [
       "{'learning_rate': 0.1, 'max_depth': 2, 'n_estimators': 1000}"
      ]
     },
     "execution_count": 71,
     "metadata": {},
     "output_type": "execute_result"
    }
   ],
   "source": [
    "gbc_gscv.best_params_"
   ]
  },
  {
   "cell_type": "markdown",
   "id": "5e328eb3-9d3f-4c2d-a59d-69e8de553cdf",
   "metadata": {},
   "source": [
    "____\n",
    "<a id=\"svm_eval\"></a>\n",
    "# <b><span style='color:#ff826e'>Step 11.3 |</span><span style='color:red'> GradientBoostingClassifier Model Evaluation</span></b>"
   ]
  },
  {
   "cell_type": "code",
   "execution_count": 72,
   "id": "a926cec2-1ce9-4b7c-813f-322ca2d2e531",
   "metadata": {},
   "outputs": [],
   "source": [
    "gbc_predictions = gbc_gscv.predict(x_test)"
   ]
  },
  {
   "cell_type": "code",
   "execution_count": 73,
   "id": "e94361f3-2963-47f8-9e5f-4931dcde59ed",
   "metadata": {},
   "outputs": [
    {
     "name": "stdout",
     "output_type": "stream",
     "text": [
      "              precision    recall  f1-score   support\n",
      "\n",
      "           0       0.97      1.00      0.98        97\n",
      "           1       1.00      0.97      0.99       108\n",
      "\n",
      "    accuracy                           0.99       205\n",
      "   macro avg       0.98      0.99      0.99       205\n",
      "weighted avg       0.99      0.99      0.99       205\n",
      "\n"
     ]
    }
   ],
   "source": [
    "print(classification_report(y_test, gbc_predictions))\n"
   ]
  },
  {
   "cell_type": "markdown",
   "id": "c9706174-98ed-4a10-800a-331aa1a8d2a8",
   "metadata": {},
   "source": [
    "<a id=\"svm\"></a>\n",
    "# <p style=\"background-color:red; font-family:calibri; color:white; font-size:150%; text-align:center; border-radius:15px 50px;\">Step 12 |  DecisionTreeClassifier Model Building</p> "
   ]
  },
  {
   "cell_type": "markdown",
   "id": "badef11d-5691-416b-9b2b-af00ef891bb3",
   "metadata": {},
   "source": [
    "____\n",
    "<a id=\"svm_base\"></a>\n",
    "# <b><span style='color:#ff826e'>Step 12.1 |</span><span style='color:red'> DecisionTreeClassifier</span></b>"
   ]
  },
  {
   "cell_type": "code",
   "execution_count": 74,
   "id": "f518d261-ca11-40f9-b686-d6aed83a1081",
   "metadata": {},
   "outputs": [
    {
     "data": {
      "text/plain": [
       "0.9853658536585366"
      ]
     },
     "execution_count": 74,
     "metadata": {},
     "output_type": "execute_result"
    }
   ],
   "source": [
    "\n",
    "dtc_clf = DecisionTreeClassifier(random_state = 4)\n",
    "dtc_clf.fit(x_train, y_train)\n",
    "dtc_score = dtc_clf.score(x_test, y_test)\n",
    "dtc_score"
   ]
  },
  {
   "cell_type": "markdown",
   "id": "3d0198cf-89e1-4d94-8d6c-b9c2aa7fea16",
   "metadata": {},
   "source": [
    "____\n",
    "<a id=\"svm_hp\"></a>\n",
    "# <b><span style='color:#ff826e'>Step 12.2 |</span><span style='color:red'> Hyper Tuning DecisionTreeClassifier</span></b>"
   ]
  },
  {
   "cell_type": "code",
   "execution_count": 75,
   "id": "5d8c10f9-1146-4b49-ad92-4d7f132d833c",
   "metadata": {},
   "outputs": [
    {
     "name": "stdout",
     "output_type": "stream",
     "text": [
      "Fitting 5 folds for each of 36 candidates, totalling 180 fits\n"
     ]
    },
    {
     "data": {
      "text/plain": [
       "0.9853658536585366"
      ]
     },
     "execution_count": 75,
     "metadata": {},
     "output_type": "execute_result"
    }
   ],
   "source": [
    "dtc_grid = {\n",
    "    'max_depth': [None, 10, 20, 30],\n",
    "    'min_samples_split': [2, 5, 10],\n",
    "    'min_samples_leaf': [1, 2, 4]\n",
    "}\n",
    "\n",
    "dtc_gscv = GridSearchCV(dtc_clf, param_grid=dtc_grid, cv=5, verbose=1, n_jobs=-1)\n",
    "dtc_gscv.fit(x_train, y_train)\n",
    "dtc_tuned_score = dtc_gscv.score(x_test, y_test)\n",
    "dtc_tuned_score"
   ]
  },
  {
   "cell_type": "code",
   "execution_count": 76,
   "id": "c6f57a2c-2d61-49e1-85f8-658143839164",
   "metadata": {},
   "outputs": [
    {
     "data": {
      "text/plain": [
       "{'max_depth': None, 'min_samples_leaf': 1, 'min_samples_split': 2}"
      ]
     },
     "execution_count": 76,
     "metadata": {},
     "output_type": "execute_result"
    }
   ],
   "source": [
    "dtc_gscv.best_params_"
   ]
  },
  {
   "cell_type": "markdown",
   "id": "2a3aeaac-c381-4c50-98c1-392f1a75207e",
   "metadata": {},
   "source": [
    "____\n",
    "<a id=\"svm_eval\"></a>\n",
    "# <b><span style='color:#ff826e'>Step 12.3 |</span><span style='color:red'> DecisionTreeClassifier Model Evaluation</span></b>"
   ]
  },
  {
   "cell_type": "code",
   "execution_count": 77,
   "id": "b2d275b2-7e06-4148-b2e5-205248ef14ad",
   "metadata": {},
   "outputs": [],
   "source": [
    "dtc_predictions = dtc_gscv.predict(x_test)"
   ]
  },
  {
   "cell_type": "code",
   "execution_count": 78,
   "id": "cf65efd1-d124-4261-84eb-949e8cf690ab",
   "metadata": {},
   "outputs": [
    {
     "name": "stdout",
     "output_type": "stream",
     "text": [
      "              precision    recall  f1-score   support\n",
      "\n",
      "           0       0.97      1.00      0.98        97\n",
      "           1       1.00      0.97      0.99       108\n",
      "\n",
      "    accuracy                           0.99       205\n",
      "   macro avg       0.98      0.99      0.99       205\n",
      "weighted avg       0.99      0.99      0.99       205\n",
      "\n"
     ]
    }
   ],
   "source": [
    "print(classification_report(y_test, dtc_predictions))"
   ]
  },
  {
   "cell_type": "markdown",
   "id": "abe61cc4-cb20-40f3-9a31-f37540fae930",
   "metadata": {},
   "source": [
    "<a id=\"svm\"></a>\n",
    "# <p style=\"background-color:red; font-family:calibri; color:white; font-size:150%; text-align:center; border-radius:15px 50px;\">Step 13 |  DataFrame Model </p> "
   ]
  },
  {
   "cell_type": "code",
   "execution_count": 79,
   "id": "governmental-decrease",
   "metadata": {
    "papermill": {
     "duration": 0.096491,
     "end_time": "2021-10-18T08:45:30.157768",
     "exception": false,
     "start_time": "2021-10-18T08:45:30.061277",
     "status": "completed"
    },
    "tags": []
   },
   "outputs": [],
   "source": [
    "# create a dictionary with all scores\n",
    "score = [{'Model':'Logistic Regression', 'Score': log_score, 'Tuned_score': log_tuned_score}, \n",
    "         {'Model':'SVC', 'Score': svc_score, 'Tuned_score': svc_tuned_score},\n",
    "         {'Model':'KNN', 'Score': knn_score, 'Tuned_score': knn_tuned_score},\n",
    "         {'Model':'DecisionTreeClassifier', 'Score': dtc_score, 'Tuned_score': dtc_tuned_score},\n",
    "         {'Model':'RandomForestClassifier', 'Score': ranf_score, 'Tuned_score': ranf_tuned_score},\n",
    "         {'Model':'Gradient Boosting', 'Score': gbc_score, 'Tuned_score': gbc_tuned_score}]"
   ]
  },
  {
   "cell_type": "markdown",
   "id": "varied-ethnic",
   "metadata": {
    "papermill": {
     "duration": 0.088563,
     "end_time": "2021-10-18T08:45:30.333076",
     "exception": false,
     "start_time": "2021-10-18T08:45:30.244513",
     "status": "completed"
    },
    "tags": []
   },
   "source": [
    "Let's view all model score as a dataframe to get a good overview"
   ]
  },
  {
   "cell_type": "code",
   "execution_count": 80,
   "id": "early-profile",
   "metadata": {
    "papermill": {
     "duration": 0.102054,
     "end_time": "2021-10-18T08:45:30.521925",
     "exception": false,
     "start_time": "2021-10-18T08:45:30.419871",
     "status": "completed"
    },
    "tags": []
   },
   "outputs": [
    {
     "data": {
      "text/html": [
       "<div>\n",
       "<style scoped>\n",
       "    .dataframe tbody tr th:only-of-type {\n",
       "        vertical-align: middle;\n",
       "    }\n",
       "\n",
       "    .dataframe tbody tr th {\n",
       "        vertical-align: top;\n",
       "    }\n",
       "\n",
       "    .dataframe thead th {\n",
       "        text-align: right;\n",
       "    }\n",
       "</style>\n",
       "<table border=\"1\" class=\"dataframe\">\n",
       "  <thead>\n",
       "    <tr style=\"text-align: right;\">\n",
       "      <th></th>\n",
       "      <th>Model</th>\n",
       "      <th>Score</th>\n",
       "      <th>Tuned_score</th>\n",
       "    </tr>\n",
       "  </thead>\n",
       "  <tbody>\n",
       "    <tr>\n",
       "      <th>4</th>\n",
       "      <td>RandomForestClassifier</td>\n",
       "      <td>1.000000</td>\n",
       "      <td>1.000000</td>\n",
       "    </tr>\n",
       "    <tr>\n",
       "      <th>3</th>\n",
       "      <td>DecisionTreeClassifier</td>\n",
       "      <td>0.985366</td>\n",
       "      <td>0.985366</td>\n",
       "    </tr>\n",
       "    <tr>\n",
       "      <th>5</th>\n",
       "      <td>Gradient Boosting</td>\n",
       "      <td>0.946341</td>\n",
       "      <td>0.985366</td>\n",
       "    </tr>\n",
       "    <tr>\n",
       "      <th>2</th>\n",
       "      <td>KNN</td>\n",
       "      <td>0.756098</td>\n",
       "      <td>0.941463</td>\n",
       "    </tr>\n",
       "    <tr>\n",
       "      <th>0</th>\n",
       "      <td>Logistic Regression</td>\n",
       "      <td>0.858537</td>\n",
       "      <td>0.868293</td>\n",
       "    </tr>\n",
       "    <tr>\n",
       "      <th>1</th>\n",
       "      <td>SVC</td>\n",
       "      <td>0.756098</td>\n",
       "      <td>0.868293</td>\n",
       "    </tr>\n",
       "  </tbody>\n",
       "</table>\n",
       "</div>"
      ],
      "text/plain": [
       "                    Model     Score  Tuned_score\n",
       "4  RandomForestClassifier  1.000000     1.000000\n",
       "3  DecisionTreeClassifier  0.985366     0.985366\n",
       "5       Gradient Boosting  0.946341     0.985366\n",
       "2                     KNN  0.756098     0.941463\n",
       "0     Logistic Regression  0.858537     0.868293\n",
       "1                     SVC  0.756098     0.868293"
      ]
     },
     "execution_count": 80,
     "metadata": {},
     "output_type": "execute_result"
    }
   ],
   "source": [
    "result = pd.DataFrame(score, columns=['Model','Score','Tuned_score'])\n",
    "result.sort_values(by='Tuned_score', ascending=False)"
   ]
  },
  {
   "cell_type": "markdown",
   "id": "2a69fdcc-ab61-4924-bd90-1a0ada800162",
   "metadata": {},
   "source": [
    "<div style=\"border-radius:20px; padding: 15px; font-size:100%; text-align:left; background-image: url(https://i.postimg.cc/jSJ5x4BM/bubbles-83683-640.jpg)\">\n",
    "\n",
    "<h3 style=\"font-size:185%; font-weight:bolder; color:red\">Results : </h3>\n",
    "\n",
    "<span style=\"font-size:120%; font-weight:700; color:black\">Acording to the above plots, best Model  base on Score is :</span>\n",
    "\n",
    "<span style=\"font-size:100%; font-weight:500; color:black\">\n",
    "<ul><b>RandomForestClassifier</b></ul>\n",
    "</br>\n",
    "</span>\n",
    "\n",
    "<span style=\"font-size:150%; font-weight:bolder; color:yellow\">So, We choose <mark> RandomForestClassifier </mark></span>\n",
    "</div>"
   ]
  },
  {
   "cell_type": "markdown",
   "id": "a1ffb1ad-d1d6-4172-893e-ea300c84859c",
   "metadata": {},
   "source": [
    "# LOC ROWS"
   ]
  },
  {
   "cell_type": "code",
   "execution_count": 81,
   "id": "a82f9a3e-e6e0-4ddb-9be7-c1bd1e0cf81f",
   "metadata": {},
   "outputs": [
    {
     "data": {
      "text/html": [
       "<div>\n",
       "<style scoped>\n",
       "    .dataframe tbody tr th:only-of-type {\n",
       "        vertical-align: middle;\n",
       "    }\n",
       "\n",
       "    .dataframe tbody tr th {\n",
       "        vertical-align: top;\n",
       "    }\n",
       "\n",
       "    .dataframe thead th {\n",
       "        text-align: right;\n",
       "    }\n",
       "</style>\n",
       "<table border=\"1\" class=\"dataframe\">\n",
       "  <thead>\n",
       "    <tr style=\"text-align: right;\">\n",
       "      <th></th>\n",
       "      <th>age</th>\n",
       "      <th>sex</th>\n",
       "      <th>cp</th>\n",
       "      <th>trestbps</th>\n",
       "      <th>chol</th>\n",
       "      <th>fbs</th>\n",
       "      <th>restecg</th>\n",
       "      <th>thalach</th>\n",
       "      <th>exang</th>\n",
       "      <th>oldpeak</th>\n",
       "      <th>slope</th>\n",
       "      <th>ca</th>\n",
       "      <th>thal</th>\n",
       "      <th>target</th>\n",
       "    </tr>\n",
       "  </thead>\n",
       "  <tbody>\n",
       "    <tr>\n",
       "      <th>500</th>\n",
       "      <td>71</td>\n",
       "      <td>0</td>\n",
       "      <td>0</td>\n",
       "      <td>112</td>\n",
       "      <td>149</td>\n",
       "      <td>0</td>\n",
       "      <td>1</td>\n",
       "      <td>125</td>\n",
       "      <td>0</td>\n",
       "      <td>1.6</td>\n",
       "      <td>1</td>\n",
       "      <td>0</td>\n",
       "      <td>2</td>\n",
       "      <td>1</td>\n",
       "    </tr>\n",
       "  </tbody>\n",
       "</table>\n",
       "</div>"
      ],
      "text/plain": [
       "     age  sex  cp  trestbps  chol  fbs  restecg  thalach  exang  oldpeak  \\\n",
       "500   71    0   0       112   149    0        1      125      0      1.6   \n",
       "\n",
       "     slope  ca  thal  target  \n",
       "500      1   0     2       1  "
      ]
     },
     "execution_count": 81,
     "metadata": {},
     "output_type": "execute_result"
    }
   ],
   "source": [
    "df.loc[500:500:]"
   ]
  },
  {
   "cell_type": "markdown",
   "id": "f156453a-3f54-4629-bb5b-2b8cd999fb59",
   "metadata": {},
   "source": [
    "<a id=\"svm\"></a>\n",
    "# <p style=\"background-color:red; font-family:calibri; color:white; font-size:150%; text-align:center; border-radius:15px 50px;\">Step 14 |  Making a Predictive System </p>"
   ]
  },
  {
   "cell_type": "code",
   "execution_count": 86,
   "id": "02b106ea-a050-482e-bf36-223d295d92fc",
   "metadata": {},
   "outputs": [
    {
     "name": "stdout",
     "output_type": "stream",
     "text": [
      "[1]\n",
      "The person have a heart problem\n"
     ]
    }
   ],
   "source": [
    "input_data = (71,0,0,112,149,0,1,125,0,1.6,1,0,2)\n",
    "\n",
    "# changing the input_data to numpy array\n",
    "array_input  = np.array(input_data)\n",
    "\n",
    "# reshape the array as we are predicting for one instance\n",
    "reshaped_input  = array_input.reshape(1,-1)\n",
    "\n",
    "prediction = ranf_gscv.predict(reshaped_input)\n",
    "print(prediction)\n",
    "\n",
    "if (prediction[0] == 0):\n",
    "    print('The person do not have a heart problem')\n",
    "else:\n",
    "    print('The person have a heart problem')"
   ]
  },
  {
   "cell_type": "markdown",
   "id": "f1481ed7-48a4-49f0-8ab8-da8b620b89ba",
   "metadata": {},
   "source": [
    "<a id=\"svm\"></a>\n",
    "# <p style=\"background-color:red; font-family:calibri; color:white; font-size:150%; text-align:center; border-radius:15px 50px;\">Step 15 |  Saving the trained model </p>"
   ]
  },
  {
   "cell_type": "code",
   "execution_count": 87,
   "id": "8259f137-0b67-4a8e-9c42-e6834691e509",
   "metadata": {},
   "outputs": [],
   "source": [
    "import pickle"
   ]
  },
  {
   "cell_type": "code",
   "execution_count": 89,
   "id": "07733240-c04e-4ba0-957f-b97abbc9b132",
   "metadata": {},
   "outputs": [],
   "source": [
    "filename = 'heart_model.sav'\n",
    "pickle.dump(ranf_gscv, open(filename, 'wb'))"
   ]
  },
  {
   "cell_type": "code",
   "execution_count": 90,
   "id": "8083827f-8630-45a5-ae19-42c82e87731d",
   "metadata": {},
   "outputs": [],
   "source": [
    "# loading the saved model\n",
    "loaded_model = pickle.load(open('heart_model.sav', 'rb'))"
   ]
  },
  {
   "cell_type": "code",
   "execution_count": 94,
   "id": "5c1cb6f4-fffa-4965-aca9-e35ae58771ec",
   "metadata": {},
   "outputs": [
    {
     "name": "stdout",
     "output_type": "stream",
     "text": [
      "[1]\n",
      "The person have a heart problem\n"
     ]
    }
   ],
   "source": [
    "input_data = (71,0,0,112,149,0,1,125,0,1.6,1,0,2)\n",
    "\n",
    "# changing the input_data to numpy array\n",
    "array_input  = np.array(input_data)\n",
    "\n",
    "# reshape the array as we are predicting for one instance\n",
    "reshaped_input  = array_input.reshape(1,-1)\n",
    "\n",
    "prediction = loaded_model.predict(reshaped_input)\n",
    "print(prediction)\n",
    "\n",
    "if (prediction[0] == 0):\n",
    "    print('The person do not have a heart problem')\n",
    "else:\n",
    "    print('The person have a heart problem')"
   ]
  },
  {
   "cell_type": "code",
   "execution_count": 92,
   "id": "b8d1cac6-bce5-4363-9788-a6b8a0f36fb8",
   "metadata": {},
   "outputs": [
    {
     "name": "stdout",
     "output_type": "stream",
     "text": [
      "age\n",
      "sex\n",
      "cp\n",
      "trestbps\n",
      "chol\n",
      "fbs\n",
      "restecg\n",
      "thalach\n",
      "exang\n",
      "oldpeak\n",
      "slope\n",
      "ca\n",
      "thal\n"
     ]
    }
   ],
   "source": [
    "for column in X.columns:\n",
    "  print(column)"
   ]
  },
  {
   "cell_type": "markdown",
   "id": "7cae2b43-c340-47c5-b017-8ba631233ae8",
   "metadata": {},
   "source": [
    "<img src='https://i.postimg.cc/t4b3WtCy/1000-F-291522205-Xkrm-S421-Fj-SGTMR.jpg'>"
   ]
  },
  {
   "cell_type": "markdown",
   "id": "1a6c985a-e02d-4d18-9696-76a084f8ca2e",
   "metadata": {},
   "source": [
    "<div style=\"border-radius: 15px; border: 3px dashed #8a7d7f; padding: 20px; background-color: #f8f9fa; font-size: 100%; text-align: center; position: relative; box-shadow: 0 0 15px rgba(0, 0, 0, 0.2);\">\n",
    "    <div style=\"position: absolute; top: 0; left: 0; width: 100%; height: 100%; background: url('https://www.transparenttextures.com/patterns/confetti.png') repeat; opacity: 0.1; border-radius: 15px;\"></div>\n",
    "    <h4 style=\"color: #333333; margin-bottom: 20px; position: relative; z-index: 1;\">🙏 Thank you for taking the time to consider this matter 🙏</h4>\n",
    "    <hr style=\"border-top: 1px solid #dcdcdc; position: relative; z-index: 1;\">\n",
    "    <h4 style=\"color: #555555; position: relative; z-index: 1;\"><b>Author:</b> Asif Shaikh</h4>\n",
    "    <hr style=\"border-top: 1px solid #dcdcdc; position: relative; z-index: 1;\">\n",
    "    <center style=\"position: relative; z-index: 1;\">\n",
    "        <strong style=\"color: #333333; font-size: 120%;\">👍 If you enjoyed this Notebook, please give it an upvote. 👍</strong>\n",
    "    </center>\n",
    "    <br>\n",
    "    <center style=\"position: relative; z-index: 1;\">\n",
    "        <strong style=\"color: #e91e63; font-size: 120%;\">💫 Best Wishes 💫</strong>\n",
    "    </center>\n",
    "</div>\n"
   ]
  }
 ],
 "metadata": {
  "kernelspec": {
   "display_name": "Python 3 (ipykernel)",
   "language": "python",
   "name": "python3"
  },
  "language_info": {
   "codemirror_mode": {
    "name": "ipython",
    "version": 3
   },
   "file_extension": ".py",
   "mimetype": "text/x-python",
   "name": "python",
   "nbconvert_exporter": "python",
   "pygments_lexer": "ipython3",
   "version": "3.11.5"
  },
  "papermill": {
   "default_parameters": {},
   "duration": 2665.861,
   "end_time": "2021-10-18T08:45:33.847544",
   "environment_variables": {},
   "exception": null,
   "input_path": "__notebook__.ipynb",
   "output_path": "__notebook__.ipynb",
   "parameters": {},
   "start_time": "2021-10-18T08:01:07.986544",
   "version": "2.3.3"
  }
 },
 "nbformat": 4,
 "nbformat_minor": 5
}
