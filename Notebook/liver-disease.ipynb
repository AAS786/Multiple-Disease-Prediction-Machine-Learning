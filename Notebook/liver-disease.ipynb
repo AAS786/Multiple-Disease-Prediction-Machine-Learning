{
 "cells": [
  {
   "cell_type": "markdown",
   "id": "d0a8be03",
   "metadata": {
    "papermill": {
     "duration": 0.012055,
     "end_time": "2023-08-09T10:23:05.307279",
     "exception": false,
     "start_time": "2023-08-09T10:23:05.295224",
     "status": "completed"
    },
    "tags": []
   },
   "source": [
    "<img src=\"https://i.postimg.cc/ydZcb9cY/Hello.jpg\">"
   ]
  },
  {
   "cell_type": "markdown",
   "id": "edea9d1b-6090-48c5-84d3-3aae7d0a2e8f",
   "metadata": {},
   "source": [
    "<img src=\"https://i.postimg.cc/5NMy6YWx/4l.png\" style=\"display: block; margin-left: auto; margin-right: auto;\">"
   ]
  },
  {
   "cell_type": "markdown",
   "id": "f818061c-a4b0-48f4-84ba-7152af91edae",
   "metadata": {},
   "source": [
    "<img src=\"https://i.postimg.cc/8sgswH3F/Predicting-Liver-Disease.jpg\">"
   ]
  },
  {
   "cell_type": "markdown",
   "id": "cc79710a-47f2-46ed-9c65-483efb31b94b",
   "metadata": {},
   "source": [
    "<a id=\"import\"></a>\n",
    "# <p style=\"background-color:purple; font-family:calibri; color:white; font-size:150%; text-align:center; border-radius:15px 50px;\">Step 1 | Import Libraries</p>\n"
   ]
  },
  {
   "cell_type": "code",
   "execution_count": 1,
   "id": "14ee1bba",
   "metadata": {
    "papermill": {
     "duration": 1.345258,
     "end_time": "2023-08-09T10:23:06.664126",
     "exception": false,
     "start_time": "2023-08-09T10:23:05.318868",
     "status": "completed"
    },
    "tags": []
   },
   "outputs": [],
   "source": [
    "import pandas as pd\n",
    "import numpy as np\n",
    "import matplotlib.pyplot as plt\n",
    "import seaborn as sns\n",
    "%matplotlib inline\n",
    "from sklearn.metrics import accuracy_score,classification_report,confusion_matrix\n",
    "from sklearn.metrics import confusion_matrix, classification_report, accuracy_score, ConfusionMatrixDisplay\n",
    "from sklearn.model_selection import train_test_split\n",
    "from sklearn.linear_model import LogisticRegression\n",
    "from sklearn.neighbors import KNeighborsClassifier\n",
    "from sklearn.svm import SVC\n",
    "from sklearn.ensemble import RandomForestClassifier\n",
    "from sklearn.ensemble import GradientBoostingClassifier\n",
    "from sklearn.tree import DecisionTreeClassifier\n",
    "from sklearn import svm\n",
    "from sklearn.model_selection import GridSearchCV\n",
    "from sklearn.preprocessing import LabelEncoder\n",
    "\n",
    "import warnings\n",
    "warnings.filterwarnings(\"ignore\")"
   ]
  },
  {
   "cell_type": "markdown",
   "id": "86040275-ff21-4554-aacc-1d4c7c73b915",
   "metadata": {},
   "source": [
    "<a id=\"read\"></a>\n",
    "# <p style=\"background-color:purple ; font-family:calibri; color:white; font-size:150%; text-align:center; border-radius:15px 50px;\">Step 2 | Read Dataset</p>"
   ]
  },
  {
   "cell_type": "code",
   "execution_count": 2,
   "id": "f77d0150-fa8a-4706-a75b-934579748937",
   "metadata": {},
   "outputs": [
    {
     "data": {
      "text/plain": [
       "'C:\\\\Users\\\\dell'"
      ]
     },
     "execution_count": 2,
     "metadata": {},
     "output_type": "execute_result"
    }
   ],
   "source": [
    "import os\n",
    "os.getcwd()"
   ]
  },
  {
   "cell_type": "code",
   "execution_count": 3,
   "id": "beea45ab-3592-4044-ba1b-6f2103cf001f",
   "metadata": {},
   "outputs": [],
   "source": [
    "os.chdir('C:\\\\Users\\\\dell\\\\downloads')"
   ]
  },
  {
   "cell_type": "code",
   "execution_count": 4,
   "id": "99fe7f73-6d03-4da3-a2b6-11235d358828",
   "metadata": {},
   "outputs": [
    {
     "data": {
      "text/plain": [
       "'C:\\\\Users\\\\dell\\\\downloads'"
      ]
     },
     "execution_count": 4,
     "metadata": {},
     "output_type": "execute_result"
    }
   ],
   "source": [
    "import os\n",
    "os.getcwd()"
   ]
  },
  {
   "cell_type": "code",
   "execution_count": 5,
   "id": "2432c572",
   "metadata": {
    "papermill": {
     "duration": 0.078751,
     "end_time": "2023-08-09T10:23:06.758688",
     "exception": false,
     "start_time": "2023-08-09T10:23:06.679937",
     "status": "completed"
    },
    "tags": []
   },
   "outputs": [
    {
     "data": {
      "text/html": [
       "<div>\n",
       "<style scoped>\n",
       "    .dataframe tbody tr th:only-of-type {\n",
       "        vertical-align: middle;\n",
       "    }\n",
       "\n",
       "    .dataframe tbody tr th {\n",
       "        vertical-align: top;\n",
       "    }\n",
       "\n",
       "    .dataframe thead th {\n",
       "        text-align: right;\n",
       "    }\n",
       "</style>\n",
       "<table border=\"1\" class=\"dataframe\">\n",
       "  <thead>\n",
       "    <tr style=\"text-align: right;\">\n",
       "      <th></th>\n",
       "      <th>Age</th>\n",
       "      <th>Gender</th>\n",
       "      <th>Total_Bilirubin</th>\n",
       "      <th>Direct_Bilirubin</th>\n",
       "      <th>Alkaline_Phosphotase</th>\n",
       "      <th>Alamine</th>\n",
       "      <th>Aspartate</th>\n",
       "      <th>Total_Protiens</th>\n",
       "      <th>Albumin</th>\n",
       "      <th>Albumin_Globulin_Ratio</th>\n",
       "      <th>Dataset</th>\n",
       "    </tr>\n",
       "  </thead>\n",
       "  <tbody>\n",
       "    <tr>\n",
       "      <th>0</th>\n",
       "      <td>65</td>\n",
       "      <td>Female</td>\n",
       "      <td>0.7</td>\n",
       "      <td>0.1</td>\n",
       "      <td>187</td>\n",
       "      <td>16</td>\n",
       "      <td>18</td>\n",
       "      <td>6.8</td>\n",
       "      <td>3.3</td>\n",
       "      <td>0.90</td>\n",
       "      <td>0</td>\n",
       "    </tr>\n",
       "    <tr>\n",
       "      <th>1</th>\n",
       "      <td>62</td>\n",
       "      <td>Male</td>\n",
       "      <td>10.9</td>\n",
       "      <td>5.5</td>\n",
       "      <td>699</td>\n",
       "      <td>64</td>\n",
       "      <td>100</td>\n",
       "      <td>7.5</td>\n",
       "      <td>3.2</td>\n",
       "      <td>0.74</td>\n",
       "      <td>0</td>\n",
       "    </tr>\n",
       "    <tr>\n",
       "      <th>2</th>\n",
       "      <td>62</td>\n",
       "      <td>Male</td>\n",
       "      <td>7.3</td>\n",
       "      <td>4.1</td>\n",
       "      <td>490</td>\n",
       "      <td>60</td>\n",
       "      <td>68</td>\n",
       "      <td>7.0</td>\n",
       "      <td>3.3</td>\n",
       "      <td>0.89</td>\n",
       "      <td>0</td>\n",
       "    </tr>\n",
       "    <tr>\n",
       "      <th>3</th>\n",
       "      <td>58</td>\n",
       "      <td>Male</td>\n",
       "      <td>1.0</td>\n",
       "      <td>0.4</td>\n",
       "      <td>182</td>\n",
       "      <td>14</td>\n",
       "      <td>20</td>\n",
       "      <td>6.8</td>\n",
       "      <td>3.4</td>\n",
       "      <td>1.00</td>\n",
       "      <td>0</td>\n",
       "    </tr>\n",
       "    <tr>\n",
       "      <th>4</th>\n",
       "      <td>72</td>\n",
       "      <td>Male</td>\n",
       "      <td>3.9</td>\n",
       "      <td>2.0</td>\n",
       "      <td>195</td>\n",
       "      <td>27</td>\n",
       "      <td>59</td>\n",
       "      <td>7.3</td>\n",
       "      <td>2.4</td>\n",
       "      <td>0.40</td>\n",
       "      <td>0</td>\n",
       "    </tr>\n",
       "    <tr>\n",
       "      <th>...</th>\n",
       "      <td>...</td>\n",
       "      <td>...</td>\n",
       "      <td>...</td>\n",
       "      <td>...</td>\n",
       "      <td>...</td>\n",
       "      <td>...</td>\n",
       "      <td>...</td>\n",
       "      <td>...</td>\n",
       "      <td>...</td>\n",
       "      <td>...</td>\n",
       "      <td>...</td>\n",
       "    </tr>\n",
       "    <tr>\n",
       "      <th>578</th>\n",
       "      <td>60</td>\n",
       "      <td>Male</td>\n",
       "      <td>0.5</td>\n",
       "      <td>0.1</td>\n",
       "      <td>500</td>\n",
       "      <td>20</td>\n",
       "      <td>34</td>\n",
       "      <td>5.9</td>\n",
       "      <td>1.6</td>\n",
       "      <td>0.37</td>\n",
       "      <td>1</td>\n",
       "    </tr>\n",
       "    <tr>\n",
       "      <th>579</th>\n",
       "      <td>40</td>\n",
       "      <td>Male</td>\n",
       "      <td>0.6</td>\n",
       "      <td>0.1</td>\n",
       "      <td>98</td>\n",
       "      <td>35</td>\n",
       "      <td>31</td>\n",
       "      <td>6.0</td>\n",
       "      <td>3.2</td>\n",
       "      <td>1.10</td>\n",
       "      <td>0</td>\n",
       "    </tr>\n",
       "    <tr>\n",
       "      <th>580</th>\n",
       "      <td>52</td>\n",
       "      <td>Male</td>\n",
       "      <td>0.8</td>\n",
       "      <td>0.2</td>\n",
       "      <td>245</td>\n",
       "      <td>48</td>\n",
       "      <td>49</td>\n",
       "      <td>6.4</td>\n",
       "      <td>3.2</td>\n",
       "      <td>1.00</td>\n",
       "      <td>0</td>\n",
       "    </tr>\n",
       "    <tr>\n",
       "      <th>581</th>\n",
       "      <td>31</td>\n",
       "      <td>Male</td>\n",
       "      <td>1.3</td>\n",
       "      <td>0.5</td>\n",
       "      <td>184</td>\n",
       "      <td>29</td>\n",
       "      <td>32</td>\n",
       "      <td>6.8</td>\n",
       "      <td>3.4</td>\n",
       "      <td>1.00</td>\n",
       "      <td>0</td>\n",
       "    </tr>\n",
       "    <tr>\n",
       "      <th>582</th>\n",
       "      <td>38</td>\n",
       "      <td>Male</td>\n",
       "      <td>1.0</td>\n",
       "      <td>0.3</td>\n",
       "      <td>216</td>\n",
       "      <td>21</td>\n",
       "      <td>24</td>\n",
       "      <td>7.3</td>\n",
       "      <td>4.4</td>\n",
       "      <td>1.50</td>\n",
       "      <td>1</td>\n",
       "    </tr>\n",
       "  </tbody>\n",
       "</table>\n",
       "<p>583 rows × 11 columns</p>\n",
       "</div>"
      ],
      "text/plain": [
       "     Age  Gender  Total_Bilirubin  Direct_Bilirubin  Alkaline_Phosphotase  \\\n",
       "0     65  Female              0.7               0.1                   187   \n",
       "1     62    Male             10.9               5.5                   699   \n",
       "2     62    Male              7.3               4.1                   490   \n",
       "3     58    Male              1.0               0.4                   182   \n",
       "4     72    Male              3.9               2.0                   195   \n",
       "..   ...     ...              ...               ...                   ...   \n",
       "578   60    Male              0.5               0.1                   500   \n",
       "579   40    Male              0.6               0.1                    98   \n",
       "580   52    Male              0.8               0.2                   245   \n",
       "581   31    Male              1.3               0.5                   184   \n",
       "582   38    Male              1.0               0.3                   216   \n",
       "\n",
       "     Alamine  Aspartate  Total_Protiens  Albumin  Albumin_Globulin_Ratio  \\\n",
       "0         16         18             6.8      3.3                    0.90   \n",
       "1         64        100             7.5      3.2                    0.74   \n",
       "2         60         68             7.0      3.3                    0.89   \n",
       "3         14         20             6.8      3.4                    1.00   \n",
       "4         27         59             7.3      2.4                    0.40   \n",
       "..       ...        ...             ...      ...                     ...   \n",
       "578       20         34             5.9      1.6                    0.37   \n",
       "579       35         31             6.0      3.2                    1.10   \n",
       "580       48         49             6.4      3.2                    1.00   \n",
       "581       29         32             6.8      3.4                    1.00   \n",
       "582       21         24             7.3      4.4                    1.50   \n",
       "\n",
       "     Dataset  \n",
       "0          0  \n",
       "1          0  \n",
       "2          0  \n",
       "3          0  \n",
       "4          0  \n",
       "..       ...  \n",
       "578        1  \n",
       "579        0  \n",
       "580        0  \n",
       "581        0  \n",
       "582        1  \n",
       "\n",
       "[583 rows x 11 columns]"
      ]
     },
     "execution_count": 5,
     "metadata": {},
     "output_type": "execute_result"
    }
   ],
   "source": [
    "df=pd.read_csv(\"Liver-Disease.csv\")\n",
    "df"
   ]
  },
  {
   "cell_type": "code",
   "execution_count": 6,
   "id": "ee095768",
   "metadata": {
    "papermill": {
     "duration": 0.038054,
     "end_time": "2023-08-09T10:23:06.837078",
     "exception": false,
     "start_time": "2023-08-09T10:23:06.799024",
     "status": "completed"
    },
    "tags": []
   },
   "outputs": [
    {
     "name": "stdout",
     "output_type": "stream",
     "text": [
      "<class 'pandas.core.frame.DataFrame'>\n",
      "RangeIndex: 583 entries, 0 to 582\n",
      "Data columns (total 11 columns):\n",
      " #   Column                  Non-Null Count  Dtype  \n",
      "---  ------                  --------------  -----  \n",
      " 0   Age                     583 non-null    int64  \n",
      " 1   Gender                  583 non-null    object \n",
      " 2   Total_Bilirubin         583 non-null    float64\n",
      " 3   Direct_Bilirubin        583 non-null    float64\n",
      " 4   Alkaline_Phosphotase    583 non-null    int64  \n",
      " 5   Alamine                 583 non-null    int64  \n",
      " 6   Aspartate               583 non-null    int64  \n",
      " 7   Total_Protiens          583 non-null    float64\n",
      " 8   Albumin                 583 non-null    float64\n",
      " 9   Albumin_Globulin_Ratio  579 non-null    float64\n",
      " 10  Dataset                 583 non-null    int64  \n",
      "dtypes: float64(5), int64(5), object(1)\n",
      "memory usage: 50.2+ KB\n"
     ]
    }
   ],
   "source": [
    "df.info()"
   ]
  },
  {
   "cell_type": "markdown",
   "id": "2dfd6c75",
   "metadata": {
    "papermill": {
     "duration": 0.012011,
     "end_time": "2023-08-09T10:23:06.887451",
     "exception": false,
     "start_time": "2023-08-09T10:23:06.875440",
     "status": "completed"
    },
    "tags": []
   },
   "source": [
    "<a id=\"preprocessing\"></a>\n",
    "# <p style=\"background-color:purple; font-family:calibri; color:white; font-size:150%; text-align:center; border-radius:15px 50px;\">Step 3 | Data Preprocessing</p>"
   ]
  },
  {
   "cell_type": "code",
   "execution_count": 7,
   "id": "7a4f9b8c",
   "metadata": {
    "papermill": {
     "duration": 0.020207,
     "end_time": "2023-08-09T10:23:06.920022",
     "exception": false,
     "start_time": "2023-08-09T10:23:06.899815",
     "status": "completed"
    },
    "tags": []
   },
   "outputs": [
    {
     "data": {
      "text/plain": [
       "Index(['Age', 'Gender', 'Total_Bilirubin', 'Direct_Bilirubin',\n",
       "       'Alkaline_Phosphotase', 'Alamine', 'Aspartate', 'Total_Protiens',\n",
       "       'Albumin', 'Albumin_Globulin_Ratio', 'Dataset'],\n",
       "      dtype='object')"
      ]
     },
     "execution_count": 7,
     "metadata": {},
     "output_type": "execute_result"
    }
   ],
   "source": [
    "#Which features are available in the dataset?\n",
    "\n",
    "df.columns"
   ]
  },
  {
   "cell_type": "code",
   "execution_count": 8,
   "id": "9e79a7c4",
   "metadata": {
    "papermill": {
     "duration": 0.027774,
     "end_time": "2023-08-09T10:23:06.960639",
     "exception": false,
     "start_time": "2023-08-09T10:23:06.932865",
     "status": "completed"
    },
    "tags": []
   },
   "outputs": [
    {
     "data": {
      "text/plain": [
       "Age                       0\n",
       "Gender                    0\n",
       "Total_Bilirubin           0\n",
       "Direct_Bilirubin          0\n",
       "Alkaline_Phosphotase      0\n",
       "Alamine                   0\n",
       "Aspartate                 0\n",
       "Total_Protiens            0\n",
       "Albumin                   0\n",
       "Albumin_Globulin_Ratio    4\n",
       "Dataset                   0\n",
       "dtype: int64"
      ]
     },
     "execution_count": 8,
     "metadata": {},
     "output_type": "execute_result"
    }
   ],
   "source": [
    "#Check for any null values\n",
    "\n",
    "df.isnull().sum()"
   ]
  },
  {
   "cell_type": "markdown",
   "id": "c3a82496",
   "metadata": {
    "papermill": {
     "duration": 0.012523,
     "end_time": "2023-08-09T10:23:06.986690",
     "exception": false,
     "start_time": "2023-08-09T10:23:06.974167",
     "status": "completed"
    },
    "tags": []
   },
   "source": [
    "#### The only data that is null is the Albumin_and_Globulin_Ratio - Only 4 rows are null."
   ]
  },
  {
   "cell_type": "code",
   "execution_count": 9,
   "id": "0489c22f",
   "metadata": {
    "papermill": {
     "duration": 0.034807,
     "end_time": "2023-08-09T10:23:07.034269",
     "exception": false,
     "start_time": "2023-08-09T10:23:06.999462",
     "status": "completed"
    },
    "tags": []
   },
   "outputs": [
    {
     "data": {
      "text/html": [
       "<div>\n",
       "<style scoped>\n",
       "    .dataframe tbody tr th:only-of-type {\n",
       "        vertical-align: middle;\n",
       "    }\n",
       "\n",
       "    .dataframe tbody tr th {\n",
       "        vertical-align: top;\n",
       "    }\n",
       "\n",
       "    .dataframe thead th {\n",
       "        text-align: right;\n",
       "    }\n",
       "</style>\n",
       "<table border=\"1\" class=\"dataframe\">\n",
       "  <thead>\n",
       "    <tr style=\"text-align: right;\">\n",
       "      <th></th>\n",
       "      <th>Age</th>\n",
       "      <th>Gender</th>\n",
       "      <th>Total_Bilirubin</th>\n",
       "      <th>Direct_Bilirubin</th>\n",
       "      <th>Alkaline_Phosphotase</th>\n",
       "      <th>Alamine</th>\n",
       "      <th>Aspartate</th>\n",
       "      <th>Total_Protiens</th>\n",
       "      <th>Albumin</th>\n",
       "      <th>Albumin_Globulin_Ratio</th>\n",
       "      <th>Dataset</th>\n",
       "    </tr>\n",
       "  </thead>\n",
       "  <tbody>\n",
       "    <tr>\n",
       "      <th>209</th>\n",
       "      <td>45</td>\n",
       "      <td>Female</td>\n",
       "      <td>0.9</td>\n",
       "      <td>0.3</td>\n",
       "      <td>189</td>\n",
       "      <td>23</td>\n",
       "      <td>33</td>\n",
       "      <td>6.6</td>\n",
       "      <td>3.9</td>\n",
       "      <td>NaN</td>\n",
       "      <td>0</td>\n",
       "    </tr>\n",
       "    <tr>\n",
       "      <th>241</th>\n",
       "      <td>51</td>\n",
       "      <td>Male</td>\n",
       "      <td>0.8</td>\n",
       "      <td>0.2</td>\n",
       "      <td>230</td>\n",
       "      <td>24</td>\n",
       "      <td>46</td>\n",
       "      <td>6.5</td>\n",
       "      <td>3.1</td>\n",
       "      <td>NaN</td>\n",
       "      <td>0</td>\n",
       "    </tr>\n",
       "    <tr>\n",
       "      <th>253</th>\n",
       "      <td>35</td>\n",
       "      <td>Female</td>\n",
       "      <td>0.6</td>\n",
       "      <td>0.2</td>\n",
       "      <td>180</td>\n",
       "      <td>12</td>\n",
       "      <td>15</td>\n",
       "      <td>5.2</td>\n",
       "      <td>2.7</td>\n",
       "      <td>NaN</td>\n",
       "      <td>1</td>\n",
       "    </tr>\n",
       "    <tr>\n",
       "      <th>312</th>\n",
       "      <td>27</td>\n",
       "      <td>Male</td>\n",
       "      <td>1.3</td>\n",
       "      <td>0.6</td>\n",
       "      <td>106</td>\n",
       "      <td>25</td>\n",
       "      <td>54</td>\n",
       "      <td>8.5</td>\n",
       "      <td>4.8</td>\n",
       "      <td>NaN</td>\n",
       "      <td>1</td>\n",
       "    </tr>\n",
       "  </tbody>\n",
       "</table>\n",
       "</div>"
      ],
      "text/plain": [
       "     Age  Gender  Total_Bilirubin  Direct_Bilirubin  Alkaline_Phosphotase  \\\n",
       "209   45  Female              0.9               0.3                   189   \n",
       "241   51    Male              0.8               0.2                   230   \n",
       "253   35  Female              0.6               0.2                   180   \n",
       "312   27    Male              1.3               0.6                   106   \n",
       "\n",
       "     Alamine  Aspartate  Total_Protiens  Albumin  Albumin_Globulin_Ratio  \\\n",
       "209       23         33             6.6      3.9                     NaN   \n",
       "241       24         46             6.5      3.1                     NaN   \n",
       "253       12         15             5.2      2.7                     NaN   \n",
       "312       25         54             8.5      4.8                     NaN   \n",
       "\n",
       "     Dataset  \n",
       "209        0  \n",
       "241        0  \n",
       "253        1  \n",
       "312        1  "
      ]
     },
     "execution_count": 9,
     "metadata": {},
     "output_type": "execute_result"
    }
   ],
   "source": [
    "df[df['Albumin_Globulin_Ratio'].isnull()]"
   ]
  },
  {
   "cell_type": "markdown",
   "id": "60ec1f1d",
   "metadata": {
    "papermill": {
     "duration": 0.01196,
     "end_time": "2023-08-09T10:23:07.059070",
     "exception": false,
     "start_time": "2023-08-09T10:23:07.047110",
     "status": "completed"
    },
    "tags": []
   },
   "source": [
    "#### Replacing the null values with mean."
   ]
  },
  {
   "cell_type": "code",
   "execution_count": 10,
   "id": "555fa5d9",
   "metadata": {
    "papermill": {
     "duration": 0.022646,
     "end_time": "2023-08-09T10:23:07.094524",
     "exception": false,
     "start_time": "2023-08-09T10:23:07.071878",
     "status": "completed"
    },
    "tags": []
   },
   "outputs": [],
   "source": [
    "df[\"Albumin_Globulin_Ratio\"] = df.Albumin_Globulin_Ratio.fillna(df['Albumin_Globulin_Ratio'].mean())"
   ]
  },
  {
   "cell_type": "code",
   "execution_count": 11,
   "id": "2fea6081",
   "metadata": {
    "papermill": {
     "duration": 0.036255,
     "end_time": "2023-08-09T10:23:07.144170",
     "exception": false,
     "start_time": "2023-08-09T10:23:07.107915",
     "status": "completed"
    },
    "tags": []
   },
   "outputs": [
    {
     "data": {
      "text/html": [
       "<div>\n",
       "<style scoped>\n",
       "    .dataframe tbody tr th:only-of-type {\n",
       "        vertical-align: middle;\n",
       "    }\n",
       "\n",
       "    .dataframe tbody tr th {\n",
       "        vertical-align: top;\n",
       "    }\n",
       "\n",
       "    .dataframe thead th {\n",
       "        text-align: right;\n",
       "    }\n",
       "</style>\n",
       "<table border=\"1\" class=\"dataframe\">\n",
       "  <thead>\n",
       "    <tr style=\"text-align: right;\">\n",
       "      <th></th>\n",
       "      <th>Age</th>\n",
       "      <th>Gender</th>\n",
       "      <th>Total_Bilirubin</th>\n",
       "      <th>Direct_Bilirubin</th>\n",
       "      <th>Alkaline_Phosphotase</th>\n",
       "      <th>Alamine</th>\n",
       "      <th>Aspartate</th>\n",
       "      <th>Total_Protiens</th>\n",
       "      <th>Albumin</th>\n",
       "      <th>Albumin_Globulin_Ratio</th>\n",
       "      <th>Dataset</th>\n",
       "    </tr>\n",
       "  </thead>\n",
       "  <tbody>\n",
       "    <tr>\n",
       "      <th>0</th>\n",
       "      <td>65</td>\n",
       "      <td>Female</td>\n",
       "      <td>0.7</td>\n",
       "      <td>0.1</td>\n",
       "      <td>187</td>\n",
       "      <td>16</td>\n",
       "      <td>18</td>\n",
       "      <td>6.8</td>\n",
       "      <td>3.3</td>\n",
       "      <td>0.90</td>\n",
       "      <td>0</td>\n",
       "    </tr>\n",
       "    <tr>\n",
       "      <th>1</th>\n",
       "      <td>62</td>\n",
       "      <td>Male</td>\n",
       "      <td>10.9</td>\n",
       "      <td>5.5</td>\n",
       "      <td>699</td>\n",
       "      <td>64</td>\n",
       "      <td>100</td>\n",
       "      <td>7.5</td>\n",
       "      <td>3.2</td>\n",
       "      <td>0.74</td>\n",
       "      <td>0</td>\n",
       "    </tr>\n",
       "    <tr>\n",
       "      <th>2</th>\n",
       "      <td>62</td>\n",
       "      <td>Male</td>\n",
       "      <td>7.3</td>\n",
       "      <td>4.1</td>\n",
       "      <td>490</td>\n",
       "      <td>60</td>\n",
       "      <td>68</td>\n",
       "      <td>7.0</td>\n",
       "      <td>3.3</td>\n",
       "      <td>0.89</td>\n",
       "      <td>0</td>\n",
       "    </tr>\n",
       "    <tr>\n",
       "      <th>3</th>\n",
       "      <td>58</td>\n",
       "      <td>Male</td>\n",
       "      <td>1.0</td>\n",
       "      <td>0.4</td>\n",
       "      <td>182</td>\n",
       "      <td>14</td>\n",
       "      <td>20</td>\n",
       "      <td>6.8</td>\n",
       "      <td>3.4</td>\n",
       "      <td>1.00</td>\n",
       "      <td>0</td>\n",
       "    </tr>\n",
       "    <tr>\n",
       "      <th>4</th>\n",
       "      <td>72</td>\n",
       "      <td>Male</td>\n",
       "      <td>3.9</td>\n",
       "      <td>2.0</td>\n",
       "      <td>195</td>\n",
       "      <td>27</td>\n",
       "      <td>59</td>\n",
       "      <td>7.3</td>\n",
       "      <td>2.4</td>\n",
       "      <td>0.40</td>\n",
       "      <td>0</td>\n",
       "    </tr>\n",
       "    <tr>\n",
       "      <th>...</th>\n",
       "      <td>...</td>\n",
       "      <td>...</td>\n",
       "      <td>...</td>\n",
       "      <td>...</td>\n",
       "      <td>...</td>\n",
       "      <td>...</td>\n",
       "      <td>...</td>\n",
       "      <td>...</td>\n",
       "      <td>...</td>\n",
       "      <td>...</td>\n",
       "      <td>...</td>\n",
       "    </tr>\n",
       "    <tr>\n",
       "      <th>578</th>\n",
       "      <td>60</td>\n",
       "      <td>Male</td>\n",
       "      <td>0.5</td>\n",
       "      <td>0.1</td>\n",
       "      <td>500</td>\n",
       "      <td>20</td>\n",
       "      <td>34</td>\n",
       "      <td>5.9</td>\n",
       "      <td>1.6</td>\n",
       "      <td>0.37</td>\n",
       "      <td>1</td>\n",
       "    </tr>\n",
       "    <tr>\n",
       "      <th>579</th>\n",
       "      <td>40</td>\n",
       "      <td>Male</td>\n",
       "      <td>0.6</td>\n",
       "      <td>0.1</td>\n",
       "      <td>98</td>\n",
       "      <td>35</td>\n",
       "      <td>31</td>\n",
       "      <td>6.0</td>\n",
       "      <td>3.2</td>\n",
       "      <td>1.10</td>\n",
       "      <td>0</td>\n",
       "    </tr>\n",
       "    <tr>\n",
       "      <th>580</th>\n",
       "      <td>52</td>\n",
       "      <td>Male</td>\n",
       "      <td>0.8</td>\n",
       "      <td>0.2</td>\n",
       "      <td>245</td>\n",
       "      <td>48</td>\n",
       "      <td>49</td>\n",
       "      <td>6.4</td>\n",
       "      <td>3.2</td>\n",
       "      <td>1.00</td>\n",
       "      <td>0</td>\n",
       "    </tr>\n",
       "    <tr>\n",
       "      <th>581</th>\n",
       "      <td>31</td>\n",
       "      <td>Male</td>\n",
       "      <td>1.3</td>\n",
       "      <td>0.5</td>\n",
       "      <td>184</td>\n",
       "      <td>29</td>\n",
       "      <td>32</td>\n",
       "      <td>6.8</td>\n",
       "      <td>3.4</td>\n",
       "      <td>1.00</td>\n",
       "      <td>0</td>\n",
       "    </tr>\n",
       "    <tr>\n",
       "      <th>582</th>\n",
       "      <td>38</td>\n",
       "      <td>Male</td>\n",
       "      <td>1.0</td>\n",
       "      <td>0.3</td>\n",
       "      <td>216</td>\n",
       "      <td>21</td>\n",
       "      <td>24</td>\n",
       "      <td>7.3</td>\n",
       "      <td>4.4</td>\n",
       "      <td>1.50</td>\n",
       "      <td>1</td>\n",
       "    </tr>\n",
       "  </tbody>\n",
       "</table>\n",
       "<p>583 rows × 11 columns</p>\n",
       "</div>"
      ],
      "text/plain": [
       "     Age  Gender  Total_Bilirubin  Direct_Bilirubin  Alkaline_Phosphotase  \\\n",
       "0     65  Female              0.7               0.1                   187   \n",
       "1     62    Male             10.9               5.5                   699   \n",
       "2     62    Male              7.3               4.1                   490   \n",
       "3     58    Male              1.0               0.4                   182   \n",
       "4     72    Male              3.9               2.0                   195   \n",
       "..   ...     ...              ...               ...                   ...   \n",
       "578   60    Male              0.5               0.1                   500   \n",
       "579   40    Male              0.6               0.1                    98   \n",
       "580   52    Male              0.8               0.2                   245   \n",
       "581   31    Male              1.3               0.5                   184   \n",
       "582   38    Male              1.0               0.3                   216   \n",
       "\n",
       "     Alamine  Aspartate  Total_Protiens  Albumin  Albumin_Globulin_Ratio  \\\n",
       "0         16         18             6.8      3.3                    0.90   \n",
       "1         64        100             7.5      3.2                    0.74   \n",
       "2         60         68             7.0      3.3                    0.89   \n",
       "3         14         20             6.8      3.4                    1.00   \n",
       "4         27         59             7.3      2.4                    0.40   \n",
       "..       ...        ...             ...      ...                     ...   \n",
       "578       20         34             5.9      1.6                    0.37   \n",
       "579       35         31             6.0      3.2                    1.10   \n",
       "580       48         49             6.4      3.2                    1.00   \n",
       "581       29         32             6.8      3.4                    1.00   \n",
       "582       21         24             7.3      4.4                    1.50   \n",
       "\n",
       "     Dataset  \n",
       "0          0  \n",
       "1          0  \n",
       "2          0  \n",
       "3          0  \n",
       "4          0  \n",
       "..       ...  \n",
       "578        1  \n",
       "579        0  \n",
       "580        0  \n",
       "581        0  \n",
       "582        1  \n",
       "\n",
       "[583 rows x 11 columns]"
      ]
     },
     "execution_count": 11,
     "metadata": {},
     "output_type": "execute_result"
    }
   ],
   "source": [
    "df"
   ]
  },
  {
   "cell_type": "code",
   "execution_count": 12,
   "id": "80d9f591",
   "metadata": {
    "papermill": {
     "duration": 0.025712,
     "end_time": "2023-08-09T10:23:07.183201",
     "exception": false,
     "start_time": "2023-08-09T10:23:07.157489",
     "status": "completed"
    },
    "tags": []
   },
   "outputs": [
    {
     "data": {
      "text/plain": [
       "Age                       0\n",
       "Gender                    0\n",
       "Total_Bilirubin           0\n",
       "Direct_Bilirubin          0\n",
       "Alkaline_Phosphotase      0\n",
       "Alamine                   0\n",
       "Aspartate                 0\n",
       "Total_Protiens            0\n",
       "Albumin                   0\n",
       "Albumin_Globulin_Ratio    0\n",
       "Dataset                   0\n",
       "dtype: int64"
      ]
     },
     "execution_count": 12,
     "metadata": {},
     "output_type": "execute_result"
    }
   ],
   "source": [
    "#Check for any null values\n",
    "df.isnull().sum()"
   ]
  },
  {
   "cell_type": "markdown",
   "id": "2866a76f",
   "metadata": {
    "papermill": {
     "duration": 0.012488,
     "end_time": "2023-08-09T10:23:07.210004",
     "exception": false,
     "start_time": "2023-08-09T10:23:07.197516",
     "status": "completed"
    },
    "tags": []
   },
   "source": [
    "#### The null values are replaced with mean."
   ]
  },
  {
   "cell_type": "code",
   "execution_count": 13,
   "id": "949a0324",
   "metadata": {
    "papermill": {
     "duration": 0.023906,
     "end_time": "2023-08-09T10:23:07.246546",
     "exception": false,
     "start_time": "2023-08-09T10:23:07.222640",
     "status": "completed"
    },
    "tags": []
   },
   "outputs": [
    {
     "data": {
      "text/plain": [
       "Dataset\n",
       "0    416\n",
       "1    167\n",
       "Name: count, dtype: int64"
      ]
     },
     "execution_count": 13,
     "metadata": {},
     "output_type": "execute_result"
    }
   ],
   "source": [
    "df['Dataset'].value_counts()"
   ]
  },
  {
   "cell_type": "markdown",
   "id": "a253c464",
   "metadata": {
    "papermill": {
     "duration": 0.013172,
     "end_time": "2023-08-09T10:23:07.273745",
     "exception": false,
     "start_time": "2023-08-09T10:23:07.260573",
     "status": "completed"
    },
    "tags": []
   },
   "source": [
    "#### Convert categorical variable \"Gender\" to indicator variables"
   ]
  },
  {
   "cell_type": "code",
   "execution_count": 14,
   "id": "09c95bcb",
   "metadata": {
    "papermill": {
     "duration": 0.034668,
     "end_time": "2023-08-09T10:23:07.409069",
     "exception": false,
     "start_time": "2023-08-09T10:23:07.374401",
     "status": "completed"
    },
    "tags": []
   },
   "outputs": [
    {
     "data": {
      "text/html": [
       "<div>\n",
       "<style scoped>\n",
       "    .dataframe tbody tr th:only-of-type {\n",
       "        vertical-align: middle;\n",
       "    }\n",
       "\n",
       "    .dataframe tbody tr th {\n",
       "        vertical-align: top;\n",
       "    }\n",
       "\n",
       "    .dataframe thead th {\n",
       "        text-align: right;\n",
       "    }\n",
       "</style>\n",
       "<table border=\"1\" class=\"dataframe\">\n",
       "  <thead>\n",
       "    <tr style=\"text-align: right;\">\n",
       "      <th></th>\n",
       "      <th>Age</th>\n",
       "      <th>Gender</th>\n",
       "      <th>Total_Bilirubin</th>\n",
       "      <th>Direct_Bilirubin</th>\n",
       "      <th>Alkaline_Phosphotase</th>\n",
       "      <th>Alamine</th>\n",
       "      <th>Aspartate</th>\n",
       "      <th>Total_Protiens</th>\n",
       "      <th>Albumin</th>\n",
       "      <th>Albumin_Globulin_Ratio</th>\n",
       "      <th>Dataset</th>\n",
       "    </tr>\n",
       "  </thead>\n",
       "  <tbody>\n",
       "    <tr>\n",
       "      <th>0</th>\n",
       "      <td>65</td>\n",
       "      <td>Female</td>\n",
       "      <td>0.7</td>\n",
       "      <td>0.1</td>\n",
       "      <td>187</td>\n",
       "      <td>16</td>\n",
       "      <td>18</td>\n",
       "      <td>6.8</td>\n",
       "      <td>3.3</td>\n",
       "      <td>0.90</td>\n",
       "      <td>0</td>\n",
       "    </tr>\n",
       "    <tr>\n",
       "      <th>1</th>\n",
       "      <td>62</td>\n",
       "      <td>Male</td>\n",
       "      <td>10.9</td>\n",
       "      <td>5.5</td>\n",
       "      <td>699</td>\n",
       "      <td>64</td>\n",
       "      <td>100</td>\n",
       "      <td>7.5</td>\n",
       "      <td>3.2</td>\n",
       "      <td>0.74</td>\n",
       "      <td>0</td>\n",
       "    </tr>\n",
       "    <tr>\n",
       "      <th>2</th>\n",
       "      <td>62</td>\n",
       "      <td>Male</td>\n",
       "      <td>7.3</td>\n",
       "      <td>4.1</td>\n",
       "      <td>490</td>\n",
       "      <td>60</td>\n",
       "      <td>68</td>\n",
       "      <td>7.0</td>\n",
       "      <td>3.3</td>\n",
       "      <td>0.89</td>\n",
       "      <td>0</td>\n",
       "    </tr>\n",
       "    <tr>\n",
       "      <th>3</th>\n",
       "      <td>58</td>\n",
       "      <td>Male</td>\n",
       "      <td>1.0</td>\n",
       "      <td>0.4</td>\n",
       "      <td>182</td>\n",
       "      <td>14</td>\n",
       "      <td>20</td>\n",
       "      <td>6.8</td>\n",
       "      <td>3.4</td>\n",
       "      <td>1.00</td>\n",
       "      <td>0</td>\n",
       "    </tr>\n",
       "    <tr>\n",
       "      <th>4</th>\n",
       "      <td>72</td>\n",
       "      <td>Male</td>\n",
       "      <td>3.9</td>\n",
       "      <td>2.0</td>\n",
       "      <td>195</td>\n",
       "      <td>27</td>\n",
       "      <td>59</td>\n",
       "      <td>7.3</td>\n",
       "      <td>2.4</td>\n",
       "      <td>0.40</td>\n",
       "      <td>0</td>\n",
       "    </tr>\n",
       "  </tbody>\n",
       "</table>\n",
       "</div>"
      ],
      "text/plain": [
       "   Age  Gender  Total_Bilirubin  Direct_Bilirubin  Alkaline_Phosphotase  \\\n",
       "0   65  Female              0.7               0.1                   187   \n",
       "1   62    Male             10.9               5.5                   699   \n",
       "2   62    Male              7.3               4.1                   490   \n",
       "3   58    Male              1.0               0.4                   182   \n",
       "4   72    Male              3.9               2.0                   195   \n",
       "\n",
       "   Alamine  Aspartate  Total_Protiens  Albumin  Albumin_Globulin_Ratio  \\\n",
       "0       16         18             6.8      3.3                    0.90   \n",
       "1       64        100             7.5      3.2                    0.74   \n",
       "2       60         68             7.0      3.3                    0.89   \n",
       "3       14         20             6.8      3.4                    1.00   \n",
       "4       27         59             7.3      2.4                    0.40   \n",
       "\n",
       "   Dataset  \n",
       "0        0  \n",
       "1        0  \n",
       "2        0  \n",
       "3        0  \n",
       "4        0  "
      ]
     },
     "execution_count": 14,
     "metadata": {},
     "output_type": "execute_result"
    }
   ],
   "source": [
    "df.head()"
   ]
  },
  {
   "cell_type": "markdown",
   "id": "8806d65f",
   "metadata": {
    "papermill": {
     "duration": 0.013012,
     "end_time": "2023-08-09T10:23:07.435697",
     "exception": false,
     "start_time": "2023-08-09T10:23:07.422685",
     "status": "completed"
    },
    "tags": []
   },
   "source": [
    "<a id=\"eda\"></a>\n",
    "# <p style=\"background-color:purple; font-family:calibri; color:white; font-size:150%; text-align:center; border-radius:15px 50px;\">Step 4 | EDA</p>"
   ]
  },
  {
   "cell_type": "code",
   "execution_count": 15,
   "id": "e2f1406b",
   "metadata": {
    "papermill": {
     "duration": 0.207428,
     "end_time": "2023-08-09T10:23:07.656329",
     "exception": false,
     "start_time": "2023-08-09T10:23:07.448901",
     "status": "completed"
    },
    "tags": []
   },
   "outputs": [
    {
     "name": "stdout",
     "output_type": "stream",
     "text": [
      "Number of patients diagnosed with liver disease:  416\n",
      "Number of patients not diagnosed with liver disease:  167\n"
     ]
    },
    {
     "data": {
      "image/png": "[encoded data removed]",
      "text/plain": [
       "<Figure size 640x480 with 1 Axes>"
      ]
     },
     "metadata": {},
     "output_type": "display_data"
    }
   ],
   "source": [
    "sns.countplot(data=df, x = 'Dataset', label='Count')\n",
    "\n",
    "LD, NLD = df['Dataset'].value_counts()\n",
    "print('Number of patients diagnosed with liver disease: ',LD)\n",
    "print('Number of patients not diagnosed with liver disease: ',NLD)\n"
   ]
  },
  {
   "cell_type": "code",
   "execution_count": 16,
   "id": "1f2b59fa",
   "metadata": {
    "papermill": {
     "duration": 0.156013,
     "end_time": "2023-08-09T10:23:07.826084",
     "exception": false,
     "start_time": "2023-08-09T10:23:07.670071",
     "status": "completed"
    },
    "tags": []
   },
   "outputs": [
    {
     "name": "stdout",
     "output_type": "stream",
     "text": [
      "Number of patients that are male:  441\n",
      "Number of patients that are female:  142\n"
     ]
    },
    {
     "data": {
      "image/png": "[encoded data removed]",
      "text/plain": [
       "<Figure size 640x480 with 1 Axes>"
      ]
     },
     "metadata": {},
     "output_type": "display_data"
    }
   ],
   "source": [
    "sns.countplot(data=df, x = 'Gender', label='Count')\n",
    "\n",
    "M, F = df['Gender'].value_counts()\n",
    "print('Number of patients that are male: ',M)\n",
    "print('Number of patients that are female: ',F)\n"
   ]
  },
  {
   "cell_type": "code",
   "execution_count": 17,
   "id": "17b4478e",
   "metadata": {
    "papermill": {
     "duration": 0.406766,
     "end_time": "2023-08-09T10:23:08.250124",
     "exception": false,
     "start_time": "2023-08-09T10:23:07.843358",
     "status": "completed"
    },
    "tags": []
   },
   "outputs": [
    {
     "data": {
      "text/plain": [
       "<seaborn.axisgrid.FacetGrid at 0x1f355aa4e90>"
      ]
     },
     "execution_count": 17,
     "metadata": {},
     "output_type": "execute_result"
    },
    {
     "data": {
      "image/png": "[encoded data removed]",
      "text/plain": [
       "<Figure size 565.736x500 with 1 Axes>"
      ]
     },
     "metadata": {},
     "output_type": "display_data"
    }
   ],
   "source": [
    "\n",
    "sns.catplot(x=\"Age\", y=\"Gender\", hue=\"Dataset\", data=df,kind=\"bar\" )\n"
   ]
  },
  {
   "cell_type": "markdown",
   "id": "e63af123",
   "metadata": {
    "papermill": {
     "duration": 0.014335,
     "end_time": "2023-08-09T10:23:08.279141",
     "exception": false,
     "start_time": "2023-08-09T10:23:08.264806",
     "status": "completed"
    },
    "tags": []
   },
   "source": [
    "#### Age seems to be a factor for liver disease for both male and female genders"
   ]
  },
  {
   "cell_type": "code",
   "execution_count": 18,
   "id": "bfb35b79",
   "metadata": {
    "papermill": {
     "duration": 0.030963,
     "end_time": "2023-08-09T10:23:08.324695",
     "exception": false,
     "start_time": "2023-08-09T10:23:08.293732",
     "status": "completed"
    },
    "tags": []
   },
   "outputs": [
    {
     "data": {
      "text/html": [
       "<div>\n",
       "<style scoped>\n",
       "    .dataframe tbody tr th:only-of-type {\n",
       "        vertical-align: middle;\n",
       "    }\n",
       "\n",
       "    .dataframe tbody tr th {\n",
       "        vertical-align: top;\n",
       "    }\n",
       "\n",
       "    .dataframe thead th {\n",
       "        text-align: right;\n",
       "    }\n",
       "</style>\n",
       "<table border=\"1\" class=\"dataframe\">\n",
       "  <thead>\n",
       "    <tr style=\"text-align: right;\">\n",
       "      <th></th>\n",
       "      <th>Dataset</th>\n",
       "      <th>Gender</th>\n",
       "      <th>Age</th>\n",
       "    </tr>\n",
       "  </thead>\n",
       "  <tbody>\n",
       "    <tr>\n",
       "      <th>2</th>\n",
       "      <td>1</td>\n",
       "      <td>Female</td>\n",
       "      <td>50</td>\n",
       "    </tr>\n",
       "    <tr>\n",
       "      <th>3</th>\n",
       "      <td>1</td>\n",
       "      <td>Male</td>\n",
       "      <td>117</td>\n",
       "    </tr>\n",
       "    <tr>\n",
       "      <th>0</th>\n",
       "      <td>0</td>\n",
       "      <td>Female</td>\n",
       "      <td>92</td>\n",
       "    </tr>\n",
       "    <tr>\n",
       "      <th>1</th>\n",
       "      <td>0</td>\n",
       "      <td>Male</td>\n",
       "      <td>324</td>\n",
       "    </tr>\n",
       "  </tbody>\n",
       "</table>\n",
       "</div>"
      ],
      "text/plain": [
       "   Dataset  Gender  Age\n",
       "2        1  Female   50\n",
       "3        1    Male  117\n",
       "0        0  Female   92\n",
       "1        0    Male  324"
      ]
     },
     "execution_count": 18,
     "metadata": {},
     "output_type": "execute_result"
    }
   ],
   "source": [
    "df[['Gender', 'Dataset','Age']].groupby(['Dataset','Gender'], as_index=False).count().sort_values(by='Dataset', ascending=False)"
   ]
  },
  {
   "cell_type": "code",
   "execution_count": 19,
   "id": "e8731c93",
   "metadata": {
    "papermill": {
     "duration": 0.033272,
     "end_time": "2023-08-09T10:23:08.372692",
     "exception": false,
     "start_time": "2023-08-09T10:23:08.339420",
     "status": "completed"
    },
    "tags": []
   },
   "outputs": [
    {
     "data": {
      "text/html": [
       "<div>\n",
       "<style scoped>\n",
       "    .dataframe tbody tr th:only-of-type {\n",
       "        vertical-align: middle;\n",
       "    }\n",
       "\n",
       "    .dataframe tbody tr th {\n",
       "        vertical-align: top;\n",
       "    }\n",
       "\n",
       "    .dataframe thead th {\n",
       "        text-align: right;\n",
       "    }\n",
       "</style>\n",
       "<table border=\"1\" class=\"dataframe\">\n",
       "  <thead>\n",
       "    <tr style=\"text-align: right;\">\n",
       "      <th></th>\n",
       "      <th>Dataset</th>\n",
       "      <th>Gender</th>\n",
       "      <th>Age</th>\n",
       "    </tr>\n",
       "  </thead>\n",
       "  <tbody>\n",
       "    <tr>\n",
       "      <th>2</th>\n",
       "      <td>1</td>\n",
       "      <td>Female</td>\n",
       "      <td>42.740000</td>\n",
       "    </tr>\n",
       "    <tr>\n",
       "      <th>3</th>\n",
       "      <td>1</td>\n",
       "      <td>Male</td>\n",
       "      <td>40.598291</td>\n",
       "    </tr>\n",
       "    <tr>\n",
       "      <th>0</th>\n",
       "      <td>0</td>\n",
       "      <td>Female</td>\n",
       "      <td>43.347826</td>\n",
       "    </tr>\n",
       "    <tr>\n",
       "      <th>1</th>\n",
       "      <td>0</td>\n",
       "      <td>Male</td>\n",
       "      <td>46.950617</td>\n",
       "    </tr>\n",
       "  </tbody>\n",
       "</table>\n",
       "</div>"
      ],
      "text/plain": [
       "   Dataset  Gender        Age\n",
       "2        1  Female  42.740000\n",
       "3        1    Male  40.598291\n",
       "0        0  Female  43.347826\n",
       "1        0    Male  46.950617"
      ]
     },
     "execution_count": 19,
     "metadata": {},
     "output_type": "execute_result"
    }
   ],
   "source": [
    "df[['Gender', 'Dataset','Age']].groupby(['Dataset','Gender'], as_index=False).mean().sort_values(by='Dataset', ascending=False)\n"
   ]
  },
  {
   "cell_type": "code",
   "execution_count": 20,
   "id": "ac07df54",
   "metadata": {
    "papermill": {
     "duration": 0.976374,
     "end_time": "2023-08-09T10:23:09.364017",
     "exception": false,
     "start_time": "2023-08-09T10:23:08.387643",
     "status": "completed"
    },
    "tags": []
   },
   "outputs": [
    {
     "data": {
      "image/png": "[encoded data removed]",
      "text/plain": [
       "<Figure size 600x600 with 4 Axes>"
      ]
     },
     "metadata": {},
     "output_type": "display_data"
    }
   ],
   "source": [
    "g = sns.FacetGrid(df, col=\"Dataset\", row=\"Gender\", margin_titles=True)\n",
    "g.map(plt.hist, \"Age\", color=\"red\")\n",
    "plt.subplots_adjust(top=0.9)\n",
    "g.fig.suptitle('Disease by Gender and Age');"
   ]
  },
  {
   "cell_type": "code",
   "execution_count": 21,
   "id": "6138116c",
   "metadata": {
    "papermill": {
     "duration": 0.990489,
     "end_time": "2023-08-09T10:23:10.370219",
     "exception": false,
     "start_time": "2023-08-09T10:23:09.379730",
     "status": "completed"
    },
    "tags": []
   },
   "outputs": [
    {
     "data": {
      "image/png": "[encoded data removed]",
      "text/plain": [
       "<Figure size 600x600 with 4 Axes>"
      ]
     },
     "metadata": {},
     "output_type": "display_data"
    }
   ],
   "source": [
    "g = sns.FacetGrid(df, col=\"Gender\", row=\"Dataset\", margin_titles=True)\n",
    "g.map(plt.scatter,\"Direct_Bilirubin\", \"Total_Bilirubin\", edgecolor=\"w\")\n",
    "plt.subplots_adjust(top=0.9)"
   ]
  },
  {
   "cell_type": "markdown",
   "id": "4e7c6c1c",
   "metadata": {
    "papermill": {
     "duration": 0.016019,
     "end_time": "2023-08-09T10:23:10.403160",
     "exception": false,
     "start_time": "2023-08-09T10:23:10.387141",
     "status": "completed"
    },
    "tags": []
   },
   "source": [
    "#### There seems to be direct relationship between Total_Bilirubin and Direct_Bilirubin. So we have the possibility of removing one of this feature."
   ]
  },
  {
   "cell_type": "code",
   "execution_count": 22,
   "id": "d40f382b",
   "metadata": {
    "papermill": {
     "duration": 1.174451,
     "end_time": "2023-08-09T10:23:11.593822",
     "exception": false,
     "start_time": "2023-08-09T10:23:10.419371",
     "status": "completed"
    },
    "tags": []
   },
   "outputs": [
    {
     "data": {
      "text/plain": [
       "<seaborn.axisgrid.JointGrid at 0x1f3592dce90>"
      ]
     },
     "execution_count": 22,
     "metadata": {},
     "output_type": "execute_result"
    },
    {
     "data": {
      "image/png": "[encoded data removed]",
      "text/plain": [
       "<Figure size 600x600 with 3 Axes>"
      ]
     },
     "metadata": {},
     "output_type": "display_data"
    }
   ],
   "source": [
    "\n",
    "sns.jointplot(x=\"Total_Bilirubin\", y=\"Direct_Bilirubin\", data=df, kind=\"reg\")\n"
   ]
  },
  {
   "cell_type": "code",
   "execution_count": 23,
   "id": "c711dd3a",
   "metadata": {
    "papermill": {
     "duration": 0.94074,
     "end_time": "2023-08-09T10:23:12.550953",
     "exception": false,
     "start_time": "2023-08-09T10:23:11.610213",
     "status": "completed"
    },
    "tags": []
   },
   "outputs": [
    {
     "data": {
      "image/png": "[encoded data removed]",
      "text/plain": [
       "<Figure size 600x600 with 4 Axes>"
      ]
     },
     "metadata": {},
     "output_type": "display_data"
    }
   ],
   "source": [
    "g = sns.FacetGrid(df, col=\"Gender\", row=\"Dataset\", margin_titles=True)\n",
    "g.map(plt.scatter,\"Aspartate\", \"Alamine\",  edgecolor=\"w\")\n",
    "plt.subplots_adjust(top=0.9)"
   ]
  },
  {
   "cell_type": "markdown",
   "id": "af2fd49f",
   "metadata": {
    "papermill": {
     "duration": 0.015839,
     "end_time": "2023-08-09T10:23:12.583104",
     "exception": false,
     "start_time": "2023-08-09T10:23:12.567265",
     "status": "completed"
    },
    "tags": []
   },
   "source": [
    "\n",
    "\n",
    "#### There is linear relationship between Aspartate_Aminotransferase and Alamine_Aminotransferase and the gender. We have the possibility of removing one of this feature.\n"
   ]
  },
  {
   "cell_type": "code",
   "execution_count": 24,
   "id": "da45cf21",
   "metadata": {
    "papermill": {
     "duration": 1.362809,
     "end_time": "2023-08-09T10:23:13.961961",
     "exception": false,
     "start_time": "2023-08-09T10:23:12.599152",
     "status": "completed"
    },
    "tags": []
   },
   "outputs": [
    {
     "data": {
      "text/plain": [
       "<seaborn.axisgrid.JointGrid at 0x1f357d577d0>"
      ]
     },
     "execution_count": 24,
     "metadata": {},
     "output_type": "execute_result"
    },
    {
     "data": {
      "image/png": "[encoded data removed]",
      "text/plain": [
       "<Figure size 600x600 with 3 Axes>"
      ]
     },
     "metadata": {},
     "output_type": "display_data"
    }
   ],
   "source": [
    "sns.jointplot(x= \"Aspartate\", y=\"Alamine\", data=df, kind=\"reg\")\n"
   ]
  },
  {
   "cell_type": "code",
   "execution_count": 25,
   "id": "cc70b3c2",
   "metadata": {
    "papermill": {
     "duration": 1.011087,
     "end_time": "2023-08-09T10:23:14.991958",
     "exception": false,
     "start_time": "2023-08-09T10:23:13.980871",
     "status": "completed"
    },
    "tags": []
   },
   "outputs": [
    {
     "data": {
      "image/png": "[encoded data removed]",
      "text/plain": [
       "<Figure size 600x600 with 4 Axes>"
      ]
     },
     "metadata": {},
     "output_type": "display_data"
    }
   ],
   "source": [
    "g = sns.FacetGrid(df, col=\"Gender\", row=\"Dataset\", margin_titles=True)\n",
    "g.map(plt.scatter,\"Alkaline_Phosphotase\", \"Alamine\",  edgecolor=\"w\")\n",
    "plt.subplots_adjust(top=0.9)\n"
   ]
  },
  {
   "cell_type": "code",
   "execution_count": 26,
   "id": "5c7c9ca3",
   "metadata": {
    "papermill": {
     "duration": 1.239114,
     "end_time": "2023-08-09T10:23:16.248670",
     "exception": false,
     "start_time": "2023-08-09T10:23:15.009556",
     "status": "completed"
    },
    "tags": []
   },
   "outputs": [
    {
     "data": {
      "text/plain": [
       "<seaborn.axisgrid.JointGrid at 0x1f35bb90cd0>"
      ]
     },
     "execution_count": 26,
     "metadata": {},
     "output_type": "execute_result"
    },
    {
     "data": {
      "image/png": "[encoded data removed]",
      "text/plain": [
       "<Figure size 600x600 with 3 Axes>"
      ]
     },
     "metadata": {},
     "output_type": "display_data"
    }
   ],
   "source": [
    "sns.jointplot(x=\"Alkaline_Phosphotase\", y= \"Alamine\", data=df, kind=\"reg\")\n"
   ]
  },
  {
   "cell_type": "markdown",
   "id": "2f4cf7b4",
   "metadata": {
    "papermill": {
     "duration": 0.017651,
     "end_time": "2023-08-09T10:23:16.284660",
     "exception": false,
     "start_time": "2023-08-09T10:23:16.267009",
     "status": "completed"
    },
    "tags": []
   },
   "source": [
    "\n",
    "\n",
    "#### No linear correlation between Alkaline_Phosphotase and Alamine_Aminotransferase\n"
   ]
  },
  {
   "cell_type": "code",
   "execution_count": 27,
   "id": "91ed7064",
   "metadata": {
    "papermill": {
     "duration": 0.99299,
     "end_time": "2023-08-09T10:23:17.295712",
     "exception": false,
     "start_time": "2023-08-09T10:23:16.302722",
     "status": "completed"
    },
    "tags": []
   },
   "outputs": [
    {
     "data": {
      "image/png": "[encoded data removed]",
      "text/plain": [
       "<Figure size 600x600 with 4 Axes>"
      ]
     },
     "metadata": {},
     "output_type": "display_data"
    }
   ],
   "source": [
    "g = sns.FacetGrid(df, col=\"Gender\", row=\"Dataset\", margin_titles=True)\n",
    "g.map(plt.scatter,\"Total_Protiens\", \"Albumin\",  edgecolor=\"w\")\n",
    "plt.subplots_adjust(top=0.9)\n"
   ]
  },
  {
   "cell_type": "markdown",
   "id": "562f5157",
   "metadata": {
    "papermill": {
     "duration": 0.019046,
     "end_time": "2023-08-09T10:23:17.334238",
     "exception": false,
     "start_time": "2023-08-09T10:23:17.315192",
     "status": "completed"
    },
    "tags": []
   },
   "source": [
    "\n",
    "\n",
    "#### There is linear relationship between Total_Protiens and Albumin and the gender. We have the possibility of removing one of this feature.\n"
   ]
  },
  {
   "cell_type": "code",
   "execution_count": 28,
   "id": "cf3a778c",
   "metadata": {
    "papermill": {
     "duration": 0.736982,
     "end_time": "2023-08-09T10:23:18.091264",
     "exception": false,
     "start_time": "2023-08-09T10:23:17.354282",
     "status": "completed"
    },
    "tags": []
   },
   "outputs": [
    {
     "data": {
      "text/plain": [
       "<seaborn.axisgrid.JointGrid at 0x1f3590e0190>"
      ]
     },
     "execution_count": 28,
     "metadata": {},
     "output_type": "execute_result"
    },
    {
     "data": {
      "image/png": "[encoded data removed]",
      "text/plain": [
       "<Figure size 600x600 with 3 Axes>"
      ]
     },
     "metadata": {},
     "output_type": "display_data"
    }
   ],
   "source": [
    "sns.jointplot(x=\"Total_Protiens\", y=\"Albumin\", data=df, kind=\"reg\")\n"
   ]
  },
  {
   "cell_type": "code",
   "execution_count": 29,
   "id": "a20e8d3d",
   "metadata": {
    "papermill": {
     "duration": 0.957263,
     "end_time": "2023-08-09T10:23:19.068424",
     "exception": false,
     "start_time": "2023-08-09T10:23:18.111161",
     "status": "completed"
    },
    "tags": []
   },
   "outputs": [
    {
     "data": {
      "image/png": "[encoded data removed]",
      "text/plain": [
       "<Figure size 600x600 with 4 Axes>"
      ]
     },
     "metadata": {},
     "output_type": "display_data"
    }
   ],
   "source": [
    "g = sns.FacetGrid(df, col=\"Gender\", row=\"Dataset\", margin_titles=True)\n",
    "g.map(plt.scatter,\"Albumin\", \"Albumin_Globulin_Ratio\",  edgecolor=\"w\")\n",
    "plt.subplots_adjust(top=0.9)\n",
    "\n"
   ]
  },
  {
   "cell_type": "markdown",
   "id": "851139b4",
   "metadata": {
    "papermill": {
     "duration": 0.020095,
     "end_time": "2023-08-09T10:23:19.109160",
     "exception": false,
     "start_time": "2023-08-09T10:23:19.089065",
     "status": "completed"
    },
    "tags": []
   },
   "source": [
    "#### There is linear relationship between Albumin_and_Globulin_Ratio and Albumin. We have the possibility of removing one of this feature."
   ]
  },
  {
   "cell_type": "code",
   "execution_count": 30,
   "id": "c4b52312",
   "metadata": {
    "papermill": {
     "duration": 0.74789,
     "end_time": "2023-08-09T10:23:19.877526",
     "exception": false,
     "start_time": "2023-08-09T10:23:19.129636",
     "status": "completed"
    },
    "tags": []
   },
   "outputs": [
    {
     "data": {
      "text/plain": [
       "<seaborn.axisgrid.JointGrid at 0x1f35c4a8cd0>"
      ]
     },
     "execution_count": 30,
     "metadata": {},
     "output_type": "execute_result"
    },
    {
     "data": {
      "image/png": "[encoded data removed]",
      "text/plain": [
       "<Figure size 600x600 with 3 Axes>"
      ]
     },
     "metadata": {},
     "output_type": "display_data"
    }
   ],
   "source": [
    "sns.jointplot(x=\"Albumin_Globulin_Ratio\", y=\"Albumin\", data=df, kind=\"reg\")\n",
    "\n"
   ]
  },
  {
   "cell_type": "code",
   "execution_count": 31,
   "id": "ad5bc0b7",
   "metadata": {
    "papermill": {
     "duration": 1.042535,
     "end_time": "2023-08-09T10:23:20.941018",
     "exception": false,
     "start_time": "2023-08-09T10:23:19.898483",
     "status": "completed"
    },
    "tags": []
   },
   "outputs": [
    {
     "data": {
      "image/png": "[encoded data removed]",
      "text/plain": [
       "<Figure size 600x600 with 4 Axes>"
      ]
     },
     "metadata": {},
     "output_type": "display_data"
    }
   ],
   "source": [
    "g = sns.FacetGrid(df, col=\"Gender\", row=\"Dataset\", margin_titles=True)\n",
    "g.map(plt.scatter,\"Albumin_Globulin_Ratio\", \"Total_Protiens\",  edgecolor=\"w\")\n",
    "plt.subplots_adjust(top=0.9)\n"
   ]
  },
  {
   "cell_type": "code",
   "execution_count": 32,
   "id": "80233550-832c-4760-9c43-ecf713cda22f",
   "metadata": {},
   "outputs": [
    {
     "data": {
      "text/html": [
       "<div>\n",
       "<style scoped>\n",
       "    .dataframe tbody tr th:only-of-type {\n",
       "        vertical-align: middle;\n",
       "    }\n",
       "\n",
       "    .dataframe tbody tr th {\n",
       "        vertical-align: top;\n",
       "    }\n",
       "\n",
       "    .dataframe thead th {\n",
       "        text-align: right;\n",
       "    }\n",
       "</style>\n",
       "<table border=\"1\" class=\"dataframe\">\n",
       "  <thead>\n",
       "    <tr style=\"text-align: right;\">\n",
       "      <th></th>\n",
       "      <th>Age</th>\n",
       "      <th>Gender</th>\n",
       "      <th>Total_Bilirubin</th>\n",
       "      <th>Direct_Bilirubin</th>\n",
       "      <th>Alkaline_Phosphotase</th>\n",
       "      <th>Alamine</th>\n",
       "      <th>Aspartate</th>\n",
       "      <th>Total_Protiens</th>\n",
       "      <th>Albumin</th>\n",
       "      <th>Albumin_Globulin_Ratio</th>\n",
       "      <th>Dataset</th>\n",
       "    </tr>\n",
       "  </thead>\n",
       "  <tbody>\n",
       "    <tr>\n",
       "      <th>0</th>\n",
       "      <td>65</td>\n",
       "      <td>Female</td>\n",
       "      <td>0.7</td>\n",
       "      <td>0.1</td>\n",
       "      <td>187</td>\n",
       "      <td>16</td>\n",
       "      <td>18</td>\n",
       "      <td>6.8</td>\n",
       "      <td>3.3</td>\n",
       "      <td>0.90</td>\n",
       "      <td>0</td>\n",
       "    </tr>\n",
       "    <tr>\n",
       "      <th>1</th>\n",
       "      <td>62</td>\n",
       "      <td>Male</td>\n",
       "      <td>10.9</td>\n",
       "      <td>5.5</td>\n",
       "      <td>699</td>\n",
       "      <td>64</td>\n",
       "      <td>100</td>\n",
       "      <td>7.5</td>\n",
       "      <td>3.2</td>\n",
       "      <td>0.74</td>\n",
       "      <td>0</td>\n",
       "    </tr>\n",
       "    <tr>\n",
       "      <th>2</th>\n",
       "      <td>62</td>\n",
       "      <td>Male</td>\n",
       "      <td>7.3</td>\n",
       "      <td>4.1</td>\n",
       "      <td>490</td>\n",
       "      <td>60</td>\n",
       "      <td>68</td>\n",
       "      <td>7.0</td>\n",
       "      <td>3.3</td>\n",
       "      <td>0.89</td>\n",
       "      <td>0</td>\n",
       "    </tr>\n",
       "    <tr>\n",
       "      <th>3</th>\n",
       "      <td>58</td>\n",
       "      <td>Male</td>\n",
       "      <td>1.0</td>\n",
       "      <td>0.4</td>\n",
       "      <td>182</td>\n",
       "      <td>14</td>\n",
       "      <td>20</td>\n",
       "      <td>6.8</td>\n",
       "      <td>3.4</td>\n",
       "      <td>1.00</td>\n",
       "      <td>0</td>\n",
       "    </tr>\n",
       "    <tr>\n",
       "      <th>4</th>\n",
       "      <td>72</td>\n",
       "      <td>Male</td>\n",
       "      <td>3.9</td>\n",
       "      <td>2.0</td>\n",
       "      <td>195</td>\n",
       "      <td>27</td>\n",
       "      <td>59</td>\n",
       "      <td>7.3</td>\n",
       "      <td>2.4</td>\n",
       "      <td>0.40</td>\n",
       "      <td>0</td>\n",
       "    </tr>\n",
       "  </tbody>\n",
       "</table>\n",
       "</div>"
      ],
      "text/plain": [
       "   Age  Gender  Total_Bilirubin  Direct_Bilirubin  Alkaline_Phosphotase  \\\n",
       "0   65  Female              0.7               0.1                   187   \n",
       "1   62    Male             10.9               5.5                   699   \n",
       "2   62    Male              7.3               4.1                   490   \n",
       "3   58    Male              1.0               0.4                   182   \n",
       "4   72    Male              3.9               2.0                   195   \n",
       "\n",
       "   Alamine  Aspartate  Total_Protiens  Albumin  Albumin_Globulin_Ratio  \\\n",
       "0       16         18             6.8      3.3                    0.90   \n",
       "1       64        100             7.5      3.2                    0.74   \n",
       "2       60         68             7.0      3.3                    0.89   \n",
       "3       14         20             6.8      3.4                    1.00   \n",
       "4       27         59             7.3      2.4                    0.40   \n",
       "\n",
       "   Dataset  \n",
       "0        0  \n",
       "1        0  \n",
       "2        0  \n",
       "3        0  \n",
       "4        0  "
      ]
     },
     "execution_count": 32,
     "metadata": {},
     "output_type": "execute_result"
    }
   ],
   "source": [
    "df.head()"
   ]
  },
  {
   "cell_type": "markdown",
   "id": "91f94d16-6114-4de9-aacc-7760e00abe93",
   "metadata": {},
   "source": [
    "# **LabelEncoder**"
   ]
  },
  {
   "cell_type": "code",
   "execution_count": 33,
   "id": "a5a2b812-6df6-486e-b4a7-78c5b4c0e95f",
   "metadata": {},
   "outputs": [],
   "source": [
    "cat_cols = ['Gender']"
   ]
  },
  {
   "cell_type": "code",
   "execution_count": 34,
   "id": "d123fb0c-d088-446f-9d03-82308ac72b7b",
   "metadata": {},
   "outputs": [],
   "source": [
    "le = LabelEncoder()"
   ]
  },
  {
   "cell_type": "code",
   "execution_count": 35,
   "id": "552113d3-4ae8-4e31-a107-26e0038388df",
   "metadata": {},
   "outputs": [],
   "source": [
    "for col in cat_cols:\n",
    "    df[col] = le.fit_transform(df[col])"
   ]
  },
  {
   "cell_type": "code",
   "execution_count": 36,
   "id": "9928e702-e75a-47b9-b383-c3c7db08ce30",
   "metadata": {},
   "outputs": [
    {
     "data": {
      "text/html": [
       "<div>\n",
       "<style scoped>\n",
       "    .dataframe tbody tr th:only-of-type {\n",
       "        vertical-align: middle;\n",
       "    }\n",
       "\n",
       "    .dataframe tbody tr th {\n",
       "        vertical-align: top;\n",
       "    }\n",
       "\n",
       "    .dataframe thead th {\n",
       "        text-align: right;\n",
       "    }\n",
       "</style>\n",
       "<table border=\"1\" class=\"dataframe\">\n",
       "  <thead>\n",
       "    <tr style=\"text-align: right;\">\n",
       "      <th></th>\n",
       "      <th>Age</th>\n",
       "      <th>Gender</th>\n",
       "      <th>Total_Bilirubin</th>\n",
       "      <th>Direct_Bilirubin</th>\n",
       "      <th>Alkaline_Phosphotase</th>\n",
       "      <th>Alamine</th>\n",
       "      <th>Aspartate</th>\n",
       "      <th>Total_Protiens</th>\n",
       "      <th>Albumin</th>\n",
       "      <th>Albumin_Globulin_Ratio</th>\n",
       "      <th>Dataset</th>\n",
       "    </tr>\n",
       "  </thead>\n",
       "  <tbody>\n",
       "    <tr>\n",
       "      <th>0</th>\n",
       "      <td>65</td>\n",
       "      <td>0</td>\n",
       "      <td>0.7</td>\n",
       "      <td>0.1</td>\n",
       "      <td>187</td>\n",
       "      <td>16</td>\n",
       "      <td>18</td>\n",
       "      <td>6.8</td>\n",
       "      <td>3.3</td>\n",
       "      <td>0.90</td>\n",
       "      <td>0</td>\n",
       "    </tr>\n",
       "    <tr>\n",
       "      <th>1</th>\n",
       "      <td>62</td>\n",
       "      <td>1</td>\n",
       "      <td>10.9</td>\n",
       "      <td>5.5</td>\n",
       "      <td>699</td>\n",
       "      <td>64</td>\n",
       "      <td>100</td>\n",
       "      <td>7.5</td>\n",
       "      <td>3.2</td>\n",
       "      <td>0.74</td>\n",
       "      <td>0</td>\n",
       "    </tr>\n",
       "    <tr>\n",
       "      <th>2</th>\n",
       "      <td>62</td>\n",
       "      <td>1</td>\n",
       "      <td>7.3</td>\n",
       "      <td>4.1</td>\n",
       "      <td>490</td>\n",
       "      <td>60</td>\n",
       "      <td>68</td>\n",
       "      <td>7.0</td>\n",
       "      <td>3.3</td>\n",
       "      <td>0.89</td>\n",
       "      <td>0</td>\n",
       "    </tr>\n",
       "    <tr>\n",
       "      <th>3</th>\n",
       "      <td>58</td>\n",
       "      <td>1</td>\n",
       "      <td>1.0</td>\n",
       "      <td>0.4</td>\n",
       "      <td>182</td>\n",
       "      <td>14</td>\n",
       "      <td>20</td>\n",
       "      <td>6.8</td>\n",
       "      <td>3.4</td>\n",
       "      <td>1.00</td>\n",
       "      <td>0</td>\n",
       "    </tr>\n",
       "    <tr>\n",
       "      <th>4</th>\n",
       "      <td>72</td>\n",
       "      <td>1</td>\n",
       "      <td>3.9</td>\n",
       "      <td>2.0</td>\n",
       "      <td>195</td>\n",
       "      <td>27</td>\n",
       "      <td>59</td>\n",
       "      <td>7.3</td>\n",
       "      <td>2.4</td>\n",
       "      <td>0.40</td>\n",
       "      <td>0</td>\n",
       "    </tr>\n",
       "  </tbody>\n",
       "</table>\n",
       "</div>"
      ],
      "text/plain": [
       "   Age  Gender  Total_Bilirubin  Direct_Bilirubin  Alkaline_Phosphotase  \\\n",
       "0   65       0              0.7               0.1                   187   \n",
       "1   62       1             10.9               5.5                   699   \n",
       "2   62       1              7.3               4.1                   490   \n",
       "3   58       1              1.0               0.4                   182   \n",
       "4   72       1              3.9               2.0                   195   \n",
       "\n",
       "   Alamine  Aspartate  Total_Protiens  Albumin  Albumin_Globulin_Ratio  \\\n",
       "0       16         18             6.8      3.3                    0.90   \n",
       "1       64        100             7.5      3.2                    0.74   \n",
       "2       60         68             7.0      3.3                    0.89   \n",
       "3       14         20             6.8      3.4                    1.00   \n",
       "4       27         59             7.3      2.4                    0.40   \n",
       "\n",
       "   Dataset  \n",
       "0        0  \n",
       "1        0  \n",
       "2        0  \n",
       "3        0  \n",
       "4        0  "
      ]
     },
     "execution_count": 36,
     "metadata": {},
     "output_type": "execute_result"
    }
   ],
   "source": [
    "df.head()"
   ]
  },
  {
   "cell_type": "markdown",
   "id": "3fbb8959",
   "metadata": {
    "papermill": {
     "duration": 0.022062,
     "end_time": "2023-08-09T10:23:20.984846",
     "exception": false,
     "start_time": "2023-08-09T10:23:20.962784",
     "status": "completed"
    },
    "tags": []
   },
   "source": [
    "\n",
    "## Observation:\n",
    "\n",
    " From the above jointplots and scatterplots, we find direct relationship between the following features:\n",
    " \n",
    " Direct_Bilirubin & Total_Bilirubin\n",
    " \n",
    " Aspartate_Aminotransferase & Alamine_Aminotransferase\n",
    " \n",
    " Total_Protiens & Albumin\n",
    " \n",
    " Albumin_and_Globulin_Ratio & Albumin\n",
    "\n",
    " Hence, we can very well find that we can omit one of the features. I'm going to keep the follwing features:\n",
    " \n",
    " Total_Bilirubin\n",
    " \n",
    " Alamine_Aminotransferase\n",
    " \n",
    "Total_Protiens\n",
    "\n",
    " Albumin_and_Globulin_Ratio\n",
    " \n",
    "Albumin\n",
    "\n"
   ]
  },
  {
   "cell_type": "markdown",
   "id": "33b9fdde-b415-4bfa-ab4d-c793a3abd59a",
   "metadata": {},
   "source": [
    "<a id=\"svm\"></a>\n",
    "# <p style=\"background-color:purple; font-family:calibri; color:white; font-size:150%; text-align:center; border-radius:15px 50px;\">Step 5 |  Model Building</p>"
   ]
  },
  {
   "cell_type": "code",
   "execution_count": 37,
   "id": "a7863621",
   "metadata": {
    "papermill": {
     "duration": 0.029934,
     "end_time": "2023-08-09T10:23:21.037063",
     "exception": false,
     "start_time": "2023-08-09T10:23:21.007129",
     "status": "completed"
    },
    "tags": []
   },
   "outputs": [],
   "source": [
    "X=df.drop(['Dataset'],axis=1)\n",
    "y=df['Dataset']"
   ]
  },
  {
   "cell_type": "code",
   "execution_count": 38,
   "id": "ec2fc8f9-4808-442f-9172-88646ab6761c",
   "metadata": {},
   "outputs": [
    {
     "data": {
      "text/html": [
       "<div>\n",
       "<style scoped>\n",
       "    .dataframe tbody tr th:only-of-type {\n",
       "        vertical-align: middle;\n",
       "    }\n",
       "\n",
       "    .dataframe tbody tr th {\n",
       "        vertical-align: top;\n",
       "    }\n",
       "\n",
       "    .dataframe thead th {\n",
       "        text-align: right;\n",
       "    }\n",
       "</style>\n",
       "<table border=\"1\" class=\"dataframe\">\n",
       "  <thead>\n",
       "    <tr style=\"text-align: right;\">\n",
       "      <th></th>\n",
       "      <th>Age</th>\n",
       "      <th>Gender</th>\n",
       "      <th>Total_Bilirubin</th>\n",
       "      <th>Direct_Bilirubin</th>\n",
       "      <th>Alkaline_Phosphotase</th>\n",
       "      <th>Alamine</th>\n",
       "      <th>Aspartate</th>\n",
       "      <th>Total_Protiens</th>\n",
       "      <th>Albumin</th>\n",
       "      <th>Albumin_Globulin_Ratio</th>\n",
       "    </tr>\n",
       "  </thead>\n",
       "  <tbody>\n",
       "    <tr>\n",
       "      <th>0</th>\n",
       "      <td>65</td>\n",
       "      <td>0</td>\n",
       "      <td>0.7</td>\n",
       "      <td>0.1</td>\n",
       "      <td>187</td>\n",
       "      <td>16</td>\n",
       "      <td>18</td>\n",
       "      <td>6.8</td>\n",
       "      <td>3.3</td>\n",
       "      <td>0.90</td>\n",
       "    </tr>\n",
       "    <tr>\n",
       "      <th>1</th>\n",
       "      <td>62</td>\n",
       "      <td>1</td>\n",
       "      <td>10.9</td>\n",
       "      <td>5.5</td>\n",
       "      <td>699</td>\n",
       "      <td>64</td>\n",
       "      <td>100</td>\n",
       "      <td>7.5</td>\n",
       "      <td>3.2</td>\n",
       "      <td>0.74</td>\n",
       "    </tr>\n",
       "    <tr>\n",
       "      <th>2</th>\n",
       "      <td>62</td>\n",
       "      <td>1</td>\n",
       "      <td>7.3</td>\n",
       "      <td>4.1</td>\n",
       "      <td>490</td>\n",
       "      <td>60</td>\n",
       "      <td>68</td>\n",
       "      <td>7.0</td>\n",
       "      <td>3.3</td>\n",
       "      <td>0.89</td>\n",
       "    </tr>\n",
       "    <tr>\n",
       "      <th>3</th>\n",
       "      <td>58</td>\n",
       "      <td>1</td>\n",
       "      <td>1.0</td>\n",
       "      <td>0.4</td>\n",
       "      <td>182</td>\n",
       "      <td>14</td>\n",
       "      <td>20</td>\n",
       "      <td>6.8</td>\n",
       "      <td>3.4</td>\n",
       "      <td>1.00</td>\n",
       "    </tr>\n",
       "    <tr>\n",
       "      <th>4</th>\n",
       "      <td>72</td>\n",
       "      <td>1</td>\n",
       "      <td>3.9</td>\n",
       "      <td>2.0</td>\n",
       "      <td>195</td>\n",
       "      <td>27</td>\n",
       "      <td>59</td>\n",
       "      <td>7.3</td>\n",
       "      <td>2.4</td>\n",
       "      <td>0.40</td>\n",
       "    </tr>\n",
       "    <tr>\n",
       "      <th>...</th>\n",
       "      <td>...</td>\n",
       "      <td>...</td>\n",
       "      <td>...</td>\n",
       "      <td>...</td>\n",
       "      <td>...</td>\n",
       "      <td>...</td>\n",
       "      <td>...</td>\n",
       "      <td>...</td>\n",
       "      <td>...</td>\n",
       "      <td>...</td>\n",
       "    </tr>\n",
       "    <tr>\n",
       "      <th>578</th>\n",
       "      <td>60</td>\n",
       "      <td>1</td>\n",
       "      <td>0.5</td>\n",
       "      <td>0.1</td>\n",
       "      <td>500</td>\n",
       "      <td>20</td>\n",
       "      <td>34</td>\n",
       "      <td>5.9</td>\n",
       "      <td>1.6</td>\n",
       "      <td>0.37</td>\n",
       "    </tr>\n",
       "    <tr>\n",
       "      <th>579</th>\n",
       "      <td>40</td>\n",
       "      <td>1</td>\n",
       "      <td>0.6</td>\n",
       "      <td>0.1</td>\n",
       "      <td>98</td>\n",
       "      <td>35</td>\n",
       "      <td>31</td>\n",
       "      <td>6.0</td>\n",
       "      <td>3.2</td>\n",
       "      <td>1.10</td>\n",
       "    </tr>\n",
       "    <tr>\n",
       "      <th>580</th>\n",
       "      <td>52</td>\n",
       "      <td>1</td>\n",
       "      <td>0.8</td>\n",
       "      <td>0.2</td>\n",
       "      <td>245</td>\n",
       "      <td>48</td>\n",
       "      <td>49</td>\n",
       "      <td>6.4</td>\n",
       "      <td>3.2</td>\n",
       "      <td>1.00</td>\n",
       "    </tr>\n",
       "    <tr>\n",
       "      <th>581</th>\n",
       "      <td>31</td>\n",
       "      <td>1</td>\n",
       "      <td>1.3</td>\n",
       "      <td>0.5</td>\n",
       "      <td>184</td>\n",
       "      <td>29</td>\n",
       "      <td>32</td>\n",
       "      <td>6.8</td>\n",
       "      <td>3.4</td>\n",
       "      <td>1.00</td>\n",
       "    </tr>\n",
       "    <tr>\n",
       "      <th>582</th>\n",
       "      <td>38</td>\n",
       "      <td>1</td>\n",
       "      <td>1.0</td>\n",
       "      <td>0.3</td>\n",
       "      <td>216</td>\n",
       "      <td>21</td>\n",
       "      <td>24</td>\n",
       "      <td>7.3</td>\n",
       "      <td>4.4</td>\n",
       "      <td>1.50</td>\n",
       "    </tr>\n",
       "  </tbody>\n",
       "</table>\n",
       "<p>583 rows × 10 columns</p>\n",
       "</div>"
      ],
      "text/plain": [
       "     Age  Gender  Total_Bilirubin  Direct_Bilirubin  Alkaline_Phosphotase  \\\n",
       "0     65       0              0.7               0.1                   187   \n",
       "1     62       1             10.9               5.5                   699   \n",
       "2     62       1              7.3               4.1                   490   \n",
       "3     58       1              1.0               0.4                   182   \n",
       "4     72       1              3.9               2.0                   195   \n",
       "..   ...     ...              ...               ...                   ...   \n",
       "578   60       1              0.5               0.1                   500   \n",
       "579   40       1              0.6               0.1                    98   \n",
       "580   52       1              0.8               0.2                   245   \n",
       "581   31       1              1.3               0.5                   184   \n",
       "582   38       1              1.0               0.3                   216   \n",
       "\n",
       "     Alamine  Aspartate  Total_Protiens  Albumin  Albumin_Globulin_Ratio  \n",
       "0         16         18             6.8      3.3                    0.90  \n",
       "1         64        100             7.5      3.2                    0.74  \n",
       "2         60         68             7.0      3.3                    0.89  \n",
       "3         14         20             6.8      3.4                    1.00  \n",
       "4         27         59             7.3      2.4                    0.40  \n",
       "..       ...        ...             ...      ...                     ...  \n",
       "578       20         34             5.9      1.6                    0.37  \n",
       "579       35         31             6.0      3.2                    1.10  \n",
       "580       48         49             6.4      3.2                    1.00  \n",
       "581       29         32             6.8      3.4                    1.00  \n",
       "582       21         24             7.3      4.4                    1.50  \n",
       "\n",
       "[583 rows x 10 columns]"
      ]
     },
     "execution_count": 38,
     "metadata": {},
     "output_type": "execute_result"
    }
   ],
   "source": [
    "X"
   ]
  },
  {
   "cell_type": "code",
   "execution_count": 39,
   "id": "1b1b5ab1-79e2-4608-89fe-bca81738a79d",
   "metadata": {},
   "outputs": [
    {
     "data": {
      "text/plain": [
       "0      0\n",
       "1      0\n",
       "2      0\n",
       "3      0\n",
       "4      0\n",
       "      ..\n",
       "578    1\n",
       "579    0\n",
       "580    0\n",
       "581    0\n",
       "582    1\n",
       "Name: Dataset, Length: 583, dtype: int64"
      ]
     },
     "execution_count": 39,
     "metadata": {},
     "output_type": "execute_result"
    }
   ],
   "source": [
    "y"
   ]
  },
  {
   "cell_type": "code",
   "execution_count": 40,
   "id": "d7e9beef",
   "metadata": {
    "papermill": {
     "duration": 0.032813,
     "end_time": "2023-08-09T10:23:21.215191",
     "exception": false,
     "start_time": "2023-08-09T10:23:21.182378",
     "status": "completed"
    },
    "tags": []
   },
   "outputs": [],
   "source": [
    "# Correlation\n",
    "liver_corr = X.corr()"
   ]
  },
  {
   "cell_type": "code",
   "execution_count": 41,
   "id": "74eb1e4e",
   "metadata": {
    "papermill": {
     "duration": 0.042341,
     "end_time": "2023-08-09T10:23:21.279334",
     "exception": false,
     "start_time": "2023-08-09T10:23:21.236993",
     "status": "completed"
    },
    "tags": []
   },
   "outputs": [
    {
     "data": {
      "text/html": [
       "<div>\n",
       "<style scoped>\n",
       "    .dataframe tbody tr th:only-of-type {\n",
       "        vertical-align: middle;\n",
       "    }\n",
       "\n",
       "    .dataframe tbody tr th {\n",
       "        vertical-align: top;\n",
       "    }\n",
       "\n",
       "    .dataframe thead th {\n",
       "        text-align: right;\n",
       "    }\n",
       "</style>\n",
       "<table border=\"1\" class=\"dataframe\">\n",
       "  <thead>\n",
       "    <tr style=\"text-align: right;\">\n",
       "      <th></th>\n",
       "      <th>Age</th>\n",
       "      <th>Gender</th>\n",
       "      <th>Total_Bilirubin</th>\n",
       "      <th>Direct_Bilirubin</th>\n",
       "      <th>Alkaline_Phosphotase</th>\n",
       "      <th>Alamine</th>\n",
       "      <th>Aspartate</th>\n",
       "      <th>Total_Protiens</th>\n",
       "      <th>Albumin</th>\n",
       "      <th>Albumin_Globulin_Ratio</th>\n",
       "    </tr>\n",
       "  </thead>\n",
       "  <tbody>\n",
       "    <tr>\n",
       "      <th>Age</th>\n",
       "      <td>1.000000</td>\n",
       "      <td>0.056560</td>\n",
       "      <td>0.011763</td>\n",
       "      <td>0.007529</td>\n",
       "      <td>0.080425</td>\n",
       "      <td>-0.086883</td>\n",
       "      <td>-0.019910</td>\n",
       "      <td>-0.187461</td>\n",
       "      <td>-0.265924</td>\n",
       "      <td>-0.216089</td>\n",
       "    </tr>\n",
       "    <tr>\n",
       "      <th>Gender</th>\n",
       "      <td>0.056560</td>\n",
       "      <td>1.000000</td>\n",
       "      <td>0.089291</td>\n",
       "      <td>0.100436</td>\n",
       "      <td>-0.027496</td>\n",
       "      <td>0.082332</td>\n",
       "      <td>0.080336</td>\n",
       "      <td>-0.089121</td>\n",
       "      <td>-0.093799</td>\n",
       "      <td>-0.003404</td>\n",
       "    </tr>\n",
       "    <tr>\n",
       "      <th>Total_Bilirubin</th>\n",
       "      <td>0.011763</td>\n",
       "      <td>0.089291</td>\n",
       "      <td>1.000000</td>\n",
       "      <td>0.874618</td>\n",
       "      <td>0.206669</td>\n",
       "      <td>0.214065</td>\n",
       "      <td>0.237831</td>\n",
       "      <td>-0.008099</td>\n",
       "      <td>-0.222250</td>\n",
       "      <td>-0.206159</td>\n",
       "    </tr>\n",
       "    <tr>\n",
       "      <th>Direct_Bilirubin</th>\n",
       "      <td>0.007529</td>\n",
       "      <td>0.100436</td>\n",
       "      <td>0.874618</td>\n",
       "      <td>1.000000</td>\n",
       "      <td>0.234939</td>\n",
       "      <td>0.233894</td>\n",
       "      <td>0.257544</td>\n",
       "      <td>-0.000139</td>\n",
       "      <td>-0.228531</td>\n",
       "      <td>-0.200004</td>\n",
       "    </tr>\n",
       "    <tr>\n",
       "      <th>Alkaline_Phosphotase</th>\n",
       "      <td>0.080425</td>\n",
       "      <td>-0.027496</td>\n",
       "      <td>0.206669</td>\n",
       "      <td>0.234939</td>\n",
       "      <td>1.000000</td>\n",
       "      <td>0.125680</td>\n",
       "      <td>0.167196</td>\n",
       "      <td>-0.028514</td>\n",
       "      <td>-0.165453</td>\n",
       "      <td>-0.233960</td>\n",
       "    </tr>\n",
       "    <tr>\n",
       "      <th>Alamine</th>\n",
       "      <td>-0.086883</td>\n",
       "      <td>0.082332</td>\n",
       "      <td>0.214065</td>\n",
       "      <td>0.233894</td>\n",
       "      <td>0.125680</td>\n",
       "      <td>1.000000</td>\n",
       "      <td>0.791966</td>\n",
       "      <td>-0.042518</td>\n",
       "      <td>-0.029742</td>\n",
       "      <td>-0.002374</td>\n",
       "    </tr>\n",
       "    <tr>\n",
       "      <th>Aspartate</th>\n",
       "      <td>-0.019910</td>\n",
       "      <td>0.080336</td>\n",
       "      <td>0.237831</td>\n",
       "      <td>0.257544</td>\n",
       "      <td>0.167196</td>\n",
       "      <td>0.791966</td>\n",
       "      <td>1.000000</td>\n",
       "      <td>-0.025645</td>\n",
       "      <td>-0.085290</td>\n",
       "      <td>-0.070024</td>\n",
       "    </tr>\n",
       "    <tr>\n",
       "      <th>Total_Protiens</th>\n",
       "      <td>-0.187461</td>\n",
       "      <td>-0.089121</td>\n",
       "      <td>-0.008099</td>\n",
       "      <td>-0.000139</td>\n",
       "      <td>-0.028514</td>\n",
       "      <td>-0.042518</td>\n",
       "      <td>-0.025645</td>\n",
       "      <td>1.000000</td>\n",
       "      <td>0.784053</td>\n",
       "      <td>0.233904</td>\n",
       "    </tr>\n",
       "    <tr>\n",
       "      <th>Albumin</th>\n",
       "      <td>-0.265924</td>\n",
       "      <td>-0.093799</td>\n",
       "      <td>-0.222250</td>\n",
       "      <td>-0.228531</td>\n",
       "      <td>-0.165453</td>\n",
       "      <td>-0.029742</td>\n",
       "      <td>-0.085290</td>\n",
       "      <td>0.784053</td>\n",
       "      <td>1.000000</td>\n",
       "      <td>0.686322</td>\n",
       "    </tr>\n",
       "    <tr>\n",
       "      <th>Albumin_Globulin_Ratio</th>\n",
       "      <td>-0.216089</td>\n",
       "      <td>-0.003404</td>\n",
       "      <td>-0.206159</td>\n",
       "      <td>-0.200004</td>\n",
       "      <td>-0.233960</td>\n",
       "      <td>-0.002374</td>\n",
       "      <td>-0.070024</td>\n",
       "      <td>0.233904</td>\n",
       "      <td>0.686322</td>\n",
       "      <td>1.000000</td>\n",
       "    </tr>\n",
       "  </tbody>\n",
       "</table>\n",
       "</div>"
      ],
      "text/plain": [
       "                             Age    Gender  Total_Bilirubin  Direct_Bilirubin  \\\n",
       "Age                     1.000000  0.056560         0.011763          0.007529   \n",
       "Gender                  0.056560  1.000000         0.089291          0.100436   \n",
       "Total_Bilirubin         0.011763  0.089291         1.000000          0.874618   \n",
       "Direct_Bilirubin        0.007529  0.100436         0.874618          1.000000   \n",
       "Alkaline_Phosphotase    0.080425 -0.027496         0.206669          0.234939   \n",
       "Alamine                -0.086883  0.082332         0.214065          0.233894   \n",
       "Aspartate              -0.019910  0.080336         0.237831          0.257544   \n",
       "Total_Protiens         -0.187461 -0.089121        -0.008099         -0.000139   \n",
       "Albumin                -0.265924 -0.093799        -0.222250         -0.228531   \n",
       "Albumin_Globulin_Ratio -0.216089 -0.003404        -0.206159         -0.200004   \n",
       "\n",
       "                        Alkaline_Phosphotase   Alamine  Aspartate  \\\n",
       "Age                                 0.080425 -0.086883  -0.019910   \n",
       "Gender                             -0.027496  0.082332   0.080336   \n",
       "Total_Bilirubin                     0.206669  0.214065   0.237831   \n",
       "Direct_Bilirubin                    0.234939  0.233894   0.257544   \n",
       "Alkaline_Phosphotase                1.000000  0.125680   0.167196   \n",
       "Alamine                             0.125680  1.000000   0.791966   \n",
       "Aspartate                           0.167196  0.791966   1.000000   \n",
       "Total_Protiens                     -0.028514 -0.042518  -0.025645   \n",
       "Albumin                            -0.165453 -0.029742  -0.085290   \n",
       "Albumin_Globulin_Ratio             -0.233960 -0.002374  -0.070024   \n",
       "\n",
       "                        Total_Protiens   Albumin  Albumin_Globulin_Ratio  \n",
       "Age                          -0.187461 -0.265924               -0.216089  \n",
       "Gender                       -0.089121 -0.093799               -0.003404  \n",
       "Total_Bilirubin              -0.008099 -0.222250               -0.206159  \n",
       "Direct_Bilirubin             -0.000139 -0.228531               -0.200004  \n",
       "Alkaline_Phosphotase         -0.028514 -0.165453               -0.233960  \n",
       "Alamine                      -0.042518 -0.029742               -0.002374  \n",
       "Aspartate                    -0.025645 -0.085290               -0.070024  \n",
       "Total_Protiens                1.000000  0.784053                0.233904  \n",
       "Albumin                       0.784053  1.000000                0.686322  \n",
       "Albumin_Globulin_Ratio        0.233904  0.686322                1.000000  "
      ]
     },
     "execution_count": 41,
     "metadata": {},
     "output_type": "execute_result"
    }
   ],
   "source": [
    "liver_corr"
   ]
  },
  {
   "cell_type": "code",
   "execution_count": 42,
   "id": "f85e5a8f",
   "metadata": {
    "papermill": {
     "duration": 0.294639,
     "end_time": "2023-08-09T10:23:22.731084",
     "exception": false,
     "start_time": "2023-08-09T10:23:22.436445",
     "status": "completed"
    },
    "tags": []
   },
   "outputs": [],
   "source": [
    "# Split X and y \n",
    "X_train,X_test,y_train,y_test=train_test_split(X,y,test_size=0.3,random_state=42)"
   ]
  },
  {
   "cell_type": "code",
   "execution_count": 43,
   "id": "ce9ef10d",
   "metadata": {
    "papermill": {
     "duration": 0.042747,
     "end_time": "2023-08-09T10:23:21.101300",
     "exception": false,
     "start_time": "2023-08-09T10:23:21.058553",
     "status": "completed"
    },
    "tags": []
   },
   "outputs": [
    {
     "data": {
      "text/html": [
       "<div>\n",
       "<style scoped>\n",
       "    .dataframe tbody tr th:only-of-type {\n",
       "        vertical-align: middle;\n",
       "    }\n",
       "\n",
       "    .dataframe tbody tr th {\n",
       "        vertical-align: top;\n",
       "    }\n",
       "\n",
       "    .dataframe thead th {\n",
       "        text-align: right;\n",
       "    }\n",
       "</style>\n",
       "<table border=\"1\" class=\"dataframe\">\n",
       "  <thead>\n",
       "    <tr style=\"text-align: right;\">\n",
       "      <th></th>\n",
       "      <th>Age</th>\n",
       "      <th>Gender</th>\n",
       "      <th>Total_Bilirubin</th>\n",
       "      <th>Direct_Bilirubin</th>\n",
       "      <th>Alkaline_Phosphotase</th>\n",
       "      <th>Alamine</th>\n",
       "      <th>Aspartate</th>\n",
       "      <th>Total_Protiens</th>\n",
       "      <th>Albumin</th>\n",
       "      <th>Albumin_Globulin_Ratio</th>\n",
       "    </tr>\n",
       "  </thead>\n",
       "  <tbody>\n",
       "    <tr>\n",
       "      <th>0</th>\n",
       "      <td>65</td>\n",
       "      <td>0</td>\n",
       "      <td>0.7</td>\n",
       "      <td>0.1</td>\n",
       "      <td>187</td>\n",
       "      <td>16</td>\n",
       "      <td>18</td>\n",
       "      <td>6.8</td>\n",
       "      <td>3.3</td>\n",
       "      <td>0.90</td>\n",
       "    </tr>\n",
       "    <tr>\n",
       "      <th>1</th>\n",
       "      <td>62</td>\n",
       "      <td>1</td>\n",
       "      <td>10.9</td>\n",
       "      <td>5.5</td>\n",
       "      <td>699</td>\n",
       "      <td>64</td>\n",
       "      <td>100</td>\n",
       "      <td>7.5</td>\n",
       "      <td>3.2</td>\n",
       "      <td>0.74</td>\n",
       "    </tr>\n",
       "    <tr>\n",
       "      <th>2</th>\n",
       "      <td>62</td>\n",
       "      <td>1</td>\n",
       "      <td>7.3</td>\n",
       "      <td>4.1</td>\n",
       "      <td>490</td>\n",
       "      <td>60</td>\n",
       "      <td>68</td>\n",
       "      <td>7.0</td>\n",
       "      <td>3.3</td>\n",
       "      <td>0.89</td>\n",
       "    </tr>\n",
       "    <tr>\n",
       "      <th>3</th>\n",
       "      <td>58</td>\n",
       "      <td>1</td>\n",
       "      <td>1.0</td>\n",
       "      <td>0.4</td>\n",
       "      <td>182</td>\n",
       "      <td>14</td>\n",
       "      <td>20</td>\n",
       "      <td>6.8</td>\n",
       "      <td>3.4</td>\n",
       "      <td>1.00</td>\n",
       "    </tr>\n",
       "    <tr>\n",
       "      <th>4</th>\n",
       "      <td>72</td>\n",
       "      <td>1</td>\n",
       "      <td>3.9</td>\n",
       "      <td>2.0</td>\n",
       "      <td>195</td>\n",
       "      <td>27</td>\n",
       "      <td>59</td>\n",
       "      <td>7.3</td>\n",
       "      <td>2.4</td>\n",
       "      <td>0.40</td>\n",
       "    </tr>\n",
       "    <tr>\n",
       "      <th>...</th>\n",
       "      <td>...</td>\n",
       "      <td>...</td>\n",
       "      <td>...</td>\n",
       "      <td>...</td>\n",
       "      <td>...</td>\n",
       "      <td>...</td>\n",
       "      <td>...</td>\n",
       "      <td>...</td>\n",
       "      <td>...</td>\n",
       "      <td>...</td>\n",
       "    </tr>\n",
       "    <tr>\n",
       "      <th>578</th>\n",
       "      <td>60</td>\n",
       "      <td>1</td>\n",
       "      <td>0.5</td>\n",
       "      <td>0.1</td>\n",
       "      <td>500</td>\n",
       "      <td>20</td>\n",
       "      <td>34</td>\n",
       "      <td>5.9</td>\n",
       "      <td>1.6</td>\n",
       "      <td>0.37</td>\n",
       "    </tr>\n",
       "    <tr>\n",
       "      <th>579</th>\n",
       "      <td>40</td>\n",
       "      <td>1</td>\n",
       "      <td>0.6</td>\n",
       "      <td>0.1</td>\n",
       "      <td>98</td>\n",
       "      <td>35</td>\n",
       "      <td>31</td>\n",
       "      <td>6.0</td>\n",
       "      <td>3.2</td>\n",
       "      <td>1.10</td>\n",
       "    </tr>\n",
       "    <tr>\n",
       "      <th>580</th>\n",
       "      <td>52</td>\n",
       "      <td>1</td>\n",
       "      <td>0.8</td>\n",
       "      <td>0.2</td>\n",
       "      <td>245</td>\n",
       "      <td>48</td>\n",
       "      <td>49</td>\n",
       "      <td>6.4</td>\n",
       "      <td>3.2</td>\n",
       "      <td>1.00</td>\n",
       "    </tr>\n",
       "    <tr>\n",
       "      <th>581</th>\n",
       "      <td>31</td>\n",
       "      <td>1</td>\n",
       "      <td>1.3</td>\n",
       "      <td>0.5</td>\n",
       "      <td>184</td>\n",
       "      <td>29</td>\n",
       "      <td>32</td>\n",
       "      <td>6.8</td>\n",
       "      <td>3.4</td>\n",
       "      <td>1.00</td>\n",
       "    </tr>\n",
       "    <tr>\n",
       "      <th>582</th>\n",
       "      <td>38</td>\n",
       "      <td>1</td>\n",
       "      <td>1.0</td>\n",
       "      <td>0.3</td>\n",
       "      <td>216</td>\n",
       "      <td>21</td>\n",
       "      <td>24</td>\n",
       "      <td>7.3</td>\n",
       "      <td>4.4</td>\n",
       "      <td>1.50</td>\n",
       "    </tr>\n",
       "  </tbody>\n",
       "</table>\n",
       "<p>583 rows × 10 columns</p>\n",
       "</div>"
      ],
      "text/plain": [
       "     Age  Gender  Total_Bilirubin  Direct_Bilirubin  Alkaline_Phosphotase  \\\n",
       "0     65       0              0.7               0.1                   187   \n",
       "1     62       1             10.9               5.5                   699   \n",
       "2     62       1              7.3               4.1                   490   \n",
       "3     58       1              1.0               0.4                   182   \n",
       "4     72       1              3.9               2.0                   195   \n",
       "..   ...     ...              ...               ...                   ...   \n",
       "578   60       1              0.5               0.1                   500   \n",
       "579   40       1              0.6               0.1                    98   \n",
       "580   52       1              0.8               0.2                   245   \n",
       "581   31       1              1.3               0.5                   184   \n",
       "582   38       1              1.0               0.3                   216   \n",
       "\n",
       "     Alamine  Aspartate  Total_Protiens  Albumin  Albumin_Globulin_Ratio  \n",
       "0         16         18             6.8      3.3                    0.90  \n",
       "1         64        100             7.5      3.2                    0.74  \n",
       "2         60         68             7.0      3.3                    0.89  \n",
       "3         14         20             6.8      3.4                    1.00  \n",
       "4         27         59             7.3      2.4                    0.40  \n",
       "..       ...        ...             ...      ...                     ...  \n",
       "578       20         34             5.9      1.6                    0.37  \n",
       "579       35         31             6.0      3.2                    1.10  \n",
       "580       48         49             6.4      3.2                    1.00  \n",
       "581       29         32             6.8      3.4                    1.00  \n",
       "582       21         24             7.3      4.4                    1.50  \n",
       "\n",
       "[583 rows x 10 columns]"
      ]
     },
     "execution_count": 43,
     "metadata": {},
     "output_type": "execute_result"
    }
   ],
   "source": [
    "X"
   ]
  },
  {
   "cell_type": "code",
   "execution_count": 44,
   "id": "7683c099",
   "metadata": {
    "papermill": {
     "duration": 0.034193,
     "end_time": "2023-08-09T10:23:21.159101",
     "exception": false,
     "start_time": "2023-08-09T10:23:21.124908",
     "status": "completed"
    },
    "tags": []
   },
   "outputs": [
    {
     "data": {
      "text/plain": [
       "0      0\n",
       "1      0\n",
       "2      0\n",
       "3      0\n",
       "4      0\n",
       "      ..\n",
       "578    1\n",
       "579    0\n",
       "580    0\n",
       "581    0\n",
       "582    1\n",
       "Name: Dataset, Length: 583, dtype: int64"
      ]
     },
     "execution_count": 44,
     "metadata": {},
     "output_type": "execute_result"
    }
   ],
   "source": [
    "y\n"
   ]
  },
  {
   "cell_type": "markdown",
   "id": "48532255",
   "metadata": {
    "papermill": {
     "duration": 0.024731,
     "end_time": "2023-08-09T10:23:22.363576",
     "exception": false,
     "start_time": "2023-08-09T10:23:22.338845",
     "status": "completed"
    },
    "tags": []
   },
   "source": [
    "The above correlation also indicates the following correlation\n",
    "\n",
    " Total_Protiens & Albumin\n",
    " \n",
    " Alamine_Aminotransferase & Aspartate_Aminotransferase\n",
    " \n",
    " Direct_Bilirubin & Total_Bilirubin\n",
    " \n",
    " There is some correlation between Albumin_and_Globulin_Ratio and Albumin. But its not as high as Total_Protiens & Albumin\n"
   ]
  },
  {
   "cell_type": "markdown",
   "id": "280f70a8",
   "metadata": {
    "papermill": {
     "duration": 0.024021,
     "end_time": "2023-08-09T10:23:22.412356",
     "exception": false,
     "start_time": "2023-08-09T10:23:22.388335",
     "status": "completed"
    },
    "tags": []
   },
   "source": [
    "<a id=\"svm\"></a>\n",
    "# <p style=\"background-color:purple; font-family:calibri; color:white; font-size:150%; text-align:center; border-radius:15px 50px;\">Step 6 |  LogisticRegression Model Building</p>"
   ]
  },
  {
   "cell_type": "markdown",
   "id": "42551629-0416-43b4-95a6-d9cefc9b30b2",
   "metadata": {},
   "source": [
    "____\n",
    "<a id=\"svm_base\"></a>\n",
    "# <b><span style='color:dark-purple'>Step 6.1 |</span><span style='color:purple'> LogisticRegression</span></b>"
   ]
  },
  {
   "cell_type": "code",
   "execution_count": 45,
   "id": "8bfca4a3-8448-42e6-aeb8-693c501263a0",
   "metadata": {},
   "outputs": [
    {
     "data": {
      "text/plain": [
       "0.7257142857142858"
      ]
     },
     "execution_count": 45,
     "metadata": {},
     "output_type": "execute_result"
    }
   ],
   "source": [
    "log_clf = LogisticRegression(max_iter = 1000, random_state = 42)\n",
    "log_clf.fit(X_train, y_train)\n",
    "log_score = log_clf.score(X_test, y_test)\n",
    "log_score"
   ]
  },
  {
   "cell_type": "markdown",
   "id": "3ea393fb-8351-4398-8888-3dc49e78304a",
   "metadata": {},
   "source": [
    "____\n",
    "<a id=\"svm_hp\"></a>\n",
    "# <b><span style='color:darl-purple'>Step 6.2 |</span><span style='color:purple'> Hyper Tuning Logistic Regression</span></b>"
   ]
  },
  {
   "cell_type": "code",
   "execution_count": 46,
   "id": "33af557f-2932-4ded-9fe5-9517404c63a3",
   "metadata": {},
   "outputs": [
    {
     "name": "stdout",
     "output_type": "stream",
     "text": [
      "Fitting 5 folds for each of 1000 candidates, totalling 5000 fits\n"
     ]
    },
    {
     "data": {
      "text/plain": [
       "0.7314285714285714"
      ]
     },
     "execution_count": 46,
     "metadata": {},
     "output_type": "execute_result"
    }
   ],
   "source": [
    "from sklearn.model_selection import GridSearchCV\n",
    "log_grid = {'C': np.logspace(-5, 5),\n",
    "            'solver': ['liblinear'],\n",
    "            'max_iter': np.arange(1000, 2000, 100),\n",
    "            'penalty':['l1', 'l2']\n",
    "           }\n",
    "\n",
    "log_gscv = GridSearchCV(LogisticRegression(random_state = 42),\n",
    "                          param_grid=log_grid,\n",
    "                          cv=5,\n",
    "                          verbose=True)\n",
    "\n",
    "log_gscv.fit(X_train, y_train)\n",
    "log_tuned_score = log_gscv.score(X_test, y_test)\n",
    "log_tuned_score"
   ]
  },
  {
   "cell_type": "code",
   "execution_count": 47,
   "id": "b407a799-5f52-43bd-b3e7-4536c7cab4fd",
   "metadata": {},
   "outputs": [
    {
     "data": {
      "text/plain": [
       "{'C': 86.85113737513521,\n",
       " 'max_iter': 1000,\n",
       " 'penalty': 'l2',\n",
       " 'solver': 'liblinear'}"
      ]
     },
     "execution_count": 47,
     "metadata": {},
     "output_type": "execute_result"
    }
   ],
   "source": [
    "log_gscv.best_params_"
   ]
  },
  {
   "cell_type": "markdown",
   "id": "52bd01f2-f522-4477-8ab6-b8ef1f86c981",
   "metadata": {},
   "source": [
    "____\n",
    "<a id=\"svm_eval\"></a>\n",
    "# <b><span style='color:dark-purple'>Step 6.3 |</span><span style='color:purple'> Log Model Evaluation</span></b>"
   ]
  },
  {
   "cell_type": "code",
   "execution_count": 48,
   "id": "fc6ccaec-08f4-4d3a-add5-7363ddb22034",
   "metadata": {},
   "outputs": [],
   "source": [
    "log_predictions = log_gscv.predict(X_test)"
   ]
  },
  {
   "cell_type": "code",
   "execution_count": 49,
   "id": "edd1d4a0-da5c-432b-ba41-369f8826227a",
   "metadata": {},
   "outputs": [
    {
     "name": "stdout",
     "output_type": "stream",
     "text": [
      "              precision    recall  f1-score   support\n",
      "\n",
      "           0       0.77      0.90      0.83       128\n",
      "           1       0.50      0.28      0.36        47\n",
      "\n",
      "    accuracy                           0.73       175\n",
      "   macro avg       0.64      0.59      0.59       175\n",
      "weighted avg       0.70      0.73      0.70       175\n",
      "\n"
     ]
    }
   ],
   "source": [
    "print(classification_report(y_test, log_predictions))"
   ]
  },
  {
   "cell_type": "markdown",
   "id": "4096891c-0e2a-4c29-88ca-9cabc007ad05",
   "metadata": {},
   "source": [
    "<a id=\"svm\"></a>\n",
    "# <p style=\"background-color:purple; font-family:calibri; color:white; font-size:150%; text-align:center; border-radius:15px 50px;\">Step 7 |  KNeighborsClassifier Model Building</p>"
   ]
  },
  {
   "cell_type": "markdown",
   "id": "5dfd3a7a-0ef7-4417-9cad-18552a1b7877",
   "metadata": {},
   "source": [
    "____\n",
    "<a id=\"svm_base\"></a>\n",
    "# <b><span style='color:dark-purple'>Step 7.1 |</span><span style='color:purple'> KNeighborsClassifier</span></b>"
   ]
  },
  {
   "cell_type": "code",
   "execution_count": 50,
   "id": "eda89d0a-c4c0-4ca2-afff-b78ce436d949",
   "metadata": {},
   "outputs": [
    {
     "data": {
      "text/plain": [
       "0.6971428571428572"
      ]
     },
     "execution_count": 50,
     "metadata": {},
     "output_type": "execute_result"
    }
   ],
   "source": [
    "knn_clf = KNeighborsClassifier()\n",
    "knn_clf.fit(X_train, y_train)\n",
    "knn_score = knn_clf.score(X_test, y_test)\n",
    "knn_score"
   ]
  },
  {
   "cell_type": "markdown",
   "id": "32ccf148-7b0a-4eb4-b540-cfc937ca0842",
   "metadata": {},
   "source": [
    "____\n",
    "<a id=\"svm_hp\"></a>\n",
    "# <b><span style='color:darl-purple'>Step 7.2 |</span><span style='color:purple'> Hyper Tuning KNeighborsClassifier</span></b>"
   ]
  },
  {
   "cell_type": "code",
   "execution_count": 51,
   "id": "4e0f659c-6e73-4a1e-9765-11f74ea6c013",
   "metadata": {},
   "outputs": [
    {
     "name": "stdout",
     "output_type": "stream",
     "text": [
      "Fitting 5 folds for each of 234 candidates, totalling 1170 fits\n"
     ]
    },
    {
     "data": {
      "text/plain": [
       "0.7142857142857143"
      ]
     },
     "execution_count": 51,
     "metadata": {},
     "output_type": "execute_result"
    }
   ],
   "source": [
    "knn_grid = {'n_neighbors': np.arange(2, 15),\n",
    "            'leaf_size': [10, 15, 20],\n",
    "            'p':[1,2], \n",
    "            'algorithm': ['auto', 'ball_tree', 'kd_tree']}\n",
    "\n",
    "knn_gscv = GridSearchCV(KNeighborsClassifier(),\n",
    "                        param_grid=knn_grid,\n",
    "                        cv=5,\n",
    "                        verbose=True)\n",
    "\n",
    "knn_gscv.fit(X_train, y_train)\n",
    "knn_tuned_score = knn_gscv.score(X_test, y_test)\n",
    "knn_tuned_score"
   ]
  },
  {
   "cell_type": "code",
   "execution_count": 52,
   "id": "7e1d42fa-764c-4dfb-9dab-07acd40dc04f",
   "metadata": {},
   "outputs": [
    {
     "data": {
      "text/plain": [
       "{'algorithm': 'auto', 'leaf_size': 10, 'n_neighbors': 10, 'p': 1}"
      ]
     },
     "execution_count": 52,
     "metadata": {},
     "output_type": "execute_result"
    }
   ],
   "source": [
    "knn_gscv.best_params_"
   ]
  },
  {
   "cell_type": "markdown",
   "id": "5d4676eb-4756-498e-b1d8-bf86d327b31d",
   "metadata": {},
   "source": [
    "____\n",
    "<a id=\"svm_eval\"></a>\n",
    "# <b><span style='color:dark-purple'>Step 7.3 |</span><span style='color:purple'> KNN Model Evaluation</span></b>"
   ]
  },
  {
   "cell_type": "code",
   "execution_count": 53,
   "id": "bfe007bf-c763-4bb3-8780-d9b6fb527c53",
   "metadata": {},
   "outputs": [],
   "source": [
    "knn_predictions = knn_gscv.predict(X_test)"
   ]
  },
  {
   "cell_type": "code",
   "execution_count": 54,
   "id": "257822dd-4177-450f-9dd8-6f998917b230",
   "metadata": {},
   "outputs": [
    {
     "name": "stdout",
     "output_type": "stream",
     "text": [
      "              precision    recall  f1-score   support\n",
      "\n",
      "           0       0.77      0.88      0.82       128\n",
      "           1       0.45      0.28      0.34        47\n",
      "\n",
      "    accuracy                           0.71       175\n",
      "   macro avg       0.61      0.58      0.58       175\n",
      "weighted avg       0.68      0.71      0.69       175\n",
      "\n"
     ]
    }
   ],
   "source": [
    "print(classification_report(y_test, knn_predictions))\n"
   ]
  },
  {
   "cell_type": "markdown",
   "id": "75a9efbf-9fb7-41a0-9aa1-4cdbac11fc89",
   "metadata": {},
   "source": [
    "<a id=\"svm\"></a>\n",
    "# <p style=\"background-color:purple; font-family:calibri; color:white; font-size:150%; text-align:center; border-radius:15px 50px;\">Step 8 |  Support Vector Classifier Model Building</p>"
   ]
  },
  {
   "cell_type": "markdown",
   "id": "0f2cbd43-8c92-4368-ae4c-3facb1c1eadd",
   "metadata": {},
   "source": [
    "____\n",
    "<a id=\"svm_base\"></a>\n",
    "# <b><span style='color:dark-purple'>Step 8.1 |</span><span style='color:purple'> Support Vector Classifier</span></b>"
   ]
  },
  {
   "cell_type": "code",
   "execution_count": 55,
   "id": "7d495f6f-3aeb-49de-87bf-5928f386d147",
   "metadata": {},
   "outputs": [
    {
     "data": {
      "text/plain": [
       "0.7314285714285714"
      ]
     },
     "execution_count": 55,
     "metadata": {},
     "output_type": "execute_result"
    }
   ],
   "source": [
    "svc_clf = svm.SVC(random_state = 7)\n",
    "svc_clf.fit(X_train, y_train)\n",
    "svc_score = svc_clf.score(X_test, y_test)\n",
    "svc_score"
   ]
  },
  {
   "cell_type": "markdown",
   "id": "8b89cbe9-481b-4f14-ba59-ef8c22726ddb",
   "metadata": {},
   "source": [
    "____\n",
    "<a id=\"svm_hp\"></a>\n",
    "# <b><span style='color:darl-purple'>Step 8.2 |</span><span style='color:purple'> Hyper Tuning Support Vector Classifier</span></b>"
   ]
  },
  {
   "cell_type": "code",
   "execution_count": 56,
   "id": "eb551d51-6aa0-48c5-ae17-e001606b7545",
   "metadata": {},
   "outputs": [
    {
     "name": "stdout",
     "output_type": "stream",
     "text": [
      "Fitting 5 folds for each of 60 candidates, totalling 300 fits\n"
     ]
    },
    {
     "data": {
      "text/plain": [
       "0.7314285714285714"
      ]
     },
     "execution_count": 56,
     "metadata": {},
     "output_type": "execute_result"
    }
   ],
   "source": [
    "svc_grid = {'C': np.logspace(-5, 5, 20),\n",
    "            'kernel': ['rbf'],\n",
    "            'degree': [2,3,4]\n",
    "           }\n",
    "\n",
    "svc_gscv = GridSearchCV(svm.SVC(random_state = 31),\n",
    "                        param_grid=svc_grid,\n",
    "                        cv=5,\n",
    "                        verbose=True)\n",
    "\n",
    "svc_gscv.fit(X_train, y_train)\n",
    "svc_tuned_score = log_gscv.score(X_test, y_test)\n",
    "svc_tuned_score"
   ]
  },
  {
   "cell_type": "code",
   "execution_count": 57,
   "id": "f5ecb718-e437-4a6d-9373-acd4a2662a1c",
   "metadata": {},
   "outputs": [
    {
     "data": {
      "text/plain": [
       "{'C': 784.7599703514607, 'degree': 2, 'kernel': 'rbf'}"
      ]
     },
     "execution_count": 57,
     "metadata": {},
     "output_type": "execute_result"
    }
   ],
   "source": [
    "svc_gscv.best_params_"
   ]
  },
  {
   "cell_type": "markdown",
   "id": "da0d5a95-c778-4c2c-9f2b-49f28927e37a",
   "metadata": {},
   "source": [
    "____\n",
    "<a id=\"svm_eval\"></a>\n",
    "# <b><span style='color:dark-purple'>Step 8.3 |</span><span style='color:purple'> SVC Model Evaluation</span></b>"
   ]
  },
  {
   "cell_type": "code",
   "execution_count": 58,
   "id": "b49378fb-c2ba-4775-994c-e4bbc9963eee",
   "metadata": {},
   "outputs": [],
   "source": [
    "svc_predictions = svc_gscv.predict(X_test)"
   ]
  },
  {
   "cell_type": "code",
   "execution_count": 59,
   "id": "81c22353-2f67-4640-aa54-ac2531d28253",
   "metadata": {},
   "outputs": [
    {
     "name": "stdout",
     "output_type": "stream",
     "text": [
      "              precision    recall  f1-score   support\n",
      "\n",
      "           0       0.72      0.96      0.83       128\n",
      "           1       0.00      0.00      0.00        47\n",
      "\n",
      "    accuracy                           0.70       175\n",
      "   macro avg       0.36      0.48      0.41       175\n",
      "weighted avg       0.53      0.70      0.60       175\n",
      "\n"
     ]
    }
   ],
   "source": [
    "print(classification_report(y_test, svc_predictions))\n"
   ]
  },
  {
   "cell_type": "markdown",
   "id": "46e433eb-4550-4398-b6cc-53bfb4d7e582",
   "metadata": {},
   "source": [
    "<a id=\"svm\"></a>\n",
    "# <p style=\"background-color:purple; font-family:calibri; color:white; font-size:150%; text-align:center; border-radius:15px 50px;\">Step 9 |  RandomForestClassifier Model Building</p>"
   ]
  },
  {
   "cell_type": "markdown",
   "id": "ba254cfa-c496-47bf-a30c-ea3061653518",
   "metadata": {},
   "source": [
    "____\n",
    "<a id=\"svm_base\"></a>\n",
    "# <b><span style='color:dark-purple'>Step 9.1 |</span><span style='color:purple'> RandomForestClassifier</span></b>"
   ]
  },
  {
   "cell_type": "code",
   "execution_count": 60,
   "id": "f17b5402-cb5b-4adc-ab76-0c1cc9641ba8",
   "metadata": {},
   "outputs": [
    {
     "data": {
      "text/plain": [
       "0.7257142857142858"
      ]
     },
     "execution_count": 60,
     "metadata": {},
     "output_type": "execute_result"
    }
   ],
   "source": [
    "rand_clf = RandomForestClassifier(n_estimators=1000, random_state = 35)\n",
    "rand_clf.fit(X_train, y_train)\n",
    "ranf_score = rand_clf.score(X_test, y_test)\n",
    "ranf_score"
   ]
  },
  {
   "cell_type": "markdown",
   "id": "f25b7b58-0a1d-4b88-8680-5b2eaaccb7f7",
   "metadata": {},
   "source": [
    "____\n",
    "<a id=\"svm_hp\"></a>\n",
    "# <b><span style='color:darl-purple'>Step 9.2 |</span><span style='color:purple'> Hyper Tuning RandomForestClassifier</span></b>"
   ]
  },
  {
   "cell_type": "code",
   "execution_count": 61,
   "id": "d2c4138b-22aa-40d8-a76a-2f3698242e3f",
   "metadata": {},
   "outputs": [
    {
     "name": "stdout",
     "output_type": "stream",
     "text": [
      "Fitting 5 folds for each of 24 candidates, totalling 120 fits\n"
     ]
    },
    {
     "data": {
      "text/plain": [
       "0.7257142857142858"
      ]
     },
     "execution_count": 61,
     "metadata": {},
     "output_type": "execute_result"
    }
   ],
   "source": [
    "rand_grid = {\n",
    "    'n_estimators': [100, 500, 1000],\n",
    "    'max_features': ['sqrt', 'log2'],\n",
    "    'max_depth': [None, 10, 20, 30],\n",
    "    \n",
    "}\n",
    "\n",
    "ranf_gscv = GridSearchCV(rand_clf, param_grid=rand_grid, cv=5, verbose=1, n_jobs=-1)\n",
    "\n",
    "ranf_gscv.fit(X_train, y_train)\n",
    "ranf_tuned_score = ranf_gscv.score(X_test, y_test)\n",
    "ranf_tuned_score"
   ]
  },
  {
   "cell_type": "code",
   "execution_count": 62,
   "id": "1905d0d7-5de1-4955-919e-8d83f2b0bc04",
   "metadata": {},
   "outputs": [
    {
     "data": {
      "text/plain": [
       "{'max_depth': None, 'max_features': 'sqrt', 'n_estimators': 100}"
      ]
     },
     "execution_count": 62,
     "metadata": {},
     "output_type": "execute_result"
    }
   ],
   "source": [
    "ranf_gscv.best_params_"
   ]
  },
  {
   "cell_type": "markdown",
   "id": "9e95f47c-804f-4d0d-9f22-491117cb694e",
   "metadata": {},
   "source": [
    "____\n",
    "<a id=\"svm_eval\"></a>\n",
    "# <b><span style='color:dark-purple'>Step 9.3 |</span><span style='color:purple'> RandomForestClassifier Model Evaluation</span></b>"
   ]
  },
  {
   "cell_type": "code",
   "execution_count": 63,
   "id": "9b5056fa-2423-4145-854e-8bd4f2fdfa25",
   "metadata": {},
   "outputs": [],
   "source": [
    "ran_predictions = ranf_gscv.predict(X_test)"
   ]
  },
  {
   "cell_type": "code",
   "execution_count": 64,
   "id": "812024c1-b306-4191-b2cc-46a2f376654d",
   "metadata": {},
   "outputs": [
    {
     "name": "stdout",
     "output_type": "stream",
     "text": [
      "              precision    recall  f1-score   support\n",
      "\n",
      "           0       0.79      0.86      0.82       128\n",
      "           1       0.49      0.36      0.41        47\n",
      "\n",
      "    accuracy                           0.73       175\n",
      "   macro avg       0.64      0.61      0.62       175\n",
      "weighted avg       0.71      0.73      0.71       175\n",
      "\n"
     ]
    }
   ],
   "source": [
    "print(classification_report(y_test, ran_predictions))"
   ]
  },
  {
   "cell_type": "markdown",
   "id": "8e6e44c2-b1a8-40cd-8200-a19b5d8b389c",
   "metadata": {},
   "source": [
    "<a id=\"svm\"></a>\n",
    "# <p style=\"background-color:purple; font-family:calibri; color:white; font-size:150%; text-align:center; border-radius:15px 50px;\">Step 10 |  GradientBoostingClassifier Model Building</p>"
   ]
  },
  {
   "cell_type": "markdown",
   "id": "68ea53db-5385-41cf-a4ed-c4b0f4593303",
   "metadata": {},
   "source": [
    "____\n",
    "<a id=\"svm_base\"></a>\n",
    "# <b><span style='color:dark-purple'>Step 10.1 |</span><span style='color:purple'> GradientBoostingClassifier</span></b>"
   ]
  },
  {
   "cell_type": "code",
   "execution_count": 65,
   "id": "8a57b5b8-5af3-4982-b9f6-934d5e907584",
   "metadata": {},
   "outputs": [
    {
     "data": {
      "text/plain": [
       "0.7028571428571428"
      ]
     },
     "execution_count": 65,
     "metadata": {},
     "output_type": "execute_result"
    }
   ],
   "source": [
    "gbc = GradientBoostingClassifier()\n",
    "gbc.fit(X_train, y_train)\n",
    "gbc_score = gbc.score(X_test, y_test)\n",
    "gbc_score"
   ]
  },
  {
   "cell_type": "markdown",
   "id": "ad1514c5-f871-4327-9f73-29d34f29674a",
   "metadata": {},
   "source": [
    "____\n",
    "<a id=\"svm_hp\"></a>\n",
    "# <b><span style='color:darl-purple'>Step 10.2 |</span><span style='color:purple'> Hyper Tuning GradientBoostingClassifier</span></b>"
   ]
  },
  {
   "cell_type": "code",
   "execution_count": 66,
   "id": "5c9bd742-f281-4f25-8c15-de5864210430",
   "metadata": {},
   "outputs": [
    {
     "name": "stdout",
     "output_type": "stream",
     "text": [
      "Fitting 5 folds for each of 12 candidates, totalling 60 fits\n"
     ]
    },
    {
     "data": {
      "text/plain": [
       "0.7142857142857143"
      ]
     },
     "execution_count": 66,
     "metadata": {},
     "output_type": "execute_result"
    }
   ],
   "source": [
    "gbc_grid = {'learning_rate': [0.1, 0.01],\n",
    "            'n_estimators': [100, 500, 1000],\n",
    "            'max_depth': [2, 3]}\n",
    "\n",
    "\n",
    "gbc_gscv = GridSearchCV(GradientBoostingClassifier(),\n",
    "                      param_grid = gbc_grid,\n",
    "                           cv=5,\n",
    "                           verbose=True)\n",
    "gbc_gscv.fit(X_train, y_train)\n",
    "gbc_tuned_score = gbc_gscv.score(X_test, y_test)\n",
    "gbc_tuned_score"
   ]
  },
  {
   "cell_type": "code",
   "execution_count": 67,
   "id": "58fddd40-5cf6-4fe9-ac7f-514c9fecb95e",
   "metadata": {},
   "outputs": [
    {
     "data": {
      "text/plain": [
       "{'learning_rate': 0.01, 'max_depth': 2, 'n_estimators': 500}"
      ]
     },
     "execution_count": 67,
     "metadata": {},
     "output_type": "execute_result"
    }
   ],
   "source": [
    "gbc_gscv.best_params_"
   ]
  },
  {
   "cell_type": "markdown",
   "id": "ba9c8352-f0e3-4b5d-8346-512daa4c223f",
   "metadata": {},
   "source": [
    "____\n",
    "<a id=\"svm_eval\"></a>\n",
    "# <b><span style='color:dark-purple'>Step 10.3 |</span><span style='color:purple'> GradientBoostingClassifier Model Evaluation</span></b>"
   ]
  },
  {
   "cell_type": "code",
   "execution_count": 68,
   "id": "7ae037bf-9ffe-4b91-b747-dad05d51555c",
   "metadata": {},
   "outputs": [],
   "source": [
    "gbc_predictions = gbc_gscv.predict(X_test)"
   ]
  },
  {
   "cell_type": "code",
   "execution_count": 69,
   "id": "479e6b14-6bf4-4e9c-8fec-15de1df27d81",
   "metadata": {},
   "outputs": [
    {
     "name": "stdout",
     "output_type": "stream",
     "text": [
      "              precision    recall  f1-score   support\n",
      "\n",
      "           0       0.76      0.90      0.82       128\n",
      "           1       0.43      0.21      0.29        47\n",
      "\n",
      "    accuracy                           0.71       175\n",
      "   macro avg       0.60      0.56      0.55       175\n",
      "weighted avg       0.67      0.71      0.68       175\n",
      "\n"
     ]
    }
   ],
   "source": [
    "print(classification_report(y_test, gbc_predictions))"
   ]
  },
  {
   "cell_type": "markdown",
   "id": "11a20180-4fb6-46a7-8988-fe3127f21812",
   "metadata": {},
   "source": [
    "<a id=\"svm\"></a>\n",
    "# <p style=\"background-color:purple; font-family:calibri; color:white; font-size:150%; text-align:center; border-radius:15px 50px;\">Step 11 |  DecisionTreeClassifier Model Building</p>"
   ]
  },
  {
   "cell_type": "markdown",
   "id": "7933c185-dd50-4771-a23b-abad937a3e04",
   "metadata": {},
   "source": [
    "____\n",
    "<a id=\"svm_base\"></a>\n",
    "# <b><span style='color:dark-purple'>Step 11.1 |</span><span style='color:purple'> DecisionTreeClassifier</span></b>"
   ]
  },
  {
   "cell_type": "code",
   "execution_count": 70,
   "id": "d367d625-47ec-455b-bf82-da3caef666a9",
   "metadata": {},
   "outputs": [
    {
     "data": {
      "text/plain": [
       "0.68"
      ]
     },
     "execution_count": 70,
     "metadata": {},
     "output_type": "execute_result"
    }
   ],
   "source": [
    "dtc_clf = DecisionTreeClassifier(random_state = 4)\n",
    "dtc_clf.fit(X_train, y_train)\n",
    "dtc_score = dtc_clf.score(X_test, y_test)\n",
    "dtc_score"
   ]
  },
  {
   "cell_type": "markdown",
   "id": "e326f1ab-b06d-41a6-8537-9301bd1923c8",
   "metadata": {},
   "source": [
    "____\n",
    "<a id=\"svm_hp\"></a>\n",
    "# <b><span style='color:darl-purple'>Step 11.2 |</span><span style='color:purple'> Hyper Tuning DecisionTreeClassifier</span></b>"
   ]
  },
  {
   "cell_type": "code",
   "execution_count": 71,
   "id": "7865389b-321c-4a39-ac2d-de1eca0e90cc",
   "metadata": {},
   "outputs": [
    {
     "name": "stdout",
     "output_type": "stream",
     "text": [
      "Fitting 5 folds for each of 36 candidates, totalling 180 fits\n"
     ]
    },
    {
     "data": {
      "text/plain": [
       "0.6857142857142857"
      ]
     },
     "execution_count": 71,
     "metadata": {},
     "output_type": "execute_result"
    }
   ],
   "source": [
    "dtc_grid = {\n",
    "    'max_depth': [None, 10, 20, 30],\n",
    "    'min_samples_split': [2, 5, 10],\n",
    "    'min_samples_leaf': [1, 2, 4]\n",
    "}\n",
    "\n",
    "dtc_gscv = GridSearchCV(dtc_clf, param_grid=dtc_grid, cv=5, verbose=1, n_jobs=-1)\n",
    "dtc_gscv.fit(X_train, y_train)\n",
    "dtc_tuned_score = dtc_gscv.score(X_test, y_test)\n",
    "dtc_tuned_score"
   ]
  },
  {
   "cell_type": "code",
   "execution_count": 72,
   "id": "05891591-69e7-469f-9969-6f85c51ab25e",
   "metadata": {},
   "outputs": [
    {
     "data": {
      "text/plain": [
       "{'max_depth': 10, 'min_samples_leaf': 2, 'min_samples_split': 2}"
      ]
     },
     "execution_count": 72,
     "metadata": {},
     "output_type": "execute_result"
    }
   ],
   "source": [
    "dtc_gscv.best_params_"
   ]
  },
  {
   "cell_type": "markdown",
   "id": "7420d415-f118-404c-914f-3e62acbb51fe",
   "metadata": {},
   "source": [
    "____\n",
    "<a id=\"svm_eval\"></a>\n",
    "# <b><span style='color:dark-purple'>Step 11.3 |</span><span style='color:purple'> DecisionTreeClassifier Model Evaluation</span></b>"
   ]
  },
  {
   "cell_type": "code",
   "execution_count": 73,
   "id": "b67c64cd-75b4-4262-ba98-4fda507d59c5",
   "metadata": {},
   "outputs": [],
   "source": [
    "dtc_predictions = dtc_gscv.predict(X_test)"
   ]
  },
  {
   "cell_type": "code",
   "execution_count": 74,
   "id": "82c62a56-19c3-4394-ab4a-391a96592bd4",
   "metadata": {},
   "outputs": [
    {
     "name": "stdout",
     "output_type": "stream",
     "text": [
      "              precision    recall  f1-score   support\n",
      "\n",
      "           0       0.77      0.80      0.79       128\n",
      "           1       0.40      0.36      0.38        47\n",
      "\n",
      "    accuracy                           0.69       175\n",
      "   macro avg       0.59      0.58      0.59       175\n",
      "weighted avg       0.68      0.69      0.68       175\n",
      "\n"
     ]
    }
   ],
   "source": [
    "print(classification_report(y_test, dtc_predictions))"
   ]
  },
  {
   "cell_type": "markdown",
   "id": "7d9ea248-94f4-405f-a4da-bbaf882aac78",
   "metadata": {},
   "source": [
    "<a id=\"svm\"></a>\n",
    "# <p style=\"background-color:purple; font-family:calibri; color:white; font-size:150%; text-align:center; border-radius:15px 50px;\">Step 12 |  DataFrame Model </p> "
   ]
  },
  {
   "cell_type": "code",
   "execution_count": 75,
   "id": "58b137c0-2491-4381-88fc-35a1e7510046",
   "metadata": {},
   "outputs": [],
   "source": [
    "# create a dictionary with all scores\n",
    "score = [{'Model':'Logistic Regression', 'Score': log_score, 'Tuned_score': log_tuned_score}, \n",
    "         {'Model':'SVC', 'Score': svc_score, 'Tuned_score': svc_tuned_score},\n",
    "         {'Model':'KNN', 'Score': knn_score, 'Tuned_score': knn_tuned_score},\n",
    "         {'Model':'DecisionTreeClassifier', 'Score': dtc_score, 'Tuned_score': dtc_tuned_score},\n",
    "         {'Model':'RandomForestClassifier', 'Score': ranf_score, 'Tuned_score': ranf_tuned_score},\n",
    "         {'Model':'Gradient Boosting', 'Score': gbc_score, 'Tuned_score': gbc_tuned_score}]"
   ]
  },
  {
   "cell_type": "code",
   "execution_count": 76,
   "id": "138f497b-f680-4a3b-8447-b9ceadc0d874",
   "metadata": {},
   "outputs": [
    {
     "data": {
      "text/html": [
       "<div>\n",
       "<style scoped>\n",
       "    .dataframe tbody tr th:only-of-type {\n",
       "        vertical-align: middle;\n",
       "    }\n",
       "\n",
       "    .dataframe tbody tr th {\n",
       "        vertical-align: top;\n",
       "    }\n",
       "\n",
       "    .dataframe thead th {\n",
       "        text-align: right;\n",
       "    }\n",
       "</style>\n",
       "<table border=\"1\" class=\"dataframe\">\n",
       "  <thead>\n",
       "    <tr style=\"text-align: right;\">\n",
       "      <th></th>\n",
       "      <th>Model</th>\n",
       "      <th>Score</th>\n",
       "      <th>Tuned_score</th>\n",
       "    </tr>\n",
       "  </thead>\n",
       "  <tbody>\n",
       "    <tr>\n",
       "      <th>0</th>\n",
       "      <td>Logistic Regression</td>\n",
       "      <td>0.725714</td>\n",
       "      <td>0.731429</td>\n",
       "    </tr>\n",
       "    <tr>\n",
       "      <th>1</th>\n",
       "      <td>SVC</td>\n",
       "      <td>0.731429</td>\n",
       "      <td>0.731429</td>\n",
       "    </tr>\n",
       "    <tr>\n",
       "      <th>4</th>\n",
       "      <td>RandomForestClassifier</td>\n",
       "      <td>0.725714</td>\n",
       "      <td>0.725714</td>\n",
       "    </tr>\n",
       "    <tr>\n",
       "      <th>2</th>\n",
       "      <td>KNN</td>\n",
       "      <td>0.697143</td>\n",
       "      <td>0.714286</td>\n",
       "    </tr>\n",
       "    <tr>\n",
       "      <th>5</th>\n",
       "      <td>Gradient Boosting</td>\n",
       "      <td>0.702857</td>\n",
       "      <td>0.714286</td>\n",
       "    </tr>\n",
       "    <tr>\n",
       "      <th>3</th>\n",
       "      <td>DecisionTreeClassifier</td>\n",
       "      <td>0.680000</td>\n",
       "      <td>0.685714</td>\n",
       "    </tr>\n",
       "  </tbody>\n",
       "</table>\n",
       "</div>"
      ],
      "text/plain": [
       "                    Model     Score  Tuned_score\n",
       "0     Logistic Regression  0.725714     0.731429\n",
       "1                     SVC  0.731429     0.731429\n",
       "4  RandomForestClassifier  0.725714     0.725714\n",
       "2                     KNN  0.697143     0.714286\n",
       "5       Gradient Boosting  0.702857     0.714286\n",
       "3  DecisionTreeClassifier  0.680000     0.685714"
      ]
     },
     "execution_count": 76,
     "metadata": {},
     "output_type": "execute_result"
    }
   ],
   "source": [
    "result = pd.DataFrame(score, columns=['Model','Score','Tuned_score'])\n",
    "result.sort_values(by='Tuned_score', ascending=False)"
   ]
  },
  {
   "cell_type": "markdown",
   "id": "49ad17ad-b417-4797-8146-a2feb8b724d1",
   "metadata": {},
   "source": [
    "<div style=\"border-radius:20px; padding: 15px; font-size:100%; text-align:left; background-image: url(https://i.postimg.cc/jSJ5x4BM/bubbles-83683-640.jpg)\">\n",
    "\n",
    "<h3 style=\"font-size:185%; font-weight:bolder; color:red\">Results : </h3>\n",
    "\n",
    "<span style=\"font-size:120%; font-weight:700; color:black\">Acording to the above plots, best Model  base on Score is :</span>\n",
    "\n",
    "<span style=\"font-size:100%; font-weight:500; color:black\">\n",
    "<ul><b>Logistic Regression</b></ul>\n",
    "</br>\n",
    "</span>\n",
    "\n",
    "<span style=\"font-size:150%; font-weight:bolder; color:yellow\">So, We choose <mark> Logistic Regression </mark></span>\n",
    "</div>"
   ]
  },
  {
   "cell_type": "markdown",
   "id": "d7a891cc-2005-4350-b041-14b1a7908419",
   "metadata": {},
   "source": [
    "# **LOC ROWS**"
   ]
  },
  {
   "cell_type": "code",
   "execution_count": 77,
   "id": "071a2aba-f917-4a62-b055-e59cff7c5986",
   "metadata": {},
   "outputs": [
    {
     "data": {
      "text/html": [
       "<div>\n",
       "<style scoped>\n",
       "    .dataframe tbody tr th:only-of-type {\n",
       "        vertical-align: middle;\n",
       "    }\n",
       "\n",
       "    .dataframe tbody tr th {\n",
       "        vertical-align: top;\n",
       "    }\n",
       "\n",
       "    .dataframe thead th {\n",
       "        text-align: right;\n",
       "    }\n",
       "</style>\n",
       "<table border=\"1\" class=\"dataframe\">\n",
       "  <thead>\n",
       "    <tr style=\"text-align: right;\">\n",
       "      <th></th>\n",
       "      <th>300</th>\n",
       "    </tr>\n",
       "  </thead>\n",
       "  <tbody>\n",
       "    <tr>\n",
       "      <th>Age</th>\n",
       "      <td>58.0</td>\n",
       "    </tr>\n",
       "    <tr>\n",
       "      <th>Gender</th>\n",
       "      <td>1.0</td>\n",
       "    </tr>\n",
       "    <tr>\n",
       "      <th>Total_Bilirubin</th>\n",
       "      <td>0.8</td>\n",
       "    </tr>\n",
       "    <tr>\n",
       "      <th>Direct_Bilirubin</th>\n",
       "      <td>0.2</td>\n",
       "    </tr>\n",
       "    <tr>\n",
       "      <th>Alkaline_Phosphotase</th>\n",
       "      <td>180.0</td>\n",
       "    </tr>\n",
       "    <tr>\n",
       "      <th>Alamine</th>\n",
       "      <td>32.0</td>\n",
       "    </tr>\n",
       "    <tr>\n",
       "      <th>Aspartate</th>\n",
       "      <td>25.0</td>\n",
       "    </tr>\n",
       "    <tr>\n",
       "      <th>Total_Protiens</th>\n",
       "      <td>8.2</td>\n",
       "    </tr>\n",
       "    <tr>\n",
       "      <th>Albumin</th>\n",
       "      <td>4.4</td>\n",
       "    </tr>\n",
       "    <tr>\n",
       "      <th>Albumin_Globulin_Ratio</th>\n",
       "      <td>1.1</td>\n",
       "    </tr>\n",
       "    <tr>\n",
       "      <th>Dataset</th>\n",
       "      <td>1.0</td>\n",
       "    </tr>\n",
       "  </tbody>\n",
       "</table>\n",
       "</div>"
      ],
      "text/plain": [
       "                          300\n",
       "Age                      58.0\n",
       "Gender                    1.0\n",
       "Total_Bilirubin           0.8\n",
       "Direct_Bilirubin          0.2\n",
       "Alkaline_Phosphotase    180.0\n",
       "Alamine                  32.0\n",
       "Aspartate                25.0\n",
       "Total_Protiens            8.2\n",
       "Albumin                   4.4\n",
       "Albumin_Globulin_Ratio    1.1\n",
       "Dataset                   1.0"
      ]
     },
     "execution_count": 77,
     "metadata": {},
     "output_type": "execute_result"
    }
   ],
   "source": [
    "df.loc[300:300:].T"
   ]
  },
  {
   "cell_type": "markdown",
   "id": "cc434b4e-4258-4382-a129-441a2a875700",
   "metadata": {},
   "source": [
    "<a id=\"svm\"></a>\n",
    "# <p style=\"background-color:purple; font-family:calibri; color:white; font-size:150%; text-align:center; border-radius:15px 50px;\">Step 13 |  Making a Predictive System </p>"
   ]
  },
  {
   "cell_type": "code",
   "execution_count": 78,
   "id": "d5ab687b-2142-4d74-a2d0-2c97531d780d",
   "metadata": {},
   "outputs": [
    {
     "name": "stdout",
     "output_type": "stream",
     "text": [
      "[0]\n",
      "The person do not have Liver Disease\n"
     ]
    }
   ],
   "source": [
    "input_data = (58.0,1.0,0.8,0.2,180.0,32.0,25.0,8.2,4.4,1.1)\n",
    "\n",
    "\n",
    "# changing the input_data to numpy array\n",
    "array_input  = np.array(input_data)\n",
    "\n",
    "# reshape the array as we are predicting for one instance\n",
    "reshaped_input  = array_input.reshape(1,-1)\n",
    "\n",
    "prediction = log_gscv.predict(reshaped_input)\n",
    "print(prediction)\n",
    "\n",
    "if (prediction[0] == 0):\n",
    "    print('The person do not have Liver Disease')\n",
    "else:\n",
    "    print('The person have a Liver Problem')"
   ]
  },
  {
   "cell_type": "markdown",
   "id": "43a922ab-54f8-4c74-9ba1-1ffba37a1eeb",
   "metadata": {},
   "source": [
    "<a id=\"svm\"></a>\n",
    "# <p style=\"background-color:purple; font-family:calibri; color:white; font-size:150%; text-align:center; border-radius:15px 50px;\">Step 14 |  Saving the trained model </p>"
   ]
  },
  {
   "cell_type": "code",
   "execution_count": 79,
   "id": "23cec32c-d736-4da8-b1c1-06c3d4cce405",
   "metadata": {},
   "outputs": [],
   "source": [
    "import pickle"
   ]
  },
  {
   "cell_type": "code",
   "execution_count": 80,
   "id": "12563b24-f944-493b-8a62-994199864b74",
   "metadata": {},
   "outputs": [],
   "source": [
    "filename = 'liver_model.sav'\n",
    "pickle.dump(log_gscv, open(filename, 'wb'))"
   ]
  },
  {
   "cell_type": "code",
   "execution_count": 81,
   "id": "5b7b49a6-e196-4fde-b404-ba6afc0dff79",
   "metadata": {},
   "outputs": [],
   "source": [
    "# loading the saved model\n",
    "loaded_model = pickle.load(open('liver_model.sav', 'rb'))"
   ]
  },
  {
   "cell_type": "code",
   "execution_count": 82,
   "id": "6be5d873-e2b3-4972-bc75-91fa56ebf66e",
   "metadata": {},
   "outputs": [
    {
     "name": "stdout",
     "output_type": "stream",
     "text": [
      "[0]\n",
      "The person do not have Liver Problem\n"
     ]
    }
   ],
   "source": [
    "input_data = (58.0,1.0,0.8,0.2,180.0,32.0,25.0,8.2,4.4,1.1)\n",
    "\n",
    "# changing the input_data to numpy array\n",
    "array_input  = np.array(input_data)\n",
    "\n",
    "# reshape the array as we are predicting for one instance\n",
    "reshaped_input  = array_input.reshape(1,-1)\n",
    "\n",
    "prediction = loaded_model.predict(reshaped_input)\n",
    "print(prediction)\n",
    "\n",
    "if (prediction[0] == 0):\n",
    "    print('The person do not have Liver Problem')\n",
    "else:\n",
    "    print('The person have a Liver Problem')"
   ]
  },
  {
   "cell_type": "code",
   "execution_count": 83,
   "id": "5086f761-cf88-4b74-ad66-f82f0974b02d",
   "metadata": {},
   "outputs": [
    {
     "name": "stdout",
     "output_type": "stream",
     "text": [
      "Age\n",
      "Gender\n",
      "Total_Bilirubin\n",
      "Direct_Bilirubin\n",
      "Alkaline_Phosphotase\n",
      "Alamine\n",
      "Aspartate\n",
      "Total_Protiens\n",
      "Albumin\n",
      "Albumin_Globulin_Ratio\n"
     ]
    }
   ],
   "source": [
    "for column in X.columns:\n",
    "  print(column)"
   ]
  },
  {
   "cell_type": "markdown",
   "id": "3c3fda62-f6b6-47c5-9b18-d5f1c4b76827",
   "metadata": {},
   "source": [
    "<img src='https://i.postimg.cc/t4b3WtCy/1000-F-291522205-Xkrm-S421-Fj-SGTMR.jpg'>"
   ]
  },
  {
   "cell_type": "code",
   "execution_count": null,
   "id": "e7f89413-0b84-44ad-b29a-f42f283170bc",
   "metadata": {},
   "outputs": [],
   "source": []
  },
  {
   "cell_type": "markdown",
   "id": "32d075c9-5d45-4e35-a43a-2dc401350246",
   "metadata": {},
   "source": [
    "<div style=\"border-radius: 15px; border: 3px dashed #8a7d7f; padding: 20px; background-color: #f8f9fa; font-size: 100%; text-align: center; position: relative; box-shadow: 0 0 15px rgba(0, 0, 0, 0.2);\">\n",
    "    <div style=\"position: absolute; top: 0; left: 0; width: 100%; height: 100%; background: url('https://www.transparenttextures.com/patterns/confetti.png') repeat; opacity: 0.1; border-radius: 15px;\"></div>\n",
    "    <h4 style=\"color: #333333; margin-bottom: 20px; position: relative; z-index: 1;\">🙏 Thank you for taking the time to consider this matter 🙏</h4>\n",
    "    <hr style=\"border-top: 1px solid #dcdcdc; position: relative; z-index: 1;\">\n",
    "    <h4 style=\"color: #555555; position: relative; z-index: 1;\"><b>Author:</b> Asif Shaikh</h4>\n",
    "    <hr style=\"border-top: 1px solid #dcdcdc; position: relative; z-index: 1;\">\n",
    "    <center style=\"position: relative; z-index: 1;\">\n",
    "        <strong style=\"color: #333333; font-size: 120%;\">👍 If you enjoyed this Notebook, please give it an upvote. 👍</strong>\n",
    "    </center>\n",
    "    <br>\n",
    "    <center style=\"position: relative; z-index: 1;\">\n",
    "        <strong style=\"color: #e91e63; font-size: 120%;\">💫 Best Wishes 💫</strong>\n",
    "    </center>\n",
    "</div>\n"
   ]
  }
 ],
 "metadata": {
  "kernelspec": {
   "display_name": "Python 3 (ipykernel)",
   "language": "python",
   "name": "python3"
  },
  "language_info": {
   "codemirror_mode": {
    "name": "ipython",
    "version": 3
   },
   "file_extension": ".py",
   "mimetype": "text/x-python",
   "name": "python",
   "nbconvert_exporter": "python",
   "pygments_lexer": "ipython3",
   "version": "3.11.5"
  },
  "papermill": {
   "default_parameters": {},
   "duration": 28.314256,
   "end_time": "2023-08-09T10:23:25.114424",
   "environment_variables": {},
   "exception": null,
   "input_path": "__notebook__.ipynb",
   "output_path": "__notebook__.ipynb",
   "parameters": {},
   "start_time": "2023-08-09T10:22:56.800168",
   "version": "2.4.0"
  }
 },
 "nbformat": 4,
 "nbformat_minor": 5
}
